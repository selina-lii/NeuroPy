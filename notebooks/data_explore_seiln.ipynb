{
 "cells": [
  {
   "cell_type": "code",
   "execution_count": 7,
   "metadata": {},
   "outputs": [],
   "source": [
    "%load_ext autoreload\n",
    "%autoreload 2\n",
    "from pathlib import Path\n",
    "from neuropy.core.session import ProcessData\n",
    "from neuropy.core.neurons import Neurons\n",
    "from neuropy.analyses import correlations \n",
    "import numpy as np\n",
    "import neuropy.analyses.ms_connectivity as msconn\n",
    "\n",
    "import matplotlib.pyplot as plt\n",
    "import time\n",
    "data_dir = Path('/home/selinali/Documents/ms_synchrony/sessions/RatU/RatUDay2NSD')\n",
    "sess = ProcessData(data_dir)\n",
    "paradigm = np.load(sess.filePrefix.with_suffix('.paradigm.npy'),allow_pickle=True).item()"
   ]
  },
  {
   "cell_type": "code",
   "execution_count": 8,
   "metadata": {},
   "outputs": [],
   "source": [
    "start=paradigm['epochs']['start'][2]\n",
    "stop=paradigm['epochs']['stop'][2]"
   ]
  },
  {
   "cell_type": "code",
   "execution_count": 9,
   "metadata": {},
   "outputs": [
    {
     "data": {
      "text/plain": [
       "(array([12856., 23676., 34496.]), array([23676., 34496., 45316.]))"
      ]
     },
     "execution_count": 9,
     "metadata": {},
     "output_type": "execute_result"
    }
   ],
   "source": [
    "chunk_starts = np.histogram_bin_edges([],bins=3,range=(start,stop))[:-1]\n",
    "chunk_stops = np.histogram_bin_edges([],bins=3,range=(start,stop))[1:]\n",
    "chunk_starts, chunk_stops"
   ]
  },
  {
   "cell_type": "code",
   "execution_count": 10,
   "metadata": {},
   "outputs": [
    {
     "data": {
      "text/plain": [
       "[Neurons\n",
       "  n_neurons: 249\n",
       "  t_start: 12856.0\n",
       "  t_stop: 23676.0\n",
       "  neuron_type: ['inter' 'mua' 'pyr'],\n",
       " Neurons\n",
       "  n_neurons: 249\n",
       "  t_start: 23676.0\n",
       "  t_stop: 34496.0\n",
       "  neuron_type: ['inter' 'mua' 'pyr'],\n",
       " Neurons\n",
       "  n_neurons: 249\n",
       "  t_start: 34496.0\n",
       "  t_stop: 45316.0\n",
       "  neuron_type: ['inter' 'mua' 'pyr']]"
      ]
     },
     "execution_count": 10,
     "metadata": {},
     "output_type": "execute_result"
    }
   ],
   "source": [
    "neurons = Neurons.from_dict(np.load(sess.filePrefix.with_suffix('.neurons.stable.npy'),allow_pickle=True).item())\n",
    "sleep_neurons=[]\n",
    "for i in range(3):\n",
    "    sleep_neurons.append(neurons.time_slice(chunk_starts[i],chunk_stops[i]))\n",
    "sleep_neurons"
   ]
  },
  {
   "cell_type": "code",
   "execution_count": 11,
   "metadata": {},
   "outputs": [],
   "source": [
    "indices = np.argsort([neurons.spiketrains[_].shape[0] for _ in range(neurons.n_neurons)])"
   ]
  },
  {
   "cell_type": "code",
   "execution_count": 12,
   "metadata": {},
   "outputs": [
    {
     "data": {
      "text/plain": [
       "array([117,  60, 105,  21, 188, 111, 181, 235,   9,  23, 194, 234, 119,\n",
       "        90,  54, 187, 167, 176,  24,  82, 180, 107, 133, 128, 113, 205,\n",
       "       224,  53, 129, 184,  96,  37, 161, 209, 198, 182, 190,  46,  95,\n",
       "       192,  86, 212,  47, 162,  40,  58,  80,  63, 217, 163, 213, 193,\n",
       "       140, 175, 156, 143, 232, 242, 208, 202,   5,  44, 201,  51, 137,\n",
       "       238,  71, 216,  77, 229,  78, 220, 218, 145, 118, 112, 172, 214,\n",
       "       165,   6, 122, 114,  73, 207,   2, 191, 233, 169,  27, 152, 131,\n",
       "       200,  13, 132, 177,  88,  83,  34, 170, 142,  97,  84,  59, 130,\n",
       "        26, 199, 183,  50, 243, 237, 225, 160, 246, 221,  42, 219,  33,\n",
       "       222,  57, 115, 236, 211, 178,   7,  52, 240,  30,  75, 230, 210,\n",
       "       136, 135,  11, 248, 127, 153, 244,  32,  92,  25, 203, 186,  56,\n",
       "       125,  35, 239, 110, 102,  67,  19,  74, 166,  14, 227,  93,  81,\n",
       "        87, 168, 196,  72, 174, 148, 173,  48,  65,  69,  62, 247, 164,\n",
       "       206,  45, 171,  99,  16, 141, 139,  66, 154,  89,  18, 106, 150,\n",
       "       155, 245,  28, 146,  70, 147,  79, 120,  38, 101, 241,  64,  39,\n",
       "       123, 158,  68, 226,  85,   4,  94, 126,  29,  49,  10, 159, 195,\n",
       "       100,  98, 104,  91, 134, 149, 103,  36, 223, 157, 138, 121,   8,\n",
       "        61,  41,  31,   0, 116,  17, 215, 108,   1,  55,  12, 204, 151,\n",
       "       124, 109, 144,   3, 228, 231, 197, 179,  22,  76, 185, 189,  43,\n",
       "        15,  20])"
      ]
     },
     "execution_count": 12,
     "metadata": {},
     "output_type": "execute_result"
    }
   ],
   "source": [
    "indices"
   ]
  },
  {
   "cell_type": "code",
   "execution_count": 7,
   "metadata": {},
   "outputs": [
    {
     "data": {
      "text/plain": [
       "(3613, 3028035)"
      ]
     },
     "execution_count": 7,
     "metadata": {},
     "output_type": "execute_result"
    }
   ],
   "source": [
    "neurons.spiketrains[indices[0]].shape[0], neurons.spiketrains[indices[-1]].shape[0]"
   ]
  },
  {
   "cell_type": "code",
   "execution_count": null,
   "metadata": {},
   "outputs": [
    {
     "data": {
      "text/plain": [
       "249"
      ]
     },
     "execution_count": 8,
     "metadata": {},
     "output_type": "execute_result"
    }
   ],
   "source": [
    "neurons.n_neurons"
   ]
  },
  {
   "cell_type": "code",
   "execution_count": null,
   "metadata": {},
   "outputs": [
    {
     "data": {
      "text/plain": [
       "Neurons\n",
       " n_neurons: 151\n",
       " t_start: 0.0\n",
       " t_stop: 48498.5344\n",
       " neuron_type: ['pyr']"
      ]
     },
     "execution_count": 9,
     "metadata": {},
     "output_type": "execute_result"
    }
   ],
   "source": [
    "neurons.get_neuron_type('pyr')\n",
    "# get indices of pyr and ints\n",
    "# calculate ccg between some pairs of them\n",
    "# calculate strength of ccg\n",
    "# TODO is there a data struture that stores connectivities"
   ]
  },
  {
   "cell_type": "code",
   "execution_count": null,
   "metadata": {},
   "outputs": [
    {
     "name": "stdout",
     "output_type": "stream",
     "text": [
      "data sampling rate\t 30000\n",
      "eeg sampling rate\t 1250\n",
      "n_channels\t\t 192\n",
      "signal dtype\t\t 16\n",
      "skipped channels\t [ 17 140 163]\n",
      "discarded channels\t []\n",
      "source file\t\t /home/selinali/Documents/ms_synchrony/sessions/RatU/RatUDay2NSD/RatU_Day2NSD_2021-07-24_08-16-38.xml\n",
      "basepath\t\t /home/selinali/Documents/ms_synchrony/sessions/RatU/RatUDay2NSD\n",
      "file prefix\t\t /home/selinali/Documents/ms_synchrony/sessions/RatU/RatUDay2NSD/RatU_Day2NSD_2021-07-24_08-16-38\n",
      "probegroup\t\t <neuropy.core.probe.ProbeGroup object at 0x7f1fdd8e2ed0>\n",
      "channel groups\t\t [[0 1 2 3 4 5 6 7 8 9 10 11 12 13 14 15]\n",
      " [16 17 18 19 20 21 22 23 24 25 26 27 28 29 30 31]\n",
      " [32 33 34 35 36 37 38 39 40 41 42 43 44 45 46 47]\n",
      " [48 49 50 51 52 53 54 55 56 57 58 59 60 61 62 63]\n",
      " [64 65 66 67 68 69 70 71 72 73 74 75 76 77 78 79]\n",
      " [80 81 82 83 84 85 86 87 88 89 90 91 92 93 94 95]\n",
      " [96 97 98 99 100 101 102 103 104 105 106 107 108 109 110 111]\n",
      " [112 113 114 115 116 117 118 119 120 121 122 123 124 125 126 127]\n",
      " [128 129 130 131 132 133 134 135 136 137 138 139 140 141 142 143]\n",
      " [144 145 146 147 148 149 150 151 152 153 154 155 156 157 158 159]\n",
      " [160 161 162 163 164 165 166 167 168 169 170 171 172 173 174 175]\n",
      " [176 177 178 179 180 181 182 183 184 185 186 187 188 189 190 191]]\n"
     ]
    }
   ],
   "source": [
    "print(\"data sampling rate\\t\", sess.recinfo.dat_sampling_rate)\n",
    "print(\"eeg sampling rate\\t\", sess.recinfo.eeg_sampling_rate)\n",
    "print(\"n_channels\\t\\t\", sess.recinfo.n_channels)\n",
    "print(\"signal dtype\\t\\t\", sess.recinfo.sig_dtype)\n",
    "print(\"skipped channels\\t\", sess.recinfo.skipped_channels)\n",
    "print(\"discarded channels\\t\", sess.recinfo.discarded_channels)\n",
    "print(\"source file\\t\\t\", sess.recinfo.source_file)\n",
    "# print(sess.recinfo.to_dict())\n",
    "print(\"basepath\\t\\t\", sess.basepath)\n",
    "print(\"file prefix\\t\\t\", sess.filePrefix)\n",
    "print(\"probegroup\\t\\t\", sess.probegroup)\n",
    "print(\"channel groups\\t\\t\",sess.recinfo.channel_groups)"
   ]
  },
  {
   "cell_type": "code",
   "execution_count": 115,
   "metadata": {},
   "outputs": [],
   "source": [
    "import time\n",
    "bin_size = 0.0005 # 0.5 ms\n",
    "window_size = 0.02 # 20 ms\n",
    "\n",
    "def get_ccg_timed(id1,id2):\n",
    "    st=time.time()\n",
    "    # get ccg between neurons 0 and 1\n",
    "    neuron_inds = [id1, id2]\n",
    "    ccg = correlations.spike_correlations(neurons, neuron_inds, sample_rate=sess.recinfo.dat_sampling_rate,\n",
    "                                        bin_size=bin_size, window_size=window_size,use_cupy=True)\n",
    "    end=time.time()\n",
    "    print(\"time elapsed \", end-st)\n",
    "    return ccg"
   ]
  },
  {
   "cell_type": "code",
   "execution_count": 116,
   "metadata": {},
   "outputs": [
    {
     "name": "stdout",
     "output_type": "stream",
     "text": [
      "time elapsed  1.1474411487579346\n",
      "time elapsed  0.8456809520721436\n",
      "time elapsed  1.0230090618133545\n",
      "time elapsed  0.977959156036377\n"
     ]
    }
   ],
   "source": [
    "# timing with cupy:\n",
    "\"\"\"\n",
    "shortest spiketrains in U day 4 session (two way)\n",
    "time elapsed  0.8515679836273193\n",
    "time elapsed  0.8398668766021729\n",
    "longest spiketrains in U day 4 session (two way)\n",
    "time elapsed  0.9864428043365479\n",
    "time elapsed  0.9447596073150635\n",
    "\"\"\"\n",
    "# timing without using cupy:\n",
    "\"\"\"\n",
    "shortest spiketrains in U day 4 session (two way)\n",
    "0.7386939525604248\n",
    "0.7017326354980469\n",
    "longest spiketrains in U day 4 session (two way)\n",
    "1.7350304126739502\n",
    "1.7177770137786865\n",
    "\"\"\"\n",
    "ccg01S=get_ccg_timed(indices[0],indices[1])\n",
    "ccg10S=get_ccg_timed(indices[1],indices[0])\n",
    "\n",
    "ccg01L=get_ccg_timed(indices[-1],indices[-2])\n",
    "ccg10L=get_ccg_timed(indices[-2],indices[-1])"
   ]
  },
  {
   "cell_type": "code",
   "execution_count": null,
   "metadata": {},
   "outputs": [],
   "source": [
    "def get_ccg_timed_group(neuron_inds):\n",
    "    st=time.time()\n",
    "    # get ccg between neurons 0 and 1\n",
    "    ccg = correlations.spike_correlations(neurons, neuron_inds, sample_rate=sess.recinfo.dat_sampling_rate,\n",
    "                                        bin_size=bin_size, window_size=window_size,use_cupy=True)\n",
    "    end=time.time()\n",
    "    print(\"time elapsed \", end-st)\n",
    "    return ccg"
   ]
  },
  {
   "cell_type": "code",
   "execution_count": null,
   "metadata": {},
   "outputs": [
    {
     "name": "stdout",
     "output_type": "stream",
     "text": [
      "time elapsed  2.056055784225464\n"
     ]
    }
   ],
   "source": [
    "# timing with cupy:\n",
    "# time elapsed  2.0314290523529053\n",
    "\n",
    "# timing without using cupy:\n",
    "# time elapsed  11.44138479232788\n",
    "\n",
    "ccg10L=get_ccg_timed_group(indices[-10:])"
   ]
  },
  {
   "cell_type": "code",
   "execution_count": null,
   "metadata": {},
   "outputs": [
    {
     "data": {
      "text/plain": [
       "(10, 10, 41)"
      ]
     },
     "execution_count": 15,
     "metadata": {},
     "output_type": "execute_result"
    }
   ],
   "source": [
    "ccg10L.shape"
   ]
  },
  {
   "cell_type": "code",
   "execution_count": null,
   "metadata": {},
   "outputs": [
    {
     "data": {
      "image/png": "[encoded data removed]",
      "text/plain": [
       "<Figure size 640x480 with 1 Axes>"
      ]
     },
     "metadata": {},
     "output_type": "display_data"
    }
   ],
   "source": [
    "import seaborn as sns\n",
    "_, ax = plt.subplots()\n",
    "bins = np.arange(-window_size / 2, window_size / 2 + bin_size, bin_size)\n",
    "ax.bar(bins, ccg10S[1,0], width=bin_size)\n",
    "ax.set_xlabel(\"Time (s)\")\n",
    "ax.set_ylabel(\"Count\")\n",
    "ax.set_title(\"CCG between two lowest firing neurons\")\n",
    "sns.despine(ax=ax)"
   ]
  },
  {
   "cell_type": "code",
   "execution_count": null,
   "metadata": {},
   "outputs": [
    {
     "data": {
      "image/png": "[encoded data removed]",
      "text/plain": [
       "<Figure size 640x480 with 1 Axes>"
      ]
     },
     "metadata": {},
     "output_type": "display_data"
    }
   ],
   "source": [
    "import seaborn as sns\n",
    "_, ax = plt.subplots()\n",
    "bins = np.arange(-window_size / 2, window_size / 2 + bin_size, bin_size)\n",
    "ax.bar(bins, ccg01L[0,1], width=bin_size)\n",
    "ax.set_xlabel(\"Time (s)\")\n",
    "ax.set_ylabel(\"Count\")\n",
    "ax.set_title(\"CCG between two highest firing neurons\")\n",
    "sns.despine(ax=ax)"
   ]
  },
  {
   "cell_type": "code",
   "execution_count": null,
   "metadata": {},
   "outputs": [],
   "source": [
    "sess.neurons=neurons"
   ]
  },
  {
   "cell_type": "code",
   "execution_count": null,
   "metadata": {},
   "outputs": [],
   "source": [
    "nneurons = np.zeros((3,3))\n",
    "frates = []\n",
    "mean_firing_rates = np.zeros((3,3))\n",
    "sd_firing_rates = np.zeros((3,3))\n",
    "iqr =  np.zeros((3,3))\n",
    "types = ['pyr','inter','mua']\n",
    "for i in range(3): # sleep chunk\n",
    "    for j in range(len(types)): # type: pyr, inter, mua\n",
    "        neus = sleep_neurons[i].get_neuron_type(types[j])\n",
    "        nneurons[i,j] = neus.n_neurons\n",
    "        time_duration = chunk_stops[i]-chunk_starts[i]\n",
    "        frate = [neus.spiketrains[_].shape[0] for _ in range(neus.n_neurons)]/time_duration\n",
    "        frates.append([frate])\n",
    "        mean_firing_rates[i,j] = np.mean(frate)\n",
    "        sd_firing_rates[i,j] = np.std(frate)\n",
    "        iqr[i,j]  = np.percentile(frate, 75)-np.percentile(frate, 25)"
   ]
  },
  {
   "attachments": {},
   "cell_type": "markdown",
   "metadata": {},
   "source": [
    "Load all labeled NSD sessions in Bapun's data\n",
    "\n",
    "    # mean firing rates did not change across sleep chunks\n"
   ]
  },
  {
   "cell_type": "code",
   "execution_count": null,
   "metadata": {},
   "outputs": [
    {
     "name": "stdout",
     "output_type": "stream",
     "text": [
      "==================================\n",
      "Basic info, RatS/Day2NSD\n",
      "{'metadata': {}, 'epochs': {'start': {0: 0, 1: 2360, 2: 6033, 3: 36902}, 'stop': {0: 2358, 1: 6031, 2: 36899, 3: 40233}, 'label': {0: 'pre', 1: 'maze', 2: 'post', 3: 're-maze'}}}\n"
     ]
    },
    {
     "ename": "NameError",
     "evalue": "name 'time_duration' is not defined",
     "output_type": "error",
     "traceback": [
      "\u001b[0;31m---------------------------------------------------------------------------\u001b[0m",
      "\u001b[0;31mNameError\u001b[0m                                 Traceback (most recent call last)",
      "Cell \u001b[0;32mIn[16], line 46\u001b[0m\n\u001b[1;32m     44\u001b[0m neus \u001b[39m=\u001b[39m sleep_neurons[i]\u001b[39m.\u001b[39mget_neuron_type(types[j])\n\u001b[1;32m     45\u001b[0m nneurons[i,j] \u001b[39m=\u001b[39m neus\u001b[39m.\u001b[39mn_neurons\n\u001b[0;32m---> 46\u001b[0m frate \u001b[39m=\u001b[39m [neus\u001b[39m.\u001b[39mspiketrains[_]\u001b[39m.\u001b[39mshape[\u001b[39m0\u001b[39m] \u001b[39mfor\u001b[39;00m _ \u001b[39min\u001b[39;00m \u001b[39mrange\u001b[39m(neus\u001b[39m.\u001b[39mn_neurons)]\u001b[39m/\u001b[39mtime_duration\n\u001b[1;32m     47\u001b[0m frates\u001b[39m.\u001b[39mappend([frate])\n\u001b[1;32m     48\u001b[0m time_duration \u001b[39m=\u001b[39m chunk_stops[i]\u001b[39m-\u001b[39mchunk_starts[i]\n",
      "\u001b[0;31mNameError\u001b[0m: name 'time_duration' is not defined"
     ]
    }
   ],
   "source": [
    "from pathlib import Path\n",
    "from neuropy.core.session import ProcessData\n",
    "from neuropy.core.neurons import Neurons\n",
    "import neuropy.analyses.correlations as correlations\n",
    "import numpy as np\n",
    "import matplotlib.pyplot as plt\n",
    "\n",
    "all_sess = [\"RatS/Day2NSD\",\n",
    "            \"RatR/Day1NSD\",\n",
    "            \"RatV/RatVDay1NSD\",\n",
    "            \"RatV/RatVDay3NSD\",\n",
    "            \"RatU/RatUDay2NSD\"]\n",
    "\n",
    "for sess_name in all_sess:\n",
    "    print(\"==================================\")\n",
    "    print(f\"Basic info, {sess_name}\")\n",
    "\n",
    "    # Load data\n",
    "    data_dir = Path(f'/home/selinali/Documents/ms_synchrony/sessions/{sess_name}')\n",
    "    sess = ProcessData(data_dir)\n",
    "    paradigm = np.load(sess.filePrefix.with_suffix('.paradigm.npy'),allow_pickle=True).item()\n",
    "\n",
    "    # Chunk into 3h slep sessions\n",
    "    start=paradigm['epochs']['start'][2]\n",
    "    stop=paradigm['epochs']['stop'][2]\n",
    "    chunk_starts = np.histogram_bin_edges([],bins=3,range=(start,stop))[:-1]\n",
    "    chunk_stops = np.histogram_bin_edges([],bins=3,range=(start,stop))[1:]\n",
    "    chunk_starts, chunk_stops\n",
    "    neurons = Neurons.from_dict(np.load(sess.filePrefix.with_suffix('.neurons.stable.npy'),allow_pickle=True).item())\n",
    "    sleep_neurons=[]\n",
    "    for i in range(3):\n",
    "        sleep_neurons.append(neurons.time_slice(chunk_starts[i],chunk_stops[i]))\n",
    "    print(paradigm)\n",
    "\n",
    "    # Get population stats\n",
    "    nneurons = np.zeros((3,3))\n",
    "    frates = []\n",
    "    mean_firing_rates = np.zeros((3,3))\n",
    "    sd_firing_rates = np.zeros((3,3))\n",
    "    iqr =  np.zeros((3,3))\n",
    "    types = ['pyr','inter','mua']\n",
    "    for i in range(3): # sleep chunk\n",
    "        for j in range(len(types)): # type: pyr, inter, mua\n",
    "            neus = sleep_neurons[i].get_neuron_type(types[j])\n",
    "            nneurons[i,j] = neus.n_neurons\n",
    "            frate = [neus.spiketrains[_].shape[0] for _ in range(neus.n_neurons)]/time_duration\n",
    "            frates.append([frate])\n",
    "            time_duration = chunk_stops[i]-chunk_starts[i]\n",
    "            mean_firing_rates[i,j] = np.mean(frate)\n",
    "            sd_firing_rates[i,j] = np.std(frate)\n",
    "            iqr[i,j]  = np.percentile(frate, 75)-np.percentile(frate, 25)\n",
    "    # Standard t-test\n",
    "    # check if mean firing rate changes over sleep per cell type\n",
    "    from scipy.stats import ttest_ind\n",
    "    pyr03,pyr46,pyr79=frates[0][0],frates[3][0],frates[6][0]\n",
    "    int03,int46,int79=frates[1][0],frates[4][0],frates[7][0]\n",
    "    mua03,mua46,mua79=frates[2][0],frates[5][0],frates[8][0]\n",
    "\n",
    "    # Print\n",
    "    print(\"n_neurons (pyr, int, mua)\",nneurons[0])\n",
    "\n",
    "    print(f\"Mean firing rates P VALUES, {sess_name}\")\n",
    "    print(\"SLEEP1, SLEEP2, SLEEP3 are evenly chunked from POST\")\n",
    "    print(\"1. Pyramidal neurons\")\n",
    "    print(\"SLEEP1 VS SLEEP2 \", ttest_ind(pyr03,pyr46,equal_var=True).pvalue)\n",
    "    print(\"SLEEP1 VS SLEEP3 \", ttest_ind(pyr03,pyr79,equal_var=True).pvalue)\n",
    "    print(\"SLEEP2 VS SLEEP3 \", ttest_ind(pyr46,pyr79,equal_var=True).pvalue)\n",
    "    print(\"2. Interneurons\")\n",
    "    print(\"SLEEP1 VS SLEEP2 \", ttest_ind(int03,int46,equal_var=True).pvalue)\n",
    "    print(\"SLEEP1 VS SLEEP3 \", ttest_ind(int03,int79,equal_var=True).pvalue)\n",
    "    print(\"SLEEP2 VS SLEEP3 \", ttest_ind(int46,int79,equal_var=True).pvalue)\n",
    "    print(\"3. Multi-unit activities\")\n",
    "    print(\"SLEEP1 VS SLEEP2 \", ttest_ind(mua03,mua46,equal_var=True).pvalue)\n",
    "    print(\"SLEEP1 VS SLEEP3 \", ttest_ind(mua03,mua79,equal_var=True).pvalue)\n",
    "    print(\"SLEEP2 VS SLEEP3 \", ttest_ind(mua46,mua79,equal_var=True).pvalue)\n",
    "\n",
    "    print(\"mean_firing_rates\",mean_firing_rates)\n",
    "    print(\"sd_firing_rates\",sd_firing_rates)\n",
    "    print(\"iqr 25%\",iqr)\n",
    "    print(\"==================================\")"
   ]
  },
  {
   "cell_type": "code",
   "execution_count": null,
   "metadata": {},
   "outputs": [
    {
     "name": "stdout",
     "output_type": "stream",
     "text": [
      "mean_firing_rates [[ 0.76174935 23.40442083  9.9865559 ]\n",
      " [ 0.70615612 21.99234442  9.83653119]\n",
      " [ 0.72449841 22.97850431 10.24840197]]\n",
      "sd_firing_rates [[ 0.76751907 10.37316044 12.59902528]\n",
      " [ 0.61818271  9.45090633 12.45793539]\n",
      " [ 0.65495225  9.81591036 12.18445028]]\n",
      "iqr 25% [[ 0.71130175 17.93597505 12.82372921]\n",
      " [ 0.70180222 16.13502773 13.33468115]\n",
      " [ 0.66081331 16.35469039 13.01915434]]\n",
      "nneurons [[151.  12.  86.]\n",
      " [151.  12.  86.]\n",
      " [151.  12.  86.]]\n"
     ]
    }
   ],
   "source": [
    "print(\"mean_firing_rates\",mean_firing_rates)\n",
    "print(\"sd_firing_rates\",sd_firing_rates)\n",
    "print(\"iqr 25%\",iqr)\n",
    "print(\"nneurons\",nneurons)"
   ]
  },
  {
   "cell_type": "code",
   "execution_count": null,
   "metadata": {},
   "outputs": [
    {
     "name": "stdout",
     "output_type": "stream",
     "text": [
      "Mean firing rates P VALUES, RatUDay2NSD\n",
      "SLEEP1, SLEEP2, SLEEP3 are evenyl chunked from POST\n",
      "1. Pyramidal cells\n",
      "SLEEP1 VS SLEEP2  0.5422113289654271\n",
      "SLEEP1 VS SLEEP3  0.7101296357072364\n",
      "SLEEP2 VS SLEEP3  0.8031944388696979\n"
     ]
    }
   ],
   "source": [
    "from scipy.stats import ttest_ind\n",
    "pyr03,pyr46,pyr79=frates[0][0],frates[3][0],frates[6][0]\n",
    "print(\"Mean firing rates P VALUES, RatUDay2NSD\")\n",
    "print(\"SLEEP1, SLEEP2, SLEEP3 are evenyl chunked from POST\")\n",
    "print(\"1. Pyramidal cells\")\n",
    "print(\"SLEEP1 VS SLEEP2 \", ttest_ind(pyr03,pyr46,equal_var=True).pvalue)\n",
    "print(\"SLEEP1 VS SLEEP3 \", ttest_ind(pyr03,pyr79,equal_var=True).pvalue)\n",
    "print(\"SLEEP2 VS SLEEP3 \", ttest_ind(pyr46,pyr79,equal_var=True).pvalue)\n",
    "# mean firing rates did not change across sleep chunks"
   ]
  },
  {
   "cell_type": "markdown",
   "metadata": {},
   "source": [
    "# jitter"
   ]
  },
  {
   "cell_type": "code",
   "execution_count": null,
   "metadata": {},
   "outputs": [
    {
     "name": "stdout",
     "output_type": "stream",
     "text": [
      "shift 525\n",
      "11.642866611480713\n"
     ]
    }
   ],
   "source": [
    "import neuropy.analyses.ms_connectivity as msconn\n",
    "# jitter based synchrony index\n",
    "ts = 0.0005 # bin size\n",
    "tj = 0.005 # jitter timescale\n",
    "window_size = 0.02\n",
    "#50,-14\n",
    "# Jitter\n",
    "start=time.time()\n",
    "ccg_jitters = msconn.ccg_jitter(neurons=neurons,\n",
    "    neuron_inds=[indices[-14],indices[50]],\n",
    "    sample_rate=30000,\n",
    "    bin_size=ts,\n",
    "    duration=window_size,\n",
    "    jscale=ts*5,\n",
    "    njitter=100,\n",
    "    alpha=0.05,\n",
    "    use_cupy=True,\n",
    ")\n",
    "# Jitter was really slow when pairwise. takes 20s for 10 jitters\n",
    "end=time.time()\n",
    "print(end-start)\n",
    "# The new version runs ccg between all jitters - \n",
    "# 1000 jitters takes forever (>2m)\n",
    "# 500 jitters takes 20s\n",
    "# 100 jitters - 1.2s\n",
    "# 200 jitters - 3s\n",
    "# Still inefficient because we're calculating pairwise between jitters as well"
   ]
  },
  {
   "cell_type": "code",
   "execution_count": 32,
   "metadata": {},
   "outputs": [],
   "source": [
    "ccg=ccg_jitters[0]"
   ]
  },
  {
   "cell_type": "code",
   "execution_count": null,
   "metadata": {},
   "outputs": [
    {
     "name": "stdout",
     "output_type": "stream",
     "text": [
      "8\n",
      "(101, 75) (17,)\n"
     ]
    }
   ],
   "source": [
    "from scipy.signal import windows, convolve\n",
    "from scipy.stats import poisson\n",
    "from scipy import ndimage\n",
    "# Auto-assign appropriate hollow fraction if not specified\n",
    "# generate window\n",
    "# get center indices of window\n",
    "W=5\n",
    "wintype = \"gauss\"\n",
    "hollow_frac=None\n",
    "if wintype == \"gauss\":\n",
    "    hollow_frac = hollow_frac or 0.6\n",
    "    sigma = W/2\n",
    "    W = int(6*sigma + (2 if W%2 else 1))\n",
    "    center = int(3*sigma + (0.5 if W%2 else 0))\n",
    "    print(center)\n",
    "    window = windows.gaussian(W,std=sigma)/(2*np.pi*sigma)\n",
    "elif wintype == \"rect\":\n",
    "    hollow_frac = hollow_frac or 0.42\n",
    "    if W%2==0: W+=1\n",
    "    center = W//2\n",
    "    window = windows.boxcar(W)\n",
    "elif wintype == \"triang\":\n",
    "    hollow_frac = hollow_frac or 0.63\n",
    "    W = 2*W+(-1 if W%2 else 1)\n",
    "    center = W//2\n",
    "    window = windows.triang(W)\n",
    "\n",
    "# hollow and normalize window\n",
    "window[center]*=(1-hollow_frac)\n",
    "window /= np.sum(window)\n",
    "# make window 2D if needed\n",
    "# window = np.repeat(window,ccg.shape[1])\n",
    "# if len(window.shape)==1:\n",
    "#     window=window[...,np.newaxis]\n",
    "# padding\n",
    "ccg_pad=np.hstack([ccg[...,:W][::-1],ccg,ccg[...,-W:][::-1]])\n",
    "print(ccg_pad.shape,window.shape)\n",
    "\n",
    "# convolve window with ccg\n",
    "pred = ndimage.convolve1d(ccg_pad, window, axis=-1)\n",
    "pred=pred[...,W:-W]\n",
    "\n",
    "# two-tailed one-sample test of whether the two values are significantly different in Poisson distribution\n",
    "pvals = 1 - poisson.cdf(ccg-1, pred) - poisson.pmf(ccg, pred)*0.5\n",
    "qvals = poisson.cdf(ccg-1, pred) + poisson.pmf(ccg, pred)*0.5"
   ]
  },
  {
   "cell_type": "code",
   "execution_count": null,
   "metadata": {},
   "outputs": [],
   "source": [
    "# significantly excitatory between 2-5ms\n",
    "# coords1=coords1[coords1[:,0]<coords1[:,1]]\n",
    "coords1 = coords1[:,0]*neurons.n_neurons+coords1[:,1]"
   ]
  },
  {
   "cell_type": "code",
   "execution_count": 152,
   "metadata": {},
   "outputs": [
    {
     "name": "stdout",
     "output_type": "stream",
     "text": [
      "[0, 5, 12, 18, 23, 27, 41, 50, 57, 64, 68, 70, 71, 79, 83, 96, 98, 102, 132, 145, 157, 168, 172, 175, 195, 206, 207, 210, 211, 212, 220, 244, 250, 257, 264, 265, 273, 279, 282, 288, 291, 299, 304, 314, 319, 321, 323, 336, 343, 364, 372, 394, 398, 402, 415, 416, 430, 441, 444, 450, 456, 457, 469, 480, 481, 494, 496, 500, 501, 507, 508, 516, 519, 520, 530, 545, 546, 558, 560, 567, 586, 593, 596, 605, 610, 612, 623, 627, 632, 639, 643, 651, 654, 659, 660, 661, 667, 677, 679, 682, 685, 688, 689, 693, 697, 700, 703, 707, 713, 722, 734, 743, 745, 750, 759, 760, 765, 766, 789, 790, 798, 799, 805, 812, 817, 819, 825, 836, 839, 843, 844, 850, 854, 870, 874, 875, 884, 886, 890, 894, 895, 897, 899, 904, 905, 912, 915, 926, 927, 933, 938, 951, 955, 959, 960, 962, 966, 970, 975, 978, 997, 999, 1000, 1005, 1008, 1015, 1016, 1028, 1055, 1061, 1067, 1075, 1097, 1113, 1116, 1124, 1125, 1134, 1153, 1157, 1166, 1167, 1173, 1179, 1180, 1192, 1198, 1201, 1202, 1203, 1206, 1210, 1211, 1212, 1214, 1216, 1233, 1240, 1243, 1246, 1247, 1248, 1250, 1251, 1254, 1260, 1265, 1266, 1271, 1273, 1277, 1282, 1286, 1288, 1294, 1296, 1299, 1300, 1303, 1305, 1321, 1329, 1332, 1335, 1338, 1341, 1342, 1350, 1354, 1355, 1356, 1358, 1362, 1364, 1365, 1367, 1373, 1374, 1375, 1378, 1383, 1389, 1393, 1397, 1402, 1403, 1406, 1412, 1414, 1415, 1418, 1421, 1424, 1425, 1426, 1433, 1434, 1439, 1445, 1451, 1459, 1460, 1462, 1464, 1466, 1468, 1469, 1480, 1482, 1493, 1496, 1499, 1500, 1502, 1506, 1517, 1520, 1522, 1523, 1527, 1529, 1530, 1537, 1543, 1544, 1549, 1568, 1571, 1584, 1587, 1589, 1619, 1632, 1648, 1651, 1652, 1656, 1661, 1666, 1673, 1679, 1680, 1685, 1686, 1688, 1694, 1708, 1712, 1720, 1726, 1727, 1734, 1735, 1739, 1747, 1748, 1750, 1751, 1752, 1763, 1767, 1769, 1770, 1772, 1782, 1785, 1801, 1803, 1808, 1814, 1818, 1827, 1836, 1846, 1847, 1848, 1877, 1880, 1890, 1894, 1900, 1907, 1911, 1912, 1913, 1914, 1919, 1928, 1932, 1937, 1938, 1957, 1966, 1971, 1986, 1990, 1994, 1996, 2000, 2002, 2012, 2014, 2024, 2025, 2026, 2035, 2040, 2044, 2047, 2049, 2052, 2055, 2076, 2078, 2080, 2081, 2083, 2085, 2088, 2110, 2124, 2133, 2136, 2140, 2148, 2152, 2153, 2166, 2171, 2175, 2177, 2180, 2181, 2184, 2188, 2191, 2194, 2195, 2196, 2198, 2207, 2208, 2212, 2224, 2239, 2240, 2243, 2246, 2249, 2250, 2254, 2260, 2261, 2262, 2264, 2266, 2274, 2278, 2280, 2281, 2283, 2284, 2285, 2287, 2293, 2294, 2295, 2297, 2298, 2300, 2301, 2304, 2314, 2315, 2319, 2320, 2321, 2323, 2324, 2327, 2331, 2333, 2336, 2340, 2344, 2346, 2348, 2349, 2353, 2354, 2355, 2358, 2360, 2363, 2369, 2374, 2375, 2396, 2401, 2404, 2408, 2410, 2414, 2416, 2417, 2418, 2421, 2423, 2424, 2428, 2429, 2434, 2435, 2436, 2439, 2440, 2442, 2443, 2446, 2449, 2452, 2453, 2454, 2455, 2456, 2458, 2462, 2465, 2468, 2471, 2472, 2475, 2476, 2487, 2489, 2495, 2498, 2500, 2510, 2512, 2515, 2516, 2518, 2520, 2521, 2526, 2527, 2533, 2540, 2545, 2552, 2560, 2562, 2563, 2565, 2566, 2567, 2569, 2576, 2578, 2580, 2581, 2584, 2588, 2594, 2599, 2600, 2615, 2624, 2626, 2631, 2634, 2639, 2646, 2648, 2649, 2653, 2654, 2659, 2660, 2666, 2668, 2669, 2674, 2675, 2679, 2680, 2694, 2695, 2699, 2704, 2705, 2712, 2714, 2715, 2718, 2722, 2735, 2737, 2738, 2741, 2747, 2750, 2754, 2766, 2768, 2773, 2782, 2784, 2787, 2812, 2832, 2833, 2835, 2837, 2838, 2842, 2843, 2857, 2868, 2876, 2883, 2887, 2888, 2901, 2904, 2906, 2916, 2918, 2922, 2924, 2927, 2928, 2935, 2943, 2945, 2951, 2954, 2956, 2965, 2969, 2970, 2974, 2993, 2996, 3000, 3002, 3004, 3033, 3043, 3064, 3073, 3076, 3077, 3094, 3096, 3097, 3100, 3109, 3120, 3130, 3141, 3159, 3167, 3173, 3178, 3179, 3180, 3186, 3190, 3194, 3203, 3205, 3229, 3231, 3235, 3246, 3250, 3252, 3256, 3258, 3260, 3262, 3263, 3268, 3272, 3273, 3278, 3280, 3293, 3297, 3307, 3321, 3328, 3329, 3339, 3342, 3350, 3359, 3371, 3380, 3383, 3384, 3390, 3391, 3392, 3402, 3403, 3408, 3412, 3416, 3417, 3424, 3425, 3426, 3434, 3441, 3459, 3461, 3472, 3478, 3481, 3489, 3492, 3495, 3500, 3501, 3509, 3513, 3517, 3533, 3540, 3541, 3547, 3552, 3557, 3560, 3564, 3566, 3570, 3576, 3577, 3593, 3594, 3600, 3602, 3609, 3621, 3628, 3630, 3634, 3635, 3636, 3637, 3639, 3640, 3643, 3646, 3652, 3654, 3656, 3671, 3672, 3673, 3683, 3684, 3698, 3704, 3716, 3718, 3720, 3721, 3722, 3729, 3730, 3733, 3737, 3738, 3743, 3746, 3749, 3750, 3751, 3754, 3755, 3756, 3757, 3758, 3764, 3765, 3767, 3769, 3772, 3774, 3779, 3780, 3783, 3785, 3790, 3791, 3797, 3800, 3804, 3811, 3814, 3816, 3818, 3820, 3824, 3835, 3836, 3844, 3855, 3857, 3858, 3859, 3860, 3869, 3874, 3877, 3878, 3879, 3882, 3883, 3884, 3885, 3893, 3901, 3905, 3906, 3908, 3912, 3920, 3921, 3924, 3926, 3930, 3934, 3935, 3937, 3939, 3943, 3946, 3950, 3951, 3954, 3966, 3975, 3976, 3980, 3990, 3991, 3993, 3999, 4000, 4003, 4004, 4005, 4008, 4015, 4018, 4022, 4031, 4044, 4045, 4046, 4047, 4048, 4049, 4063, 4068, 4073, 4078, 4085, 4091, 4093, 4101, 4105, 4107, 4108, 4131, 4135, 4140, 4155, 4161, 4163, 4165, 4173, 4175, 4177, 4181, 4182, 4192, 4197, 4204, 4206, 4208, 4215, 4224, 4225, 4226, 4229, 4231, 4236, 4250, 4260, 4263, 4267, 4271, 4273, 4280, 4297, 4308, 4314, 4316, 4317, 4318, 4335, 4339, 4350, 4360, 4369, 4387, 4389, 4394, 4399, 4400, 4401, 4421, 4432, 4458, 4461, 4476, 4490, 4498, 4500, 4524, 4547, 4557, 4558, 4560, 4577, 4579, 4595, 4599, 4600, 4610, 4625, 4626, 4632, 4635, 4638, 4639, 4642, 4644, 4647, 4650, 4654, 4658, 4663, 4665, 4671, 4674, 4678, 4686, 4687, 4692, 4699, 4715, 4721, 4722, 4728, 4730, 4739, 4748, 4750, 4751, 4758, 4763, 4786, 4791, 4795, 4796, 4806, 4817, 4820, 4821, 4826, 4831, 4843, 4845, 4850, 4860, 4870, 4875, 4890, 4891, 4898, 4908, 4912, 4915, 4918, 4920, 4932, 4934, 4940, 4944, 4945, 4954, 4959, 4960, 4962, 4974, 4975, 4978, 4981, 4982, 4984, 4985, 4988, 4989, 4990, 4992, 4995, 5000, 5002, 5009, 5012, 5023, 5025, 5028, 5035, 5036, 5045, 5048, 5049, 5051, 5056, 5068, 5069, 5072, 5074, 5078, 5084, 5086, 5087, 5088, 5089, 5096, 5101, 5102, 5106, 5107, 5109, 5112, 5114, 5115, 5116, 5117, 5118, 5119, 5121, 5124, 5128, 5129, 5136, 5137, 5138, 5139, 5143, 5144, 5147, 5156, 5158, 5159, 5165, 5169, 5171, 5175, 5176, 5177, 5184, 5194, 5195, 5196, 5199, 5203, 5204, 5206, 5208, 5211, 5216, 5223, 5231, 5232, 5234, 5237, 5238, 5242, 5245, 5246, 5250, 5253, 5256, 5262, 5265, 5269, 5271, 5273, 5275, 5282, 5283, 5284, 5285, 5286, 5287, 5288, 5289, 5291, 5292, 5293, 5294, 5297, 5298, 5302, 5304, 5307, 5309, 5311, 5312, 5313, 5315, 5316, 5319, 5322, 5324, 5325, 5327, 5328, 5333, 5334, 5336, 5340, 5342, 5343, 5344, 5346, 5348, 5350, 5351, 5356, 5358, 5359, 5366, 5369, 5372, 5374, 5377, 5384, 5385, 5388, 5398, 5399, 5401, 5404, 5405, 5406, 5409, 5411, 5412, 5413, 5415, 5416, 5417, 5421, 5423, 5424, 5425, 5427, 5428, 5429, 5430, 5433, 5434, 5437, 5438, 5440, 5441, 5442, 5445, 5446, 5452, 5455, 5456, 5461, 5462, 5463, 5464, 5465, 5466, 5469, 5471, 5473, 5486, 5490, 5493, 5500, 5508, 5520, 5532, 5533, 5545, 5551, 5552, 5554, 5570, 5572, 5575, 5582, 5603, 5620, 5631, 5634, 5640, 5653, 5654, 5660, 5661, 5662, 5663, 5664, 5667, 5675, 5680, 5682, 5683, 5691, 5696, 5701, 5702, 5704, 5706, 5717, 5733, 5734, 5735, 5736, 5739, 5740, 5745, 5746, 5748, 5750, 5751, 5754, 5767, 5769, 5773, 5774, 5775, 5778, 5780, 5781, 5782, 5783, 5786, 5787, 5790, 5800, 5801, 5805, 5809, 5810, 5811, 5813, 5817, 5818, 5822, 5825, 5834, 5838, 5839, 5840, 5844, 5846, 5847, 5849, 5850, 5853, 5854, 5856, 5857, 5859, 5862, 5864, 5866, 5867, 5869, 5872, 5875, 5880, 5883, 5884, 5885, 5894, 5896, 5899, 5901, 5902, 5904, 5906, 5907, 5909, 5910, 5911, 5914, 5915, 5918, 5919, 5920, 5921, 5923, 5925, 5928, 5932, 5936, 5938, 5940, 5943, 5947, 5954, 5956, 5957, 5958, 5961, 5962, 5964, 5965, 5967, 5969, 5980, 5984, 5985, 5988, 5989, 5998, 5999, 6000, 6005, 6007, 6020, 6022, 6024, 6026, 6030, 6036, 6041, 6045, 6047, 6051, 6052, 6055, 6056, 6059, 6061, 6064, 6066, 6067, 6069, 6071, 6072, 6077, 6079, 6081, 6083, 6084, 6087, 6089, 6093, 6095, 6096, 6098, 6105, 6111, 6117, 6119, 6121, 6122, 6127, 6133, 6137, 6141, 6142, 6143, 6144, 6146, 6148, 6150, 6151, 6152, 6154, 6155, 6158, 6160, 6161, 6162, 6164, 6166, 6168, 6170, 6174, 6176, 6178, 6183, 6185, 6189, 6191, 6193, 6197, 6198, 6199, 6204, 6210, 6211, 6212, 6225, 6227, 6229, 6232, 6233, 6234, 6237, 6247, 6250, 6251, 6254, 6259, 6268, 6273, 6274, 6276, 6297, 6301, 6320, 6321, 6324, 6333, 6335, 6337, 6344, 6352, 6353, 6368, 6369, 6379, 6384, 6388, 6408, 6410, 6421, 6422, 6429, 6440, 6443, 6449, 6450, 6451, 6454, 6459, 6469, 6482, 6483, 6484, 6486, 6489, 6491, 6497, 6500, 6503, 6508, 6517, 6527, 6528, 6534, 6548, 6551, 6556, 6581, 6587, 6590, 6592, 6596, 6603, 6604, 6611, 6618, 6620, 6628, 6629, 6634, 6637, 6645, 6652, 6656, 6659, 6660, 6661, 6664, 6665, 6670, 6673, 6674, 6676, 6681, 6683, 6684, 6686, 6689, 6706, 6708, 6714, 6722, 6726, 6729, 6730, 6731, 6744, 6750, 6751, 6763, 6768, 6780, 6781, 6787, 6789, 6796, 6797, 6818, 6819, 6825, 6830, 6836, 6840, 6843, 6851, 6852, 6854, 6858, 6862, 6875, 6880, 6887, 6896, 6899, 6904, 6908, 6909, 6912, 6914, 6916, 6925, 6927, 6935, 6936, 6938, 6944, 6949, 6954, 6956, 6975, 6976, 6978, 6980, 6981, 6982, 6994, 7000, 7001, 7004, 7007, 7010, 7014, 7015, 7022, 7023, 7037, 7050, 7058, 7062, 7064, 7066, 7069, 7075, 7080, 7087, 7089, 7090, 7098, 7109, 7116, 7124, 7147, 7148, 7151, 7153, 7157, 7168, 7172, 7176, 7185, 7187, 7191, 7198, 7200, 7201, 7202, 7212, 7216, 7219, 7228, 7229, 7232, 7240, 7241, 7242, 7250, 7251, 7258, 7264, 7266, 7272, 7273, 7277, 7297, 7299, 7303, 7310, 7312, 7313, 7315, 7321, 7327, 7330, 7331, 7334, 7360, 7362, 7365, 7372, 7376, 7377, 7385, 7390, 7400, 7406, 7410, 7411, 7412, 7417, 7422, 7425, 7427, 7428, 7433, 7436, 7443, 7445, 7468, 7472, 7474, 7478, 7481, 7484, 7489, 7492, 7499, 7500, 7513, 7516, 7517, 7522, 7523, 7526, 7530, 7534, 7561, 7562, 7564, 7570, 7573, 7575, 7578, 7579, 7582, 7597, 7598, 7601, 7604, 7610, 7618, 7628, 7630, 7634, 7639, 7651, 7653, 7658, 7659, 7661, 7664, 7669, 7675, 7679, 7680, 7683, 7692, 7695, 7696, 7700, 7715, 7720, 7727, 7734, 7750, 7762, 7763, 7767, 7791, 7796, 7801, 7817, 7825, 7834, 7840, 7870, 7881, 7902, 7903, 7904, 7909, 7919, 7933, 7938, 7948, 7956, 7957, 7963, 7965, 7973, 7976, 7977, 7979, 7981, 7983, 7989, 8000, 8001, 8005, 8011, 8029, 8034, 8037, 8038, 8068, 8073, 8074, 8075, 8087, 8089, 8091, 8096, 8098, 8104, 8107, 8112, 8117, 8119, 8133, 8134, 8145, 8147, 8150, 8152, 8156, 8168, 8184, 8193, 8194, 8196, 8205, 8206, 8215, 8223, 8232, 8237, 8241, 8246, 8249, 8250, 8264, 8269, 8274, 8275, 8276, 8277, 8279, 8283, 8290, 8292, 8295, 8296, 8297, 8303, 8314, 8317, 8322, 8328, 8335, 8338, 8341, 8356, 8359, 8360, 8364, 8367, 8368, 8377, 8385, 8398, 8400, 8404, 8407, 8413, 8414, 8418, 8421, 8427, 8436, 8438, 8446, 8447, 8448, 8450, 8460, 8465, 8466, 8474, 8476, 8481, 8482, 8487, 8500, 8503, 8504, 8509, 8520, 8523, 8525, 8526, 8531, 8532, 8545, 8547, 8554, 8560, 8564, 8568, 8576, 8577, 8581, 8583, 8587, 8589, 8592, 8608, 8611, 8614, 8624, 8627, 8630, 8632, 8633, 8642, 8643, 8644, 8648, 8657, 8665, 8668, 8672, 8675, 8682, 8683, 8684, 8686, 8704, 8705, 8709, 8730, 8731, 8734, 8735, 8741, 8750, 8751, 8759, 8767, 8768, 8770, 8773, 8789, 8790, 8795, 8819, 8838, 8839, 8846, 8847, 8849, 8854, 8855, 8859, 8866, 8867, 8869, 8876, 8879, 8881, 8883, 8889, 8891, 8893, 8895, 8908, 8909, 8912, 8920, 8936, 8938, 8939, 8950, 8960, 8967, 8979, 8980, 8983, 8984, 8999, 9000, 9011, 9016, 9018, 9025, 9026, 9027, 9029, 9032, 9035, 9045, 9046, 9047, 9064, 9065, 9073, 9076, 9085, 9087, 9088, 9089, 9091, 9092, 9106, 9114, 9115, 9119, 9124, 9129, 9130, 9131, 9133, 9134, 9147, 9148, 9149, 9159, 9164, 9168, 9178, 9183, 9195, 9204, 9206, 9209, 9222, 9226, 9230, 9234, 9236, 9237, 9242, 9248, 9250, 9251, 9253, 9255, 9263, 9265, 9271, 9275, 9286, 9291, 9297, 9307, 9316, 9318, 9319, 9327, 9328, 9330, 9332, 9337, 9341, 9342, 9359, 9361, 9370, 9371, 9372, 9375, 9380, 9384, 9388, 9391, 9393, 9395, 9397, 9398, 9400, 9404, 9411, 9418, 9419, 9429, 9443, 9445, 9447, 9448, 9451, 9453, 9456, 9474, 9475, 9477, 9478, 9482, 9483, 9491, 9492, 9493, 9496, 9498, 9499, 9500, 9501, 9503, 9514, 9523, 9530, 9538, 9541, 9542, 9546, 9553, 9559, 9560, 9575, 9584, 9585, 9586, 9600, 9602, 9604, 9605, 9607, 9608, 9611, 9613, 9614, 9616, 9617, 9622, 9633, 9634, 9642, 9645, 9649, 9657, 9659, 9666, 9669, 9673, 9676, 9695, 9716, 9725, 9727, 9744, 9746, 9747, 9749, 9750, 9763, 9769, 9771, 9773, 9778, 9792, 9793, 9796, 9807, 9811, 9817, 9835, 9836, 9859, 9860, 9864, 9879, 9881, 9882, 9883, 9889, 9894, 9895, 9908, 9909, 9913, 9932, 9951, 9961, 9963, 9965, 9968, 9972, 9975, 9981, 9983, 9985, 9986, 10000, 10008, 10013, 10019, 10021, 10026, 10031, 10033, 10040, 10046, 10053, 10061, 10073, 10075, 10077, 10080, 10087, 10094, 10095, 10098, 10104, 10105, 10110, 10131, 10136, 10140, 10154, 10159, 10160, 10166, 10168, 10169, 10171, 10176, 10177, 10180, 10183, 10184, 10193, 10206, 10207, 10224, 10225, 10234, 10243, 10244, 10250, 10252, 10254, 10274, 10279, 10282, 10297, 10311, 10320, 10348, 10367, 10388, 10400, 10403, 10413, 10420, 10426, 10431, 10460, 10461, 10466, 10467, 10468, 10470, 10472, 10478, 10489, 10490, 10496, 10500, 10501, 10503, 10504, 10505, 10512, 10513, 10518, 10526, 10530, 10546, 10547, 10548, 10549, 10550, 10554, 10557, 10564, 10567, 10572, 10577, 10578, 10580, 10582, 10583, 10584, 10585, 10588, 10593, 10595, 10597, 10600, 10602, 10606, 10611, 10613, 10616, 10624, 10627, 10633, 10636, 10637, 10638, 10639, 10643, 10647, 10664, 10666, 10667, 10668, 10672, 10673, 10678, 10684, 10685, 10689, 10694, 10701, 10706, 10710, 10711, 10715, 10719, 10727, 10728, 10735, 10736, 10749, 10750, 10752, 10754, 10756, 10760, 10762, 10770, 10772, 10775, 10786, 10796, 10799, 10804, 10805, 10811, 10813, 10816, 10821, 10823, 10830, 10833, 10834, 10835, 10841, 10842, 10845, 10846, 10851, 10861, 10864, 10871, 10882, 10883, 10886, 10893, 10896, 10902, 10903, 10906, 10911, 10913, 10914, 10920, 10921, 10922, 10923, 10924, 10925, 10929, 10930, 10933, 10934, 10935, 10936, 10938, 10958, 10965, 10976, 10977, 10990, 10992, 10993, 10995, 10998, 10999, 11000, 11016, 11021, 11024, 11025, 11026, 11029, 11042, 11056, 11062, 11065, 11069, 11073, 11074, 11077, 11085, 11087, 11088, 11089, 11094, 11117, 11123, 11129, 11131, 11132, 11135, 11136, 11137, 11143, 11144, 11150, 11151, 11153, 11155, 11156, 11164, 11167, 11176, 11179, 11185, 11192, 11196, 11209, 11212, 11213, 11216, 11217, 11223, 11224, 11225, 11227, 11237, 11247, 11248, 11250, 11251, 11259, 11260, 11267, 11273, 11278, 11281, 11284, 11294, 11295, 11302, 11303, 11310, 11311, 11313, 11314, 11320, 11323, 11327, 11330, 11335, 11338, 11341, 11346, 11347, 11349, 11353, 11355, 11366, 11368, 11372, 11374, 11375, 11376, 11381, 11384, 11392, 11394, 11405, 11406, 11407, 11418, 11419, 11420, 11421, 11422, 11423, 11431, 11436, 11440, 11453, 11463, 11464, 11466, 11467, 11472, 11474, 11475, 11477, 11479, 11486, 11487, 11495, 11499, 11500, 11502, 11507, 11508, 11510, 11514, 11518, 11522, 11525, 11526, 11534, 11537, 11541, 11542, 11543, 11544, 11555, 11557, 11565, 11569, 11571, 11573, 11575, 11582, 11594, 11595, 11597, 11603, 11608, 11614, 11616, 11619, 11621, 11630, 11634, 11635, 11637, 11641, 11645, 11647, 11648, 11655, 11667, 11669, 11689, 11694, 11695, 11701, 11711, 11714, 11715, 11716, 11723, 11734, 11736, 11738, 11740, 11745, 11746, 11747, 11748, 11749, 11750, 11752, 11754, 11757, 11763, 11767, 11771, 11776, 11778, 11785, 11790, 11793, 11798, 11799, 11803, 11806, 11808, 11814, 11822, 11825, 11837, 11838, 11846, 11856, 11864, 11872, 11881, 11884, 11891, 11895, 11897, 11904, 11907, 11912, 11914, 11917, 11919, 11920, 11923, 11925, 11927, 11932, 11935, 11937, 11939, 11940, 11949, 11951, 11958, 11972, 11979, 11992, 12000, 12001, 12011, 12017, 12020, 12032, 12036, 12038, 12048, 12052, 12062, 12067, 12068, 12069, 12094, 12095, 12105, 12109, 12110, 12120, 12122, 12126, 12132, 12141, 12144, 12146, 12154, 12160, 12162, 12172, 12175, 12179, 12195, 12213, 12219, 12221, 12223, 12224, 12236, 12245, 12248, 12249, 12250, 12251, 12255, 12259, 12266, 12278, 12280, 12285, 12287, 12288, 12293, 12294, 12297, 12303, 12306, 12307, 12315, 12319, 12345, 12364, 12366, 12371, 12376, 12380, 12385, 12387, 12401, 12402, 12405, 12406, 12409, 12416, 12421, 12424, 12427, 12429, 12432, 12435, 12454, 12458, 12459, 12464, 12470, 12471, 12480, 12489, 12496, 12500, 12501, 12510, 12511, 12515, 12516, 12526, 12528, 12532, 12551, 12556, 12558, 12568, 12570, 12585, 12586, 12587, 12588, 12590, 12595, 12603, 12607, 12613, 12621, 12622, 12629, 12630, 12637, 12639, 12644, 12648, 12651, 12666, 12667, 12673, 12676, 12683, 12691, 12707, 12713, 12719, 12734, 12746, 12750, 12751, 12753, 12759, 12765, 12779, 12784, 12800, 12804, 12806, 12810, 12816, 12822, 12827, 12832, 12836, 12838, 12842, 12849, 12859, 12861, 12872, 12884, 12887, 12892, 12897, 12903, 12906, 12911, 12932, 12934, 12935, 12939, 12944, 12949, 12952, 12956, 12959, 12963, 12966, 12970, 12972, 12977, 12978, 12980, 12991, 12999, 13000, 13002, 13003, 13004, 13010, 13023, 13027, 13035, 13048, 13050, 13059, 13064, 13068, 13073, 13076, 13077, 13082, 13083, 13084, 13091, 13092, 13093, 13098, 13104, 13105, 13114, 13116, 13123, 13139, 13152, 13154, 13155, 13161, 13165, 13170, 13174, 13183, 13184, 13196, 13202, 13205, 13206, 13208, 13217, 13218, 13220, 13221, 13222, 13223, 13226, 13231, 13232, 13233, 13243, 13248, 13250, 13251, 13252, 13253, 13257, 13270, 13271, 13275, 13276, 13279, 13285, 13287, 13292, 13298, 13299, 13302, 13306, 13308, 13314, 13315, 13316, 13317, 13320, 13322, 13325, 13326, 13328, 13334, 13340, 13342, 13347, 13352, 13355, 13356, 13363, 13364, 13366, 13367, 13371, 13376, 13377, 13378, 13379, 13385, 13389, 13391, 13392, 13393, 13394, 13395, 13396, 13397, 13404, 13405, 13412, 13413, 13415, 13416, 13420, 13421, 13426, 13428, 13431, 13437, 13443, 13445, 13446, 13447, 13451, 13455, 13459, 13467, 13468, 13470, 13475, 13488, 13489, 13492, 13498, 13499, 13500, 13505, 13506, 13509, 13513, 13519, 13525, 13526, 13528, 13529, 13534, 13535, 13536, 13538, 13541, 13543, 13545, 13549, 13550, 13552, 13553, 13557, 13559, 13560, 13563, 13565, 13569, 13571, 13574, 13575, 13578, 13579, 13583, 13588, 13589, 13595, 13599, 13605, 13606, 13607, 13608, 13613, 13614, 13615, 13616, 13619, 13622, 13626, 13628, 13633, 13634, 13635, 13638, 13639, 13640, 13644, 13646, 13647, 13651, 13655, 13656, 13659, 13662, 13665, 13666, 13667, 13671, 13676, 13677, 13680, 13686, 13690, 13693, 13695, 13701, 13703, 13704, 13709, 13715, 13717, 13719, 13732, 13738, 13750, 13755, 13760, 13761, 13767, 13771, 13772, 13774, 13788, 13795, 13835, 13839, 13849, 13852, 13853, 13856, 13860, 13862, 13868, 13869, 13874, 13884, 13891, 13901, 13907, 13910, 13915, 13918, 13919, 13923, 13926, 13927, 13933, 13941, 13943, 13944, 13952, 13954, 13957, 13973, 13979, 14000, 14001, 14005, 14023, 14024, 14026, 14029, 14035, 14037, 14042, 14043, 14049, 14052, 14103, 14108, 14114, 14126, 14128, 14129, 14131, 14132, 14133, 14138, 14148, 14153, 14160, 14161, 14162, 14163, 14170, 14171, 14190, 14191, 14201, 14202, 14215, 14237, 14244, 14246, 14247, 14250, 14251, 14253, 14255, 14262, 14270, 14271, 14275, 14277, 14283, 14288, 14289, 14298, 14310, 14318, 14322, 14331, 14333, 14337, 14339, 14346, 14350, 14357, 14364, 14370, 14371, 14372, 14375, 14377, 14379, 14385, 14387, 14395, 14397, 14399, 14405, 14408, 14417, 14418, 14421, 14422, 14423, 14426, 14428, 14432, 14450, 14451, 14466, 14472, 14475, 14476, 14478, 14485, 14495, 14496, 14499, 14500, 14502, 14506, 14519, 14520, 14525, 14531, 14537, 14544, 14547, 14553, 14561, 14570, 14573, 14578, 14581, 14582, 14583, 14586, 14589, 14592, 14594, 14595, 14603, 14604, 14607, 14609, 14614, 14626, 14636, 14641, 14642, 14644, 14650, 14651, 14660, 14663, 14674, 14681, 14697, 14698, 14700, 14706, 14708, 14712, 14714, 14715, 14724, 14728, 14735, 14736, 14737, 14738, 14745, 14747, 14748, 14750, 14751, 14754, 14756, 14758, 14760, 14768, 14769, 14773, 14781, 14796, 14797, 14799, 14802, 14804, 14805, 14808, 14814, 14819, 14823, 14824, 14838, 14840, 14842, 14851, 14852, 14853, 14854, 14867, 14868, 14869, 14872, 14877, 14878, 14879, 14884, 14885, 14886, 14889, 14896, 14898, 14900, 14903, 14905, 14915, 14917, 14923, 14929, 14934, 14942, 14945, 14947, 14949, 14951, 14953, 14954, 14957, 14958, 14963, 14964, 14972, 14980, 14983, 14987, 14990, 14991, 14993, 14994, 14997, 14998, 14999, 15000, 15001, 15002, 15003, 15004, 15011, 15013, 15015, 15017, 15019, 15020, 15022, 15023, 15026, 15028, 15030, 15035, 15039, 15040, 15042, 15044, 15045, 15046, 15047, 15050, 15051, 15052, 15053, 15054, 15057, 15059, 15069, 15073, 15075, 15076, 15077, 15079, 15081, 15082, 15083, 15085, 15087, 15090, 15093, 15096, 15099, 15100, 15101, 15102, 15103, 15107, 15109, 15115, 15116, 15117, 15120, 15121, 15122, 15124, 15127, 15128, 15130, 15131, 15132, 15133, 15134, 15138, 15139, 15141, 15142, 15145, 15147, 15148, 15151, 15153, 15154, 15156, 15158, 15161, 15165, 15174, 15175, 15176, 15177, 15178, 15181, 15192, 15194, 15203, 15209, 15224, 15244, 15248, 15249, 15250, 15252, 15255, 15265, 15271, 15282, 15287, 15289, 15291, 15297, 15301, 15306, 15312, 15314, 15322, 15323, 15333, 15338, 15340, 15356, 15357, 15368, 15374, 15384, 15387, 15393, 15398, 15401, 15405, 15410, 15414, 15417, 15423, 15431, 15434, 15444, 15449, 15453, 15454, 15460, 15464, 15474, 15482, 15486, 15496, 15499, 15500, 15537, 15539, 15547, 15557, 15559, 15571, 15576, 15582, 15585, 15589, 15594, 15600, 15601, 15605, 15608, 15616, 15624, 15626, 15632, 15633, 15635, 15638, 15651, 15655, 15656, 15672, 15674, 15678, 15685, 15692, 15698, 15702, 15703, 15707, 15708, 15709, 15710, 15711, 15712, 15725, 15727, 15734, 15744, 15747, 15750, 15753, 15756, 15758, 15766, 15767, 15768, 15771, 15776, 15781, 15792, 15794, 15795, 15796, 15797, 15798, 15804, 15805, 15806, 15810, 15811, 15822, 15825, 15838, 15851, 15858, 15859, 15865, 15867, 15868, 15874, 15875, 15881, 15886, 15895, 15900, 15904, 15915, 15919, 15922, 15923, 15936, 15939, 15947, 15962, 15971, 15973, 15977, 15979, 15991, 16000, 16003, 16006, 16008, 16016, 16021, 16025, 16027, 16032, 16039, 16040, 16056, 16061, 16083, 16092, 16094, 16095, 16108, 16114, 16137, 16140, 16147, 16177, 16187, 16188, 16189, 16198, 16199, 16204, 16215, 16217, 16219, 16225, 16228, 16253, 16273, 16290, 16294, 16309, 16317, 16325, 16329, 16344, 16358, 16366, 16367, 16374, 16376, 16379, 16386, 16388, 16391, 16397, 16400, 16416, 16419, 16431, 16433, 16456, 16461, 16464, 16466, 16471, 16477, 16479, 16485, 16495, 16496, 16500, 16509, 16518, 16520, 16524, 16526, 16536, 16538, 16553, 16557, 16561, 16579, 16580, 16595, 16600, 16612, 16613, 16617, 16619, 16622, 16631, 16643, 16644, 16650, 16652, 16658, 16662, 16663, 16672, 16675, 16686, 16691, 16692, 16694, 16697, 16700, 16703, 16710, 16713, 16723, 16727, 16729, 16738, 16743, 16748, 16750, 16766, 16769, 16787, 16791, 16796, 16798, 16837, 16838, 16844, 16850, 16852, 16862, 16868, 16871, 16872, 16875, 16877, 16880, 16881, 16884, 16885, 16890, 16899, 16906, 16907, 16909, 16919, 16932, 16935, 16936, 16940, 16942, 16944, 16945, 16947, 16948, 16951, 16952, 16956, 16957, 16958, 16961, 16974, 16976, 16977, 16983, 16987, 16989, 16992, 17000, 17004, 17008, 17013, 17021, 17022, 17023, 17035, 17038, 17040, 17041, 17045, 17048, 17052, 17065, 17070, 17076, 17080, 17089, 17090, 17103, 17110, 17111, 17112, 17114, 17117, 17118, 17121, 17136, 17146, 17147, 17149, 17150, 17155, 17158, 17160, 17163, 17168, 17169, 17172, 17184, 17185, 17189, 17192, 17193, 17201, 17202, 17207, 17208, 17210, 17216, 17218, 17222, 17224, 17230, 17236, 17240, 17247, 17250, 17251, 17257, 17258, 17259, 17270, 17272, 17276, 17285, 17286, 17288, 17289, 17290, 17291, 17292, 17294, 17298, 17319, 17320, 17325, 17330, 17334, 17338, 17339, 17353, 17357, 17360, 17366, 17370, 17381, 17385, 17396, 17403, 17407, 17408, 17409, 17412, 17413, 17418, 17425, 17432, 17439, 17444, 17448, 17454, 17457, 17464, 17476, 17482, 17485, 17490, 17491, 17492, 17495, 17499, 17506, 17520, 17522, 17533, 17537, 17542, 17544, 17551, 17568, 17569, 17572, 17574, 17584, 17585, 17595, 17597, 17600, 17607, 17617, 17622, 17645, 17653, 17659, 17666, 17667, 17678, 17683, 17685, 17687, 17697, 17704, 17716, 17721, 17722, 17724, 17734, 17735, 17742, 17746, 17750, 17754, 17761, 17763, 17767, 17769, 17771, 17772, 17773, 17782, 17784, 17793, 17796, 17798, 17807, 17823, 17825, 17826, 17840, 17841, 17848, 17852, 17854, 17866, 17867, 17868, 17869, 17872, 17888, 17892, 17903, 17905, 17914, 17918, 17920, 17929, 17932, 17936, 17938, 17948, 17950, 17953, 17961, 17971, 17976, 17977, 17994, 17997, 18000, 18020, 18021, 18022, 18034, 18038, 18044, 18058, 18063, 18065, 18069, 18070, 18072, 18073, 18076, 18083, 18085, 18087, 18097, 18102, 18110, 18112, 18113, 18115, 18117, 18118, 18123, 18139, 18143, 18153, 18154, 18156, 18179, 18182, 18183, 18186, 18187, 18193, 18198, 18200, 18201, 18204, 18206, 18214, 18227, 18228, 18229, 18233, 18235, 18242, 18246, 18248, 18250, 18259, 18267, 18275, 18278, 18284, 18287, 18294, 18305, 18306, 18307, 18308, 18313, 18315, 18318, 18321, 18326, 18327, 18333, 18334, 18336, 18338, 18343, 18348, 18350, 18353, 18358, 18361, 18366, 18371, 18376, 18379, 18384, 18385, 18387, 18392, 18394, 18397, 18400, 18401, 18408, 18410, 18415, 18416, 18434, 18436, 18452, 18453, 18454, 18461, 18469, 18477, 18486, 18487, 18494, 18500, 18501, 18502, 18507, 18508, 18512, 18522, 18531, 18535, 18546, 18555, 18565, 18566, 18570, 18574, 18576, 18578, 18583, 18585, 18586, 18590, 18593, 18596, 18609, 18611, 18618, 18625, 18628, 18635, 18646, 18647, 18653, 18654, 18664, 18667, 18670, 18677, 18683, 18696, 18701, 18709, 18718, 18722, 18725, 18728, 18731, 18735, 18738, 18740, 18750, 18755, 18765, 18780, 18792, 18807, 18822, 18835, 18836, 18839, 18841, 18842, 18843, 18848, 18851, 18853, 18855, 18856, 18865, 18876, 18880, 18883, 18888, 18890, 18896, 18897, 18901, 18905, 18907, 18917, 18922, 18927, 18928, 18932, 18934, 18943, 18944, 18946, 18954, 18967, 18969, 18976, 18979, 18980, 18982, 18989, 18994, 18996, 19000, 19013, 19017, 19018, 19019, 19021, 19030, 19057, 19058, 19060, 19063, 19065, 19067, 19068, 19071, 19079, 19081, 19083, 19085, 19090, 19096, 19098, 19100, 19101, 19108, 19109, 19113, 19119, 19120, 19128, 19133, 19137, 19139, 19144, 19151, 19152, 19155, 19172, 19177, 19178, 19181, 19183, 19193, 19196, 19197, 19201, 19215, 19216, 19218, 19220, 19224, 19230, 19232, 19250, 19251, 19256, 19260, 19271, 19277, 19280, 19286, 19294, 19301, 19302, 19304, 19306, 19310, 19312, 19317, 19319, 19329, 19332, 19337, 19342, 19347, 19353, 19358, 19362, 19363, 19366, 19369, 19373, 19375, 19379, 19385, 19388, 19389, 19395, 19411, 19415, 19427, 19431, 19432, 19437, 19443, 19445, 19446, 19451, 19452, 19454, 19455, 19459, 19462, 19476, 19483, 19500, 19509, 19522, 19523, 19525, 19527, 19535, 19537, 19539, 19540, 19541, 19546, 19552, 19553, 19556, 19560, 19566, 19573, 19574, 19583, 19584, 19585, 19589, 19598, 19603, 19604, 19605, 19610, 19614, 19619, 19634, 19636, 19655, 19658, 19664, 19669, 19673, 19684, 19686, 19687, 19691, 19699, 19703, 19704, 19705, 19709, 19719, 19720, 19725, 19729, 19730, 19732, 19750, 19751, 19754, 19755, 19758, 19770, 19774, 19786, 19787, 19788, 19792, 19794, 19798, 19802, 19803, 19806, 19817, 19818, 19820, 19822, 19824, 19831, 19832, 19833, 19839, 19842, 19855, 19856, 19857, 19858, 19859, 19866, 19868, 19871, 19881, 19885, 19895, 19899, 19900, 19904, 19910, 19914, 19922, 19925, 19927, 19929, 19932, 19935, 19940, 19941, 19943, 19944, 19946, 19948, 19955, 19958, 19967, 19968, 19974, 19978, 19979, 19980, 19990, 19991, 19999, 20000, 20002, 20004, 20010, 20015, 20016, 20018, 20019, 20022, 20025, 20030, 20031, 20032, 20037, 20040, 20041, 20055, 20063, 20067, 20069, 20077, 20078, 20081, 20084, 20090, 20092, 20098, 20101, 20107, 20108, 20112, 20117, 20119, 20122, 20128, 20130, 20141, 20142, 20145, 20147, 20156, 20159, 20174, 20184, 20197, 20205, 20212, 20214, 20228, 20230, 20250, 20253, 20254, 20257, 20263, 20265, 20274, 20275, 20276, 20278, 20292, 20293, 20294, 20298, 20299, 20306, 20308, 20316, 20327, 20328, 20334, 20340, 20341, 20342, 20350, 20354, 20356, 20359, 20383, 20385, 20388, 20393, 20400, 20409, 20420, 20427, 20433, 20437, 20439, 20441, 20446, 20447, 20448, 20451, 20454, 20457, 20458, 20462, 20465, 20466, 20471, 20472, 20473, 20477, 20478, 20479, 20480, 20481, 20491, 20492, 20495, 20500, 20502, 20506, 20508, 20509, 20511, 20513, 20514, 20517, 20519, 20523, 20525, 20529, 20531, 20532, 20534, 20535, 20536, 20537, 20539, 20542, 20547, 20549, 20551, 20558, 20561, 20566, 20571, 20572, 20577, 20579, 20585, 20588, 20593, 20594, 20598, 20599, 20601, 20602, 20603, 20605, 20606, 20608, 20610, 20611, 20612, 20615, 20616, 20619, 20623, 20625, 20629, 20631, 20635, 20636, 20637, 20638, 20642, 20643, 20645, 20647, 20648, 20649, 20653, 20656, 20657, 20660, 20661, 20676, 20679, 20682, 20686, 20688, 20703, 20713, 20721, 20723, 20724, 20725, 20727, 20728, 20736, 20743, 20748, 20750, 20757, 20762, 20765, 20768, 20773, 20778, 20779, 20781, 20784, 20786, 20788, 20791, 20792, 20794, 20797, 20802, 20808, 20819, 20820, 20828, 20833, 20843, 20845, 20846, 20847, 20848, 20853, 20856, 20858, 20859, 20872, 20876, 20878, 20886, 20887, 20895, 20897, 20902, 20903, 20905, 20924, 20931, 20932, 20937, 20940, 20946, 20947, 20948, 20949, 20954, 20962, 20965, 20972, 20976, 20981, 20987, 20991, 20995, 20996, 21000, 21004, 21006, 21026, 21027, 21037, 21045, 21056, 21062, 21065, 21071, 21079, 21082, 21083, 21084, 21087, 21088, 21091, 21093, 21095, 21096, 21097, 21099, 21103, 21113, 21118, 21126, 21130, 21145, 21147, 21155, 21161, 21172, 21181, 21193, 21199, 21219, 21226, 21227, 21228, 21229, 21239, 21241, 21244, 21250, 21254, 21257, 21267, 21282, 21301, 21303, 21317, 21329, 21339, 21341, 21345, 21347, 21354, 21357, 21358, 21364, 21368, 21371, 21372, 21373, 21380, 21385, 21411, 21417, 21420, 21423, 21430, 21432, 21434, 21435, 21438, 21449, 21454, 21457, 21458, 21468, 21477, 21481, 21485, 21494, 21496, 21498, 21500, 21504, 21508, 21515, 21517, 21518, 21521, 21525, 21526, 21527, 21531, 21533, 21538, 21543, 21546, 21552, 21553, 21554, 21557, 21559, 21565, 21569, 21581, 21583, 21584, 21586, 21591, 21594, 21595, 21597, 21599, 21600, 21601, 21602, 21607, 21608, 21609, 21618, 21627, 21630, 21631, 21642, 21645, 21647, 21648, 21649, 21655, 21658, 21659, 21660, 21676, 21684, 21687, 21690, 21695, 21707, 21710, 21717, 21718, 21719, 21733, 21739, 21743, 21745, 21750, 21767, 21768, 21771, 21774, 21777, 21779, 21780, 21781, 21788, 21790, 21791, 21793, 21797, 21798, 21807, 21818, 21821, 21825, 21828, 21841, 21842, 21848, 21852, 21853, 21854, 21864, 21874, 21878, 21886, 21889, 21894, 21897, 21907, 21908, 21911, 21915, 21920, 21921, 21923, 21932, 21935, 21939, 21942, 21949, 21952, 21959, 21963, 21967, 22000, 22001, 22015, 22021, 22029, 22031, 22036, 22038, 22042, 22043, 22053, 22064, 22066, 22070, 22074, 22082, 22084, 22090, 22091, 22092, 22097, 22100, 22101, 22104, 22108, 22109, 22115, 22116, 22126, 22135, 22137, 22140, 22143, 22146, 22148, 22154, 22156, 22164, 22169, 22173, 22175, 22181, 22185, 22195, 22201, 22203, 22204, 22205, 22206, 22210, 22216, 22218, 22221, 22226, 22229, 22230, 22231, 22237, 22239, 22247, 22249, 22250, 22258, 22266, 22269, 22270, 22280, 22290, 22291, 22292, 22293, 22296, 22300, 22305, 22319, 22320, 22328, 22340, 22346, 22347, 22349, 22350, 22352, 22354, 22358, 22365, 22367, 22371, 22374, 22376, 22384, 22385, 22392, 22394, 22395, 22401, 22409, 22415, 22417, 22419, 22420, 22422, 22423, 22436, 22437, 22440, 22442, 22446, 22450, 22452, 22453, 22454, 22455, 22457, 22458, 22463, 22464, 22469, 22470, 22475, 22478, 22480, 22483, 22485, 22487, 22488, 22490, 22491, 22492, 22493, 22494, 22500, 22501, 22502, 22506, 22511, 22513, 22515, 22517, 22521, 22523, 22528, 22529, 22532, 22538, 22539, 22541, 22546, 22555, 22559, 22566, 22570, 22571, 22576, 22577, 22579, 22582, 22585, 22586, 22591, 22592, 22594, 22597, 22598, 22600, 22602, 22604, 22608, 22611, 22612, 22617, 22618, 22619, 22620, 22621, 22622, 22623, 22624, 22627, 22628, 22629, 22632, 22634, 22636, 22638, 22639, 22640, 22641, 22644, 22645, 22647, 22648, 22652, 22656, 22662, 22663, 22665, 22667, 22669, 22671, 22676, 22679, 22682, 22683, 22684, 22688, 22699, 22701, 22702, 22704, 22706, 22713, 22714, 22716, 22720, 22724, 22725, 22727, 22728, 22730, 22736, 22739, 22746, 22749, 22750, 22753, 22755, 22757, 22765, 22769, 22789, 22793, 22796, 22797, 22798, 22800, 22803, 22817, 22819, 22821, 22835, 22843, 22848, 22849, 22854, 22858, 22862, 22863, 22873, 22874, 22875, 22876, 22877, 22880, 22881, 22883, 22887, 22890, 22901, 22918, 22923, 22925, 22927, 22928, 22931, 22932, 22937, 22939, 22951, 22955, 22956, 22962, 22963, 22970, 22974, 22984, 22986, 22988, 22995, 22996, 23000, 23010, 23013, 23014, 23017, 23026, 23030, 23033, 23043, 23044, 23045, 23046, 23051, 23054, 23074, 23087, 23088, 23089, 23091, 23092, 23093, 23096, 23097, 23102, 23107, 23112, 23117, 23142, 23149, 23165, 23168, 23169, 23177, 23179, 23180, 23181, 23185, 23186, 23194, 23200, 23211, 23212, 23222, 23226, 23228, 23229, 23238, 23240, 23250, 23251, 23252, 23265, 23266, 23272, 23274, 23280, 23282, 23283, 23295, 23297, 23301, 23308, 23314, 23321, 23329, 23333, 23339, 23342, 23344, 23346, 23355, 23359, 23361, 23364, 23372, 23373, 23383, 23394, 23395, 23398, 23405, 23409, 23410, 23412, 23414, 23416, 23417, 23418, 23420, 23422, 23428, 23434, 23438, 23449, 23450, 23454, 23455, 23457, 23459, 23461, 23468, 23474, 23475, 23477, 23478, 23499, 23500, 23501, 23513, 23514, 23519, 23520, 23531, 23534, 23543, 23546, 23549, 23550, 23557, 23562, 23563, 23565, 23572, 23585, 23591, 23595, 23608, 23610, 23613, 23614, 23617, 23621, 23632, 23634, 23643, 23644, 23648, 23656, 23657, 23659, 23660, 23663, 23664, 23669, 23674, 23676, 23677, 23678, 23679, 23685, 23688, 23694, 23698, 23700, 23703, 23704, 23706, 23707, 23708, 23709, 23714, 23715, 23717, 23722, 23727, 23731, 23736, 23740, 23749, 23750, 23751, 23752, 23753, 23756, 23757, 23760, 23762, 23766, 23772, 23774, 23781, 23795, 23800, 23802, 23811, 23812, 23814, 23822, 23824, 23830, 23831, 23835, 23838, 23842, 23843, 23844, 23849, 23864, 23866, 23867, 23870, 23871, 23879, 23880, 23881, 23884, 23885, 23890, 23891, 23892, 23899, 23906, 23909, 23910, 23912, 23913, 23915, 23920, 23925, 23929, 23931, 23937, 23947, 23948, 23950, 23959, 23966, 23967, 23970, 23985, 23986, 23990, 23994, 23997, 23999, 24000, 24006, 24007, 24009, 24018, 24021, 24022, 24023, 24032, 24036, 24043, 24048, 24049, 24062, 24068, 24070, 24071, 24085, 24086, 24089, 24092, 24093, 24094, 24098, 24099, 24109, 24111, 24116, 24125, 24128, 24134, 24138, 24140, 24146, 24147, 24149, 24153, 24161, 24166, 24169, 24170, 24173, 24175, 24179, 24181, 24191, 24196, 24202, 24203, 24217, 24231, 24233, 24235, 24237, 24243, 24250, 24252, 24261, 24262, 24272, 24278, 24287, 24292, 24297, 24299, 24309, 24321, 24323, 24324, 24328, 24331, 24338, 24342, 24347, 24352, 24357, 24360, 24362, 24367, 24374, 24384, 24388, 24391, 24392, 24397, 24398, 24399, 24410, 24413, 24418, 24422, 24423, 24430, 24431, 24432, 24434, 24436, 24445, 24446, 24452, 24457, 24458, 24459, 24461, 24471, 24474, 24476, 24478, 24481, 24489, 24490, 24492, 24495, 24496, 24500, 24505, 24511, 24527, 24532, 24538, 24540, 24541, 24543, 24545, 24546, 24561, 24566, 24568, 24573, 24583, 24586, 24587, 24589, 24590, 24591, 24593, 24598, 24606, 24608, 24609, 24617, 24624, 24626, 24630, 24632, 24635, 24636, 24637, 24640, 24649, 24666, 24671, 24677, 24681, 24687, 24702, 24712, 24714, 24717, 24750, 24751, 24754, 24758, 24761, 24762, 24771, 24774, 24775, 24798, 24799, 24800, 24802, 24809, 24813, 24814, 24817, 24818, 24825, 24841, 24848, 24851, 24852, 24871, 24875, 24885, 24886, 24887, 24899, 24902, 24908, 24914, 24915, 24920, 24938, 24943, 24955, 24959, 24961, 24965, 24973, 24974, 24976, 24978, 24979, 24983, 25000, 25007, 25016, 25017, 25019, 25021, 25023, 25024, 25034, 25047, 25049, 25051, 25056, 25059, 25074, 25080, 25081, 25085, 25089, 25090, 25095, 25097, 25120, 25131, 25136, 25139, 25140, 25141, 25145, 25150, 25156, 25164, 25165, 25167, 25168, 25172, 25185, 25188, 25189, 25190, 25210, 25211, 25218, 25223, 25227, 25234, 25250, 25253, 25255, 25270, 25271, 25272, 25273, 25274, 25280, 25282, 25287, 25292, 25296, 25300, 25304, 25309, 25311, 25320, 25321, 25323, 25328, 25335, 25337, 25341, 25343, 25344, 25346, 25348, 25353, 25354, 25359, 25365, 25371, 25375, 25376, 25377, 25385, 25392, 25398, 25401, 25405, 25406, 25413, 25414, 25419, 25421, 25432, 25437, 25440, 25446, 25450, 25452, 25462, 25463, 25466, 25468, 25469, 25480, 25483, 25492, 25500, 25504, 25508, 25515, 25516, 25526, 25529, 25530, 25537, 25538, 25540, 25543, 25559, 25567, 25571, 25573, 25585, 25586, 25587, 25590, 25595, 25596, 25597, 25599, 25606, 25615, 25621, 25622, 25626, 25633, 25634, 25642, 25655, 25665, 25674, 25682, 25712, 25719, 25723, 25724, 25726, 25729, 25750, 25754, 25755, 25756, 25759, 25768, 25770, 25773, 25778, 25796, 25801, 25818, 25820, 25836, 25837, 25850, 25852, 25862, 25876, 25888, 25891, 25897, 25899, 25900, 25902, 25904, 25906, 25908, 25916, 25919, 25927, 25929, 25931, 25939, 25945, 25951, 25954, 25961, 25962, 25963, 25964, 25968, 25972, 25977, 25979, 25981, 25983, 25987, 25994, 26000, 26004, 26005, 26011, 26018, 26019, 26022, 26023, 26030, 26034, 26037, 26040, 26050, 26051, 26052, 26053, 26054, 26060, 26066, 26067, 26068, 26071, 26075, 26078, 26079, 26081, 26085, 26086, 26090, 26091, 26095, 26097, 26100, 26107, 26111, 26116, 26119, 26122, 26124, 26125, 26127, 26146, 26147, 26150, 26152, 26154, 26156, 26158, 26159, 26160, 26163, 26168, 26169, 26172, 26182, 26184, 26186, 26188, 26190, 26192, 26193, 26196, 26198, 26199, 26201, 26203, 26204, 26205, 26207, 26208, 26210, 26219, 26222, 26223, 26224, 26225, 26227, 26235, 26240, 26241, 26244, 26247, 26249, 26250, 26252, 26256, 26258, 26261, 26262, 26264, 26273, 26274, 26275, 26276, 26278, 26280, 26285, 26287, 26288, 26289, 26302, 26304, 26306, 26307, 26310, 26312, 26315, 26317, 26319, 26320, 26321, 26322, 26323, 26325, 26326, 26327, 26328, 26329, 26330, 26332, 26333, 26335, 26337, 26338, 26339, 26343, 26347, 26350, 26351, 26352, 26353, 26354, 26358, 26361, 26362, 26363, 26364, 26365, 26366, 26368, 26369, 26372, 26374, 26377, 26379, 26380, 26382, 26383, 26384, 26387, 26389, 26392, 26395, 26397, 26398, 26402, 26406, 26408, 26413, 26414, 26416, 26417, 26420, 26422, 26423, 26436, 26438, 26439, 26442, 26443, 26449, 26451, 26454, 26462, 26468, 26470, 26477, 26479, 26483, 26485, 26497, 26500, 26502, 26503, 26509, 26520, 26522, 26527, 26528, 26533, 26537, 26538, 26540, 26541, 26551, 26552, 26558, 26562, 26569, 26570, 26573, 26575, 26578, 26579, 26583, 26594, 26597, 26598, 26609, 26611, 26612, 26617, 26619, 26620, 26621, 26625, 26632, 26636, 26641, 26642, 26643, 26645, 26652, 26656, 26657, 26664, 26666, 26667, 26668, 26670, 26671, 26675, 26680, 26682, 26683, 26686, 26689, 26691, 26696, 26697, 26698, 26703, 26706, 26709, 26710, 26719, 26723, 26724, 26725, 26733, 26738, 26739, 26743, 26748, 26750, 26751, 26752, 26754, 26755, 26756, 26760, 26761, 26762, 26764, 26765, 26771, 26774, 26780, 26781, 26782, 26787, 26801, 26808, 26812, 26813, 26819, 26824, 26827, 26828, 26830, 26831, 26832, 26835, 26837, 26841, 26843, 26847, 26848, 26849, 26854, 26863, 26867, 26873, 26877, 26878, 26881, 26886, 26897, 26900, 26903, 26913, 26914, 26921, 26944, 26946, 26957, 26958, 26962, 26969, 26970, 26981, 26984, 26990, 26997, 27000, 27001, 27005, 27009, 27019, 27026, 27036, 27045, 27050, 27051, 27052, 27059, 27066, 27071, 27077, 27105, 27107, 27109, 27111, 27113, 27115, 27120, 27123, 27127, 27144, 27145, 27148, 27149, 27151, 27152, 27161, 27167, 27169, 27170, 27172, 27178, 27183, 27184, 27186, 27188, 27191, 27196, 27204, 27206, 27207, 27209, 27211, 27212, 27215, 27217, 27218, 27220, 27228, 27230, 27232, 27233, 27234, 27235, 27238, 27239, 27240, 27244, 27245, 27249, 27250, 27251, 27253, 27254, 27264, 27266, 27267, 27268, 27271, 27275, 27276, 27279, 27281, 27282, 27284, 27285, 27287, 27292, 27293, 27296, 27298, 27303, 27310, 27316, 27319, 27320, 27321, 27324, 27326, 27330, 27337, 27342, 27345, 27356, 27363, 27364, 27367, 27369, 27371, 27372, 27385, 27387, 27394, 27398, 27402, 27409, 27412, 27422, 27438, 27439, 27444, 27445, 27447, 27458, 27459, 27460, 27470, 27472, 27476, 27477, 27479, 27484, 27485, 27489, 27497, 27499, 27500, 27502, 27503, 27506, 27507, 27509, 27512, 27532, 27534, 27537, 27542, 27546, 27552, 27556, 27569, 27572, 27577, 27584, 27585, 27586, 27594, 27595, 27597, 27605, 27610, 27612, 27616, 27621, 27637, 27639, 27643, 27644, 27647, 27650, 27651, 27656, 27660, 27661, 27662, 27665, 27666, 27678, 27683, 27685, 27686, 27691, 27692, 27694, 27696, 27698, 27699, 27701, 27702, 27708, 27710, 27719, 27721, 27722, 27725, 27726, 27728, 27730, 27734, 27736, 27742, 27744, 27746, 27748, 27749, 27750, 27752, 27754, 27755, 27756, 27758, 27763, 27767, 27768, 27769, 27770, 27776, 27782, 27783, 27784, 27791, 27800, 27801, 27802, 27806, 27807, 27809, 27811, 27814, 27815, 27816, 27820, 27821, 27823, 27824, 27825, 27827, 27829, 27830, 27832, 27833, 27834, 27835, 27838, 27840, 27841, 27844, 27850, 27851, 27852, 27853, 27855, 27859, 27860, 27861, 27864, 27865, 27867, 27873, 27874, 27876, 27884, 27887, 27888, 27892, 27893, 27894, 27896, 27898, 27907, 27910, 27911, 27913, 27914, 27918, 27919, 27923, 27924, 27931, 27932, 27934, 27940, 27941, 27942, 27943, 27944, 27951, 27958, 27962, 27964, 27970, 27971, 27976, 27988, 27994, 28000, 28003, 28007, 28009, 28010, 28015, 28017, 28025, 28030, 28032, 28045, 28047, 28048, 28055, 28056, 28068, 28071, 28073, 28076, 28078, 28081, 28092, 28096, 28100, 28101, 28102, 28113, 28114, 28116, 28119, 28120, 28131, 28132, 28134, 28135, 28143, 28145, 28146, 28156, 28158, 28160, 28161, 28162, 28170, 28186, 28190, 28191, 28219, 28220, 28221, 28222, 28223, 28227, 28231, 28235, 28242, 28243, 28244, 28248, 28250, 28251, 28254, 28255, 28261, 28265, 28272, 28279, 28280, 28281, 28289, 28302, 28304, 28312, 28315, 28317, 28326, 28327, 28332, 28336, 28339, 28341, 28344, 28346, 28348, 28352, 28356, 28358, 28367, 28371, 28374, 28377, 28380, 28385, 28390, 28392, 28394, 28395, 28399, 28414, 28422, 28425, 28429, 28438, 28445, 28458, 28459, 28463, 28468, 28477, 28479, 28480, 28485, 28488, 28498, 28500, 28503, 28520, 28522, 28526, 28528, 28530, 28536, 28537, 28543, 28545, 28547, 28554, 28556, 28561, 28564, 28565, 28567, 28574, 28577, 28584, 28585, 28586, 28588, 28593, 28602, 28603, 28612, 28627, 28631, 28634, 28637, 28640, 28643, 28645, 28647, 28663, 28669, 28672, 28675, 28678, 28682, 28684, 28690, 28695, 28705, 28713, 28732, 28735, 28737, 28741, 28743, 28746, 28748, 28750, 28752, 28754, 28755, 28764, 28775, 28779, 28782, 28787, 28798, 28812, 28813, 28814, 28820, 28828, 28833, 28836, 28838, 28839, 28840, 28843, 28851, 28858, 28864, 28865, 28866, 28867, 28869, 28872, 28883, 28885, 28887, 28888, 28889, 28892, 28894, 28907, 28912, 28916, 28923, 28939, 28947, 28948, 28957, 28958, 28976, 28986, 28996, 29000, 29004, 29007, 29008, 29010, 29033, 29035, 29036, 29047, 29052, 29063, 29076, 29080, 29087, 29088, 29099, 29100, 29118, 29125, 29135, 29137, 29138, 29141, 29142, 29143, 29148, 29151, 29154, 29156, 29157, 29158, 29167, 29168, 29173, 29179, 29185, 29186, 29187, 29192, 29193, 29194, 29196, 29198, 29206, 29210, 29211, 29213, 29214, 29215, 29216, 29219, 29221, 29223, 29225, 29226, 29229, 29232, 29235, 29238, 29240, 29244, 29245, 29246, 29250, 29252, 29253, 29255, 29258, 29260, 29261, 29262, 29263, 29264, 29266, 29270, 29275, 29277, 29278, 29284, 29285, 29289, 29291, 29293, 29296, 29298, 29300, 29302, 29303, 29305, 29307, 29308, 29309, 29310, 29311, 29312, 29313, 29314, 29315, 29317, 29318, 29320, 29321, 29323, 29324, 29325, 29326, 29327, 29329, 29331, 29334, 29335, 29338, 29341, 29342, 29343, 29344, 29345, 29346, 29347, 29348, 29349, 29350, 29351, 29354, 29356, 29357, 29358, 29363, 29368, 29370, 29371, 29372, 29375, 29376, 29377, 29378, 29379, 29380, 29382, 29387, 29390, 29392, 29403, 29416, 29425, 29427, 29432, 29433, 29441, 29443, 29458, 29462, 29468, 29475, 29480, 29481, 29483, 29496, 29497, 29504, 29507, 29510, 29511, 29512, 29514, 29528, 29530, 29543, 29553, 29563, 29567, 29580, 29600, 29620, 29622, 29632, 29636, 29640, 29643, 29644, 29645, 29650, 29652, 29654, 29655, 29656, 29661, 29666, 29668, 29677, 29678, 29681, 29684, 29685, 29687, 29689, 29704, 29710, 29713, 29721, 29726, 29727, 29736, 29738, 29742, 29745, 29748, 29749, 29750, 29759, 29762, 29763, 29764, 29769, 29770, 29774, 29775, 29777, 29781, 29791, 29793, 29794, 29795, 29797, 29798, 29806, 29807, 29808, 29811, 29812, 29813, 29815, 29818, 29819, 29823, 29824, 29825, 29827, 29828, 29829, 29830, 29832, 29833, 29834, 29835, 29836, 29838, 29839, 29840, 29842, 29844, 29847, 29849, 29851, 29855, 29860, 29861, 29863, 29865, 29866, 29872, 29874, 29875, 29877, 29882, 29884, 29885, 29895, 29900, 29914, 29916, 29919, 29924, 29925, 29933, 29934, 29939, 29941, 29951, 29959, 29964, 29971, 29979, 29981, 29985, 29988, 29989, 29991, 29993, 29994, 30000, 30001, 30003, 30004, 30012, 30013, 30027, 30028, 30029, 30031, 30034, 30038, 30058, 30061, 30065, 30072, 30077, 30079, 30084, 30097, 30099, 30111, 30120, 30132, 30140, 30143, 30144, 30147, 30148, 30160, 30161, 30164, 30167, 30170, 30182, 30184, 30188, 30192, 30199, 30206, 30208, 30209, 30213, 30236, 30238, 30240, 30244, 30248, 30250, 30256, 30260, 30274, 30276, 30277, 30278, 30283, 30286, 30289, 30290, 30297, 30304, 30314, 30318, 30324, 30325, 30330, 30333, 30335, 30340, 30344, 30348, 30356, 30368, 30372, 30375, 30385, 30387, 30390, 30398, 30405, 30406, 30409, 30418, 30433, 30436, 30446, 30449, 30450, 30459, 30474, 30476, 30481, 30485, 30486, 30488, 30489, 30493, 30495, 30500, 30501, 30505, 30506, 30507, 30508, 30514, 30521, 30524, 30528, 30530, 30534, 30547, 30555, 30558, 30565, 30568, 30572, 30576, 30578, 30583, 30590, 30595, 30597, 30613, 30619, 30620, 30642, 30648, 30661, 30663, 30672, 30680, 30682, 30686, 30687, 30688, 30689, 30710, 30711, 30738, 30748, 30749, 30750, 30751, 30754, 30758, 30770, 30777, 30812, 30823, 30827, 30831, 30834, 30843, 30844, 30850, 30867, 30872, 30877, 30879, 30884, 30885, 30886, 30890, 30891, 30896, 30899, 30909, 30912, 30913, 30914, 30927, 30931, 30937, 30938, 30940, 30943, 30947, 30951, 30954, 30955, 30957, 30959, 30961, 30962, 30971, 30977, 30983, 30985, 30996, 30999, 31000, 31001, 31002, 31006, 31015, 31016, 31017, 31023, 31025, 31027, 31031, 31037, 31039, 31044, 31046, 31047, 31048, 31061, 31063, 31065, 31071, 31072, 31073, 31074, 31075, 31080, 31088, 31092, 31098, 31101, 31104, 31107, 31108, 31111, 31114, 31116, 31121, 31128, 31133, 31135, 31136, 31140, 31145, 31146, 31148, 31153, 31157, 31159, 31163, 31169, 31171, 31173, 31178, 31183, 31186, 31187, 31190, 31191, 31195, 31205, 31206, 31219, 31220, 31228, 31230, 31235, 31236, 31238, 31242, 31247, 31248, 31249, 31250, 31256, 31258, 31274, 31283, 31293, 31296, 31299, 31301, 31306, 31314, 31318, 31321, 31322, 31324, 31327, 31333, 31335, 31340, 31345, 31356, 31359, 31377, 31382, 31384, 31389, 31393, 31394, 31396, 31397, 31401, 31403, 31406, 31407, 31409, 31411, 31417, 31418, 31423, 31426, 31429, 31444, 31450, 31456, 31460, 31464, 31467, 31481, 31482, 31483, 31495, 31497, 31500, 31504, 31508, 31512, 31513, 31515, 31518, 31521, 31523, 31532, 31533, 31539, 31540, 31541, 31542, 31544, 31550, 31553, 31556, 31559, 31563, 31578, 31582, 31589, 31597, 31600, 31603, 31605, 31620, 31627, 31628, 31631, 31635, 31641, 31643, 31644, 31651, 31656, 31666, 31668, 31670, 31674, 31678, 31684, 31693, 31699, 31700, 31704, 31706, 31708, 31721, 31727, 31731, 31732, 31738, 31746, 31750, 31758, 31760, 31761, 31765, 31766, 31767, 31771, 31772, 31776, 31778, 31780, 31781, 31783, 31802, 31803, 31804, 31807, 31808, 31812, 31816, 31817, 31832, 31837, 31838, 31846, 31849, 31850, 31854, 31855, 31857, 31869, 31876, 31878, 31881, 31885, 31888, 31892, 31894, 31895, 31896, 31898, 31902, 31912, 31917, 31923, 31925, 31926, 31928, 31930, 31945, 31947, 31950, 31954, 31955, 31956, 31959, 31962, 31966, 31974, 31975, 31977, 31979, 31980, 31983, 31984, 31985, 31989, 31991, 31999, 32000, 32007, 32011, 32012, 32015, 32016, 32025, 32027, 32028, 32033, 32034, 32039, 32041, 32043, 32048, 32055, 32059, 32060, 32063, 32064, 32066, 32068, 32070, 32075, 32081, 32088, 32089, 32102, 32103, 32106, 32108, 32109, 32114, 32118, 32123, 32138, 32142, 32144, 32145, 32158, 32161, 32163, 32164, 32165, 32168, 32174, 32175, 32181, 32203, 32204, 32209, 32210, 32211, 32216, 32220, 32226, 32228, 32237, 32238, 32239, 32242, 32244, 32250, 32251, 32252, 32254, 32255, 32261, 32277, 32278, 32280, 32284, 32286, 32288, 32290, 32291, 32293, 32297, 32300, 32301, 32302, 32306, 32308, 32309, 32310, 32314, 32315, 32322, 32324, 32325, 32330, 32332, 32352, 32353, 32355, 32362, 32366, 32375, 32390, 32393, 32399, 32402, 32403, 32413, 32417, 32424, 32428, 32430, 32431, 32440, 32446, 32452, 32458, 32459, 32469, 32475, 32477, 32479, 32481, 32482, 32491, 32498, 32499, 32500, 32501, 32502, 32503, 32522, 32524, 32526, 32528, 32533, 32534, 32535, 32537, 32538, 32543, 32546, 32549, 32555, 32557, 32559, 32578, 32589, 32590, 32593, 32601, 32603, 32604, 32605, 32609, 32640, 32641, 32649, 32654, 32667, 32673, 32674, 32676, 32679, 32680, 32692, 32703, 32707, 32725, 32728, 32733, 32742, 32748, 32750, 32757, 32759, 32763, 32768, 32771, 32773, 32775, 32781, 32782, 32791, 32793, 32796, 32804, 32806, 32808, 32813, 32825, 32841, 32846, 32848, 32859, 32867, 32870, 32871, 32877, 32880, 32887, 32888, 32893, 32895, 32896, 32897, 32902, 32903, 32911, 32917, 32923, 32928, 32939, 32943, 32956, 32957, 32958, 32976, 32977, 32978, 32980, 32981, 32986, 32990, 32996, 32998, 33000, 33002, 33004, 33012, 33015, 33020, 33023, 33026, 33030, 33042, 33047, 33049, 33053, 33056, 33057, 33064, 33070, 33072, 33079, 33083, 33087, 33091, 33094, 33095, 33097, 33098, 33103, 33117, 33121, 33124, 33126, 33128, 33129, 33133, 33138, 33140, 33142, 33147, 33159, 33162, 33166, 33168, 33169, 33172, 33176, 33177, 33179, 33180, 33181, 33184, 33185, 33186, 33187, 33192, 33194, 33196, 33199, 33215, 33222, 33223, 33227, 33228, 33231, 33234, 33236, 33242, 33245, 33246, 33249, 33250, 33260, 33261, 33273, 33276, 33278, 33292, 33297, 33298, 33305, 33309, 33310, 33311, 33312, 33318, 33322, 33324, 33327, 33335, 33339, 33352, 33355, 33357, 33361, 33363, 33370, 33372, 33374, 33376, 33378, 33386, 33387, 33388, 33395, 33408, 33409, 33411, 33413, 33414, 33421, 33424, 33431, 33433, 33434, 33437, 33438, 33443, 33449, 33457, 33464, 33472, 33474, 33475, 33481, 33492, 33499, 33500, 33503, 33504, 33505, 33506, 33510, 33511, 33521, 33523, 33525, 33527, 33533, 33542, 33545, 33549, 33555, 33556, 33560, 33561, 33565, 33568, 33570, 33576, 33580, 33581, 33583, 33586, 33588, 33590, 33591, 33594, 33596, 33597, 33603, 33609, 33618, 33619, 33620, 33623, 33625, 33635, 33636, 33637, 33638, 33644, 33654, 33655, 33658, 33661, 33666, 33669, 33670, 33694, 33705, 33706, 33707, 33711, 33719, 33720, 33722, 33724, 33725, 33726, 33729, 33733, 33738, 33749, 33750, 33751, 33753, 33761, 33767, 33772, 33779, 33783, 33797, 33798, 33800, 33803, 33804, 33806, 33808, 33812, 33815, 33834, 33836, 33837, 33845, 33849, 33857, 33862, 33868, 33872, 33876, 33879, 33884, 33886, 33887, 33895, 33903, 33907, 33914, 33916, 33919, 33921, 33926, 33931, 33934, 33937, 33952, 33954, 33956, 33963, 33966, 33970, 33971, 33973, 33975, 33981, 33984, 33987, 33993, 33995, 33998, 33999, 34000, 34002, 34003, 34008, 34020, 34021, 34022, 34029, 34031, 34033, 34040, 34044, 34045, 34053, 34056, 34060, 34061, 34068, 34071, 34072, 34081, 34085, 34088, 34100, 34101, 34111, 34127, 34130, 34133, 34134, 34136, 34150, 34156, 34158, 34159, 34167, 34173, 34174, 34179, 34186, 34189, 34191, 34205, 34208, 34220, 34224, 34226, 34228, 34230, 34232, 34233, 34234, 34235, 34243, 34245, 34248, 34249, 34250, 34251, 34261, 34266, 34274, 34277, 34285, 34288, 34289, 34290, 34294, 34298, 34300, 34302, 34332, 34335, 34337, 34340, 34348, 34349, 34350, 34366, 34367, 34368, 34370, 34372, 34382, 34399, 34409, 34411, 34414, 34417, 34427, 34439, 34441, 34443, 34444, 34447, 34452, 34454, 34455, 34463, 34475, 34481, 34490, 34497, 34498, 34500, 34512, 34516, 34520, 34533, 34538, 34540, 34545, 34547, 34551, 34553, 34560, 34566, 34569, 34572, 34576, 34577, 34581, 34582, 34583, 34585, 34593, 34614, 34615, 34619, 34623, 34631, 34633, 34634, 34642, 34654, 34657, 34659, 34660, 34666, 34680, 34681, 34693, 34695, 34698, 34701, 34714, 34715, 34717, 34723, 34731, 34747, 34749, 34750, 34755, 34757, 34768, 34769, 34791, 34793, 34795, 34802, 34805, 34810, 34815, 34826, 34833, 34834, 34836, 34837, 34838, 34840, 34844, 34855, 34858, 34865, 34868, 34881, 34882, 34888, 34915, 34920, 34922, 34924, 34930, 34932, 34937, 34946, 34948, 34953, 34954, 34955, 34965, 34966, 34969, 34974, 34975, 34977, 34985, 34989, 34999, 35000, 35011, 35014, 35016, 35017, 35018, 35019, 35022, 35027, 35034, 35039, 35043, 35048, 35051, 35061, 35071, 35079, 35085, 35086, 35087, 35094, 35096, 35097, 35101, 35102, 35107, 35113, 35117, 35121, 35126, 35131, 35132, 35138, 35144, 35145, 35146, 35148, 35153, 35155, 35157, 35158, 35162, 35164, 35172, 35174, 35181, 35189, 35194, 35195, 35203, 35206, 35228, 35237, 35241, 35242, 35245, 35247, 35250, 35253, 35257, 35269, 35277, 35288, 35289, 35295, 35298, 35303, 35306, 35313, 35318, 35324, 35325, 35329, 35334, 35335, 35344, 35347, 35349, 35354, 35356, 35366, 35370, 35373, 35396, 35399, 35401, 35412, 35415, 35421, 35425, 35435, 35456, 35463, 35465, 35469, 35470, 35475, 35476, 35486, 35496, 35498, 35500, 35512, 35515, 35518, 35520, 35523, 35528, 35531, 35532, 35533, 35535, 35539, 35543, 35549, 35552, 35559, 35562, 35565, 35571, 35572, 35574, 35577, 35579, 35584, 35585, 35586, 35598, 35600, 35610, 35615, 35616, 35619, 35622, 35627, 35628, 35630, 35631, 35634, 35636, 35643, 35647, 35652, 35661, 35662, 35664, 35667, 35685, 35689, 35696, 35704, 35717, 35718, 35721, 35725, 35726, 35734, 35735, 35739, 35746, 35750, 35751, 35752, 35763, 35768, 35770, 35771, 35774, 35781, 35782, 35783, 35788, 35794, 35795, 35797, 35798, 35799, 35800, 35803, 35805, 35807, 35808, 35812, 35816, 35819, 35820, 35821, 35822, 35824, 35828, 35831, 35833, 35838, 35839, 35842, 35844, 35848, 35849, 35854, 35864, 35869, 35876, 35878, 35887, 35890, 35896, 35899, 35902, 35908, 35911, 35914, 35921, 35932, 35942, 35946, 35947, 35964, 35971, 35976, 35981, 35999, 36000, 36001, 36019, 36028, 36030, 36041, 36045, 36054, 36062, 36063, 36070, 36071, 36072, 36073, 36079, 36081, 36082, 36088, 36089, 36091, 36097, 36101, 36103, 36109, 36111, 36113, 36124, 36126, 36127, 36132, 36148, 36151, 36157, 36164, 36165, 36187, 36193, 36207, 36220, 36225, 36228, 36236, 36243, 36246, 36249, 36259, 36263, 36271, 36278, 36281, 36290, 36295, 36297, 36299, 36303, 36306, 36307, 36313, 36315, 36317, 36319, 36344, 36362, 36364, 36367, 36386, 36387, 36411, 36431, 36432, 36433, 36436, 36447, 36450, 36455, 36459, 36460, 36461, 36464, 36469, 36471, 36473, 36475, 36500, 36503, 36525, 36526, 36530, 36533, 36540, 36546, 36547, 36548, 36551, 36555, 36558, 36562, 36572, 36584, 36588, 36589, 36595, 36598, 36600, 36612, 36619, 36624, 36635, 36639, 36668, 36688, 36702, 36722, 36723, 36729, 36730, 36736, 36748, 36750, 36759, 36763, 36765, 36774, 36778, 36796, 36801, 36802, 36805, 36806, 36823, 36835, 36842, 36845, 36847, 36853, 36866, 36867, 36873, 36883, 36890, 36891, 36895, 36899, 36903, 36906, 36913, 36921, 36923, 36934, 36941, 36955, 36957, 36959, 36973, 36975, 36976, 36979, 36982, 36984, 36988, 36990, 36992, 36998, 37000, 37001, 37003, 37013, 37014, 37029, 37035, 37036, 37046, 37049, 37051, 37062, 37067, 37076, 37082, 37084, 37095, 37102, 37106, 37107, 37115, 37116, 37117, 37119, 37120, 37125, 37136, 37138, 37139, 37157, 37160, 37162, 37164, 37166, 37179, 37180, 37181, 37184, 37190, 37195, 37201, 37210, 37222, 37226, 37230, 37235, 37237, 37244, 37248, 37249, 37250, 37252, 37253, 37255, 37256, 37258, 37269, 37272, 37274, 37279, 37286, 37289, 37296, 37298, 37299, 37311, 37323, 37332, 37333, 37339, 37344, 37345, 37354, 37365, 37366, 37373, 37380, 37386, 37388, 37392, 37403, 37405, 37411, 37416, 37421, 37434, 37440, 37442, 37444, 37447, 37449, 37452, 37454, 37461, 37471, 37472, 37473, 37474, 37475, 37476, 37487, 37490, 37493, 37497, 37500, 37520, 37522, 37530, 37545, 37547, 37548, 37567, 37568, 37578, 37580, 37582, 37585, 37597, 37599, 37601, 37614, 37615, 37620, 37623, 37632, 37637, 37643, 37671, 37674, 37697, 37700, 37705, 37711, 37724, 37732, 37740, 37748, 37750, 37763, 37770, 37787, 37796, 37797, 37798, 37811, 37831, 37839, 37846, 37848, 37856, 37859, 37863, 37864, 37871, 37873, 37883, 37886, 37889, 37890, 37897, 37903, 37904, 37911, 37913, 37919, 37925, 37930, 37936, 37940, 37949, 37955, 37957, 37961, 37963, 37965, 37972, 37973, 37975, 37999, 38000, 38001, 38007, 38009, 38020, 38021, 38024, 38027, 38029, 38036, 38042, 38046, 38058, 38063, 38067, 38068, 38076, 38081, 38085, 38088, 38090, 38097, 38098, 38100, 38101, 38105, 38106, 38147, 38149, 38159, 38163, 38165, 38175, 38178, 38181, 38190, 38206, 38209, 38211, 38221, 38226, 38227, 38232, 38244, 38245, 38250, 38251, 38259, 38262, 38269, 38272, 38275, 38276, 38277, 38278, 38293, 38308, 38310, 38312, 38322, 38323, 38324, 38352, 38354, 38361, 38369, 38376, 38377, 38378, 38389, 38401, 38411, 38412, 38422, 38429, 38430, 38433, 38445, 38450, 38452, 38460, 38461, 38480, 38481, 38488, 38491, 38500, 38504, 38509, 38514, 38518, 38524, 38525, 38530, 38531, 38535, 38542, 38545, 38547, 38550, 38559, 38561, 38563, 38566, 38569, 38571, 38573, 38574, 38575, 38577, 38598, 38601, 38602, 38603, 38605, 38606, 38609, 38615, 38624, 38638, 38646, 38650, 38652, 38653, 38654, 38657, 38660, 38661, 38672, 38681, 38682, 38691, 38692, 38699, 38703, 38716, 38720, 38722, 38729, 38741, 38742, 38750, 38751, 38752, 38753, 38757, 38774, 38776, 38780, 38784, 38785, 38786, 38793, 38799, 38813, 38815, 38818, 38821, 38822, 38826, 38832, 38846, 38849, 38850, 38852, 38857, 38860, 38865, 38867, 38870, 38873, 38874, 38881, 38885, 38887, 38897, 38900, 38904, 38908, 38909, 38914, 38916, 38922, 38927, 38928, 38932, 38933, 38934, 38937, 38947, 38951, 38952, 38953, 38955, 38956, 38961, 38963, 38974, 38976, 38993, 39000, 39009, 39011, 39012, 39020, 39022, 39023, 39029, 39032, 39033, 39037, 39038, 39041, 39046, 39049, 39054, 39062, 39067, 39069, 39070, 39073, 39075, 39076, 39079, 39086, 39090, 39091, 39097, 39119, 39120, 39124, 39131, 39133, 39140, 39141, 39151, 39159, 39164, 39166, 39182, 39198, 39201, 39226, 39229, 39250, 39291, 39296, 39304, 39305, 39308, 39312, 39317, 39318, 39319, 39344, 39346, 39350, 39359, 39361, 39362, 39365, 39368, 39369, 39370, 39375, 39376, 39377, 39385, 39387, 39397, 39400, 39407, 39410, 39422, 39428, 39431, 39433, 39434, 39435, 39440, 39448, 39451, 39462, 39469, 39472, 39476, 39477, 39478, 39480, 39481, 39486, 39489, 39490, 39496, 39500, 39507, 39520, 39521, 39528, 39529, 39531, 39533, 39535, 39546, 39549, 39550, 39557, 39561, 39562, 39563, 39565, 39570, 39573, 39580, 39585, 39594, 39595, 39599, 39600, 39602, 39609, 39611, 39613, 39614, 39616, 39619, 39633, 39634, 39639, 39640, 39646, 39659, 39672, 39676, 39685, 39687, 39688, 39691, 39692, 39699, 39701, 39702, 39703, 39705, 39711, 39716, 39717, 39719, 39723, 39730, 39732, 39735, 39740, 39748, 39750, 39751, 39752, 39760, 39762, 39766, 39770, 39774, 39780, 39791, 39795, 39799, 39806, 39813, 39814, 39817, 39823, 39828, 39844, 39848, 39860, 39862, 39863, 39877, 39878, 39881, 39883, 39888, 39889, 39895, 39899, 39907, 39915, 39916, 39919, 39921, 39927, 39931, 39932, 39937, 39938, 39952, 39953, 39969, 39971, 39976, 39977, 39978, 39983, 39984, 39989, 39998, 39999, 40000, 40002, 40003, 40020, 40023, 40028, 40033, 40044, 40045, 40048, 40054, 40062, 40063, 40064, 40071, 40072, 40074, 40076, 40082, 40085, 40088, 40091, 40095, 40100, 40104, 40105, 40107, 40108, 40111, 40116, 40118, 40133, 40144, 40147, 40148, 40149, 40150, 40152, 40157, 40158, 40171, 40175, 40177, 40181, 40183, 40194, 40195, 40196, 40200, 40205, 40208, 40215, 40230, 40236, 40242, 40243, 40247, 40250, 40251, 40255, 40256, 40257, 40264, 40265, 40271, 40273, 40278, 40283, 40286, 40288, 40291, 40294, 40302, 40314, 40315, 40320, 40322, 40324, 40325, 40326, 40331, 40340, 40344, 40346, 40349, 40350, 40357, 40359, 40365, 40368, 40369, 40372, 40377, 40378, 40388, 40398, 40405, 40411, 40423, 40426, 40428, 40430, 40433, 40439, 40443, 40450, 40451, 40457, 40461, 40463, 40466, 40474, 40476, 40480, 40481, 40482, 40490, 40491, 40493, 40499, 40500, 40513, 40523, 40525, 40527, 40529, 40532, 40539, 40542, 40546, 40548, 40549, 40553, 40555, 40556, 40562, 40567, 40569, 40575, 40578, 40581, 40587, 40589, 40592, 40594, 40595, 40599, 40603, 40605, 40607, 40610, 40615, 40617, 40630, 40632, 40634, 40635, 40640, 40642, 40646, 40653, 40656, 40659, 40663, 40666, 40668, 40669, 40694, 40702, 40706, 40707, 40709, 40710, 40720, 40722, 40723, 40737, 40738, 40747, 40750, 40751, 40754, 40762, 40767, 40768, 40769, 40782, 40783, 40784, 40799, 40801, 40816, 40819, 40826, 40829, 40833, 40840, 40843, 40844, 40846, 40853, 40858, 40860, 40862, 40865, 40873, 40879, 40891, 40893, 40895, 40901, 40907, 40913, 40927, 40933, 40935, 40944, 40950, 40954, 40959, 40965, 40971, 40972, 40979, 40980, 40989, 40991, 40997, 40999, 41000, 41018, 41021, 41024, 41025, 41032, 41033, 41034, 41039, 41041, 41049, 41051, 41054, 41060, 41063, 41075, 41083, 41089, 41090, 41101, 41103, 41104, 41106, 41108, 41110, 41111, 41113, 41117, 41118, 41128, 41132, 41139, 41143, 41151, 41152, 41160, 41162, 41166, 41171, 41173, 41185, 41190, 41197, 41199, 41208, 41215, 41221, 41222, 41229, 41231, 41234, 41238, 41242, 41250, 41251, 41261, 41266, 41279, 41286, 41300, 41305, 41308, 41314, 41322, 41326, 41329, 41330, 41337, 41344, 41347, 41349, 41354, 41359, 41371, 41382, 41388, 41393, 41416, 41422, 41433, 41449, 41451, 41453, 41457, 41463, 41470, 41472, 41477, 41481, 41483, 41485, 41488, 41492, 41499, 41500, 41506, 41513, 41519, 41522, 41527, 41528, 41529, 41531, 41535, 41537, 41549, 41565, 41567, 41570, 41575, 41579, 41582, 41588, 41589, 41592, 41596, 41601, 41606, 41607, 41608, 41610, 41615, 41620, 41623, 41625, 41627, 41629, 41636, 41637, 41643, 41645, 41656, 41661, 41665, 41666, 41673, 41678, 41679, 41688, 41689, 41691, 41694, 41696, 41698, 41700, 41702, 41710, 41711, 41712, 41719, 41721, 41723, 41724, 41726, 41734, 41736, 41738, 41739, 41743, 41744, 41745, 41746, 41759, 41761, 41763, 41764, 41765, 41767, 41770, 41771, 41773, 41774, 41775, 41777, 41781, 41783, 41785, 41788, 41790, 41792, 41794, 41795, 41796, 41797, 41807, 41815, 41816, 41817, 41820, 41825, 41829, 41835, 41837, 41840, 41843, 41844, 41845, 41847, 41852, 41855, 41856, 41867, 41868, 41869, 41870, 41871, 41872, 41885, 41891, 41899, 41900, 41902, 41911, 41913, 41921, 41923, 41926, 41936, 41953, 41954, 41955, 41956, 41959, 41967, 41975, 41981, 41983, 41992, 41997, 42000, 42010, 42017, 42021, 42029, 42037, 42039, 42040, 42042, 42066, 42075, 42077, 42080, 42085, 42086, 42089, 42090, 42091, 42096, 42101, 42102, 42104, 42107, 42116, 42117, 42126, 42127, 42131, 42134, 42135, 42139, 42141, 42142, 42144, 42151, 42153, 42154, 42171, 42172, 42174, 42175, 42176, 42182, 42189, 42190, 42191, 42196, 42202, 42204, 42205, 42209, 42227, 42231, 42232, 42237, 42239, 42244, 42250, 42251, 42257, 42262, 42271, 42290, 42297, 42299, 42307, 42313, 42316, 42318, 42330, 42332, 42345, 42346, 42351, 42353, 42366, 42375, 42380, 42390, 42393, 42396, 42407, 42410, 42413, 42418, 42432, 42435, 42442, 42444, 42453, 42458, 42461, 42464, 42466, 42477, 42488, 42500, 42506, 42510, 42514, 42518, 42522, 42533, 42535, 42536, 42541, 42545, 42546, 42549, 42551, 42552, 42559, 42564, 42565, 42580, 42582, 42584, 42590, 42594, 42595, 42608, 42616, 42617, 42619, 42625, 42636, 42639, 42640, 42649, 42657, 42668, 42670, 42684, 42686, 42688, 42690, 42694, 42697, 42700, 42703, 42704, 42715, 42719, 42725, 42730, 42737, 42740, 42750, 42759, 42768, 42772, 42791, 42792, 42798, 42799, 42808, 42812, 42821, 42835, 42843, 42849, 42851, 42854, 42860, 42862, 42866, 42867, 42872, 42875, 42883, 42885, 42888, 42892, 42895, 42896, 42899, 42903, 42909, 42918, 42920, 42923, 42926, 42938, 42939, 42944, 42945, 42949, 42950, 42952, 42953, 42956, 42966, 42971, 42980, 42985, 42986, 42993, 42999, 43000, 43004, 43009, 43011, 43012, 43016, 43017, 43022, 43023, 43026, 43027, 43034, 43035, 43052, 43057, 43060, 43063, 43066, 43072, 43079, 43082, 43090, 43098, 43119, 43146, 43152, 43154, 43164, 43170, 43183, 43188, 43189, 43194, 43196, 43209, 43229, 43233, 43244, 43248, 43250, 43251, 43254, 43255, 43260, 43271, 43276, 43288, 43297, 43311, 43321, 43322, 43326, 43334, 43335, 43343, 43348, 43354, 43355, 43375, 43376, 43377, 43380, 43391, 43402, 43406, 43421, 43435, 43437, 43450, 43487, 43489, 43493, 43500, 43505, 43513, 43518, 43532, 43538, 43551, 43560, 43573, 43578, 43579, 43580, 43581, 43582, 43584, 43587, 43588, 43596, 43598, 43599, 43607, 43616, 43617, 43618, 43619, 43623, 43625, 43628, 43629, 43630, 43631, 43632, 43633, 43635, 43638, 43646, 43648, 43657, 43658, 43663, 43665, 43670, 43675, 43680, 43682, 43684, 43686, 43688, 43692, 43694, 43700, 43703, 43708, 43712, 43713, 43715, 43718, 43719, 43720, 43733, 43736, 43740, 43746, 43750, 43753, 43754, 43755, 43756, 43759, 43761, 43762, 43763, 43764, 43765, 43769, 43775, 43780, 43781, 43782, 43786, 43787, 43791, 43796, 43799, 43809, 43810, 43815, 43821, 43827, 43828, 43829, 43832, 43833, 43836, 43842, 43845, 43846, 43848, 43853, 43855, 43864, 43867, 43870, 43872, 43874, 43875, 43877, 43878, 43881, 43882, 43883, 43884, 43887, 43891, 43895, 43897, 43898, 43902, 43906, 43907, 43911, 43912, 43914, 43917, 43919, 43935, 43936, 43937, 43941, 43943, 43944, 43946, 43949, 43952, 43953, 43954, 43959, 43961, 43963, 43965, 43967, 43968, 43969, 43970, 43971, 43978, 43980, 43982, 43987, 43989, 43992, 43993, 43994, 43998, 44000, 44005, 44006, 44007, 44008, 44009, 44012, 44014, 44016, 44017, 44018, 44022, 44024, 44025, 44027, 44028, 44032, 44033, 44037, 44040, 44041, 44042, 44043, 44051, 44052, 44058, 44059, 44061, 44066, 44071, 44075, 44077, 44081, 44083, 44093, 44094, 44097, 44106, 44107, 44113, 44114, 44116, 44123, 44131, 44132, 44136, 44138, 44143, 44154, 44166, 44178, 44182, 44186, 44190, 44191, 44208, 44209, 44211, 44213, 44221, 44222, 44224, 44226, 44230, 44231, 44234, 44236, 44241, 44247, 44249, 44250, 44254, 44262, 44264, 44265, 44267, 44268, 44276, 44282, 44288, 44292, 44294, 44296, 44297, 44302, 44306, 44308, 44312, 44315, 44324, 44326, 44334, 44339, 44340, 44342, 44343, 44348, 44351, 44365, 44369, 44370, 44371, 44374, 44376, 44377, 44381, 44394, 44396, 44398, 44400, 44405, 44411, 44412, 44415, 44421, 44430, 44431, 44433, 44434, 44451, 44452, 44457, 44463, 44466, 44472, 44480, 44481, 44484, 44487, 44488, 44489, 44491, 44498, 44500, 44505, 44507, 44508, 44514, 44515, 44520, 44531, 44537, 44540, 44544, 44553, 44556, 44563, 44568, 44576, 44579, 44581, 44591, 44593, 44596, 44599, 44600, 44602, 44614, 44615, 44617, 44620, 44621, 44626, 44638, 44641, 44646, 44647, 44651, 44660, 44662, 44664, 44665, 44666, 44667, 44669, 44675, 44677, 44679, 44680, 44687, 44688, 44695, 44696, 44697, 44698, 44702, 44703, 44705, 44706, 44707, 44708, 44709, 44712, 44713, 44715, 44722, 44724, 44729, 44735, 44747, 44748, 44750, 44756, 44759, 44760, 44761, 44770, 44775, 44776, 44780, 44785, 44786, 44787, 44789, 44790, 44794, 44795, 44797, 44799, 44802, 44806, 44808, 44815, 44819, 44825, 44828, 44829, 44831, 44832, 44835, 44840, 44841, 44843, 44847, 44855, 44860, 44863, 44867, 44872, 44873, 44874, 44875, 44876, 44877, 44878, 44880, 44882, 44889, 44895, 44901, 44902, 44908, 44909, 44915, 44919, 44924, 44925, 44927, 44928, 44929, 44933, 44936, 44937, 44939, 44942, 44948, 44949, 44950, 44954, 44956, 44959, 44961, 44971, 44973, 44975, 44977, 44978, 44983, 44987, 44989, 44992, 44995, 44996, 44998, 45000, 45001, 45004, 45006, 45007, 45008, 45009, 45010, 45011, 45012, 45013, 45014, 45017, 45021, 45033, 45036, 45037, 45038, 45046, 45047, 45049, 45054, 45055, 45063, 45073, 45077, 45078, 45081, 45089, 45093, 45094, 45113, 45115, 45120, 45121, 45122, 45123, 45124, 45126, 45128, 45129, 45132, 45134, 45138, 45140, 45142, 45144, 45147, 45151, 45152, 45155, 45159, 45165, 45166, 45168, 45174, 45177, 45179, 45180, 45184, 45186, 45188, 45192, 45194, 45198, 45200, 45201, 45202, 45204, 45206, 45209, 45211, 45212, 45214, 45224, 45226, 45229, 45231, 45232, 45233, 45236, 45238, 45239, 45241, 45243, 45244, 45245, 45246, 45249, 45250, 45251, 45255, 45256, 45257, 45260, 45261, 45262, 45267, 45268, 45270, 45275, 45276, 45277, 45278, 45281, 45282, 45283, 45286, 45288, 45291, 45296, 45297, 45300, 45303, 45304, 45306, 45309, 45310, 45311, 45314, 45317, 45327, 45337, 45339, 45341, 45342, 45344, 45345, 45346, 45347, 45354, 45355, 45361, 45371, 45372, 45375, 45378, 45383, 45385, 45387, 45400, 45404, 45408, 45420, 45423, 45426, 45427, 45428, 45429, 45430, 45431, 45433, 45435, 45437, 45443, 45446, 45447, 45456, 45458, 45461, 45464, 45470, 45475, 45476, 45477, 45478, 45479, 45480, 45485, 45486, 45493, 45494, 45497, 45499, 45500, 45503, 45505, 45506, 45512, 45513, 45517, 45518, 45519, 45521, 45522, 45523, 45524, 45526, 45527, 45534, 45535, 45536, 45541, 45542, 45544, 45547, 45549, 45550, 45552, 45553, 45568, 45571, 45575, 45576, 45585, 45589, 45590, 45591, 45602, 45610, 45615, 45616, 45619, 45627, 45632, 45639, 45641, 45643, 45647, 45649, 45650, 45652, 45657, 45663, 45666, 45672, 45673, 45674, 45678, 45680, 45681, 45685, 45688, 45694, 45695, 45707, 45711, 45712, 45718, 45721, 45726, 45727, 45729, 45731, 45732, 45733, 45734, 45738, 45739, 45741, 45744, 45746, 45748, 45750, 45754, 45756, 45770, 45775, 45780, 45791, 45792, 45794, 45798, 45808, 45812, 45820, 45824, 45825, 45831, 45836, 45840, 45843, 45855, 45860, 45867, 45868, 45873, 45876, 45880, 45883, 45887, 45888, 45893, 45895, 45898, 45902, 45903, 45904, 45911, 45921, 45923, 45926, 45933, 45935, 45936, 45938, 45941, 45945, 45946, 45951, 45959, 45960, 45961, 45968, 45974, 45979, 45981, 45983, 45984, 45986, 45988, 45996, 46000, 46001, 46004, 46008, 46009, 46012, 46019, 46024, 46025, 46029, 46031, 46033, 46037, 46041, 46045, 46049, 46051, 46062, 46064, 46069, 46073, 46075, 46085, 46087, 46089, 46091, 46092, 46093, 46094, 46095, 46099, 46108, 46112, 46113, 46116, 46117, 46119, 46120, 46122, 46125, 46130, 46133, 46139, 46140, 46142, 46143, 46155, 46158, 46160, 46163, 46171, 46174, 46194, 46199, 46203, 46205, 46206, 46207, 46208, 46209, 46213, 46221, 46229, 46231, 46232, 46233, 46244, 46250, 46251, 46254, 46260, 46261, 46267, 46271, 46277, 46279, 46280, 46284, 46288, 46290, 46291, 46292, 46293, 46296, 46298, 46302, 46324, 46334, 46335, 46356, 46358, 46361, 46362, 46365, 46367, 46368, 46369, 46386, 46395, 46398, 46399, 46410, 46412, 46417, 46421, 46425, 46436, 46446, 46451, 46461, 46466, 46470, 46475, 46479, 46480, 46486, 46492, 46493, 46497, 46500, 46502, 46503, 46505, 46508, 46516, 46531, 46532, 46548, 46562, 46565, 46569, 46571, 46572, 46573, 46574, 46575, 46581, 46582, 46583, 46584, 46586, 46588, 46593, 46597, 46600, 46601, 46603, 46609, 46613, 46617, 46618, 46619, 46622, 46623, 46625, 46630, 46633, 46640, 46641, 46643, 46645, 46649, 46652, 46653, 46656, 46658, 46665, 46668, 46670, 46674, 46675, 46680, 46681, 46682, 46685, 46688, 46691, 46692, 46694, 46696, 46702, 46705, 46706, 46707, 46710, 46712, 46719, 46722, 46726, 46729, 46730, 46732, 46737, 46738, 46740, 46744, 46745, 46747, 46748, 46751, 46755, 46756, 46757, 46761, 46762, 46764, 46768, 46769, 46775, 46776, 46777, 46779, 46780, 46792, 46797, 46803, 46804, 46813, 46817, 46818, 46819, 46820, 46821, 46825, 46833, 46835, 46836, 46837, 46839, 46840, 46842, 46848, 46849, 46851, 46855, 46856, 46857, 46858, 46859, 46860, 46863, 46864, 46865, 46866, 46870, 46871, 46872, 46874, 46875, 46884, 46890, 46891, 46892, 46894, 46898, 46899, 46902, 46903, 46904, 46907, 46911, 46914, 46917, 46919, 46926, 46927, 46929, 46930, 46931, 46940, 46941, 46943, 46944, 46945, 46949, 46955, 46956, 46957, 46963, 46965, 46966, 46968, 46970, 46979, 46981, 46984, 46987, 46988, 46992, 46993, 46994, 46996, 46998, 47000, 47004, 47005, 47006, 47007, 47008, 47010, 47013, 47019, 47020, 47023, 47025, 47026, 47028, 47039, 47040, 47043, 47045, 47046, 47047, 47051, 47053, 47056, 47058, 47059, 47060, 47064, 47066, 47068, 47069, 47071, 47081, 47083, 47087, 47090, 47091, 47093, 47099, 47104, 47105, 47106, 47111, 47112, 47115, 47116, 47126, 47129, 47130, 47131, 47132, 47135, 47136, 47137, 47149, 47150, 47151, 47153, 47159, 47165, 47167, 47170, 47187, 47188, 47190, 47191, 47193, 47199, 47200, 47203, 47204, 47205, 47216, 47221, 47223, 47234, 47236, 47237, 47239, 47240, 47243, 47246, 47247, 47250, 47252, 47257, 47258, 47262, 47265, 47267, 47276, 47280, 47282, 47283, 47284, 47287, 47289, 47292, 47293, 47298, 47315, 47318, 47324, 47331, 47334, 47335, 47344, 47354, 47356, 47362, 47364, 47367, 47369, 47370, 47375, 47384, 47386, 47392, 47400, 47402, 47407, 47408, 47415, 47419, 47424, 47427, 47437, 47442, 47447, 47460, 47463, 47465, 47469, 47472, 47477, 47479, 47482, 47485, 47486, 47488, 47490, 47491, 47492, 47495, 47496, 47498, 47500, 47501, 47503, 47504, 47505, 47510, 47512, 47514, 47518, 47520, 47532, 47536, 47543, 47544, 47557, 47561, 47562, 47567, 47568, 47569, 47588, 47590, 47593, 47599, 47602, 47609, 47610, 47612, 47617, 47622, 47635, 47637, 47638, 47639, 47644, 47646, 47648, 47653, 47654, 47662, 47674, 47675, 47677, 47681, 47697, 47700, 47703, 47704, 47707, 47711, 47724, 47726, 47729, 47733, 47738, 47750, 47759, 47780, 47784, 47790, 47792, 47798, 47816, 47818, 47826, 47829, 47831, 47832, 47833, 47835, 47838, 47841, 47850, 47854, 47858, 47862, 47867, 47868, 47873, 47878, 47881, 47886, 47890, 47896, 47898, 47907, 47913, 47915, 47918, 47921, 47922, 47925, 47927, 47936, 47940, 47941, 47942, 47952, 47956, 47960, 47961, 47964, 47974, 47975, 47978, 47988, 47989, 47992, 47995, 47996, 48000, 48001, 48002, 48003, 48005, 48006, 48008, 48011, 48015, 48019, 48020, 48021, 48022, 48023, 48034, 48039, 48042, 48045, 48054, 48059, 48066, 48068, 48077, 48078, 48080, 48081, 48082, 48086, 48095, 48096, 48098, 48104, 48108, 48113, 48117, 48119, 48132, 48134, 48137, 48140, 48141, 48142, 48147, 48154, 48156, 48159, 48162, 48166, 48168, 48174, 48176, 48178, 48180, 48188, 48189, 48193, 48204, 48209, 48215, 48220, 48227, 48233, 48237, 48238, 48244, 48245, 48247, 48249, 48250, 48259, 48262, 48266, 48274, 48279, 48280, 48282, 48290, 48298, 48305, 48311, 48312, 48314, 48315, 48317, 48318, 48320, 48321, 48324, 48327, 48330, 48331, 48334, 48337, 48343, 48344, 48346, 48347, 48348, 48350, 48351, 48352, 48353, 48359, 48360, 48363, 48364, 48365, 48366, 48367, 48368, 48369, 48370, 48372, 48374, 48375, 48379, 48385, 48388, 48389, 48390, 48392, 48394, 48395, 48396, 48399, 48401, 48405, 48411, 48413, 48416, 48417, 48419, 48423, 48424, 48425, 48426, 48434, 48435, 48439, 48443, 48446, 48448, 48451, 48457, 48461, 48462, 48463, 48464, 48467, 48469, 48473, 48476, 48477, 48479, 48480, 48481, 48482, 48484, 48485, 48486, 48487, 48488, 48492, 48493, 48494, 48497, 48498, 48499, 48500, 48504, 48507, 48508, 48511, 48512, 48515, 48517, 48518, 48519, 48520, 48521, 48522, 48524, 48526, 48527, 48528, 48529, 48530, 48531, 48532, 48533, 48534, 48535, 48537, 48538, 48539, 48540, 48541, 48544, 48545, 48554, 48559, 48568, 48575, 48578, 48582, 48586, 48587, 48593, 48607, 48609, 48625, 48626, 48636, 48648, 48651, 48653, 48659, 48666, 48668, 48674, 48675, 48682, 48692, 48700, 48703, 48706, 48719, 48723, 48728, 48738, 48740, 48750, 48751, 48757, 48759, 48760, 48765, 48772, 48773, 48790, 48793, 48796, 48799, 48808, 48809, 48812, 48815, 48833, 48835, 48836, 48848, 48854, 48864, 48867, 48868, 48870, 48872, 48877, 48878, 48885, 48894, 48908, 48912, 48915, 48920, 48921, 48927, 48935, 48942, 48946, 48947, 48949, 48968, 48969, 48972, 48977, 48978, 48980, 48985, 48987, 48992, 49000, 49002, 49005, 49009, 49010, 49022, 49028, 49030, 49034, 49035, 49043, 49045, 49055, 49056, 49063, 49068, 49069, 49073, 49082, 49085, 49087, 49089, 49090, 49091, 49092, 49093, 49095, 49099, 49100, 49108, 49114, 49115, 49116, 49117, 49118, 49123, 49127, 49129, 49131, 49134, 49146, 49147, 49152, 49153, 49154, 49162, 49164, 49167, 49177, 49178, 49185, 49187, 49201, 49202, 49203, 49210, 49217, 49221, 49224, 49225, 49226, 49232, 49238, 49242, 49243, 49248, 49250, 49252, 49253, 49257, 49261, 49266, 49276, 49279, 49281, 49292, 49293, 49297, 49298, 49311, 49316, 49322, 49323, 49325, 49326, 49329, 49330, 49339, 49340, 49343, 49348, 49350, 49355, 49356, 49358, 49363, 49374, 49376, 49384, 49388, 49390, 49392, 49400, 49402, 49406, 49407, 49417, 49419, 49421, 49429, 49435, 49439, 49443, 49447, 49451, 49455, 49460, 49464, 49470, 49472, 49473, 49478, 49483, 49485, 49489, 49496, 49500, 49501, 49504, 49506, 49507, 49513, 49516, 49520, 49524, 49528, 49534, 49536, 49537, 49539, 49543, 49544, 49545, 49553, 49555, 49572, 49574, 49577, 49578, 49584, 49590, 49605, 49606, 49607, 49612, 49613, 49614, 49620, 49621, 49623, 49628, 49631, 49642, 49646, 49651, 49652, 49660, 49662, 49663, 49671, 49672, 49676, 49684, 49685, 49690, 49698, 49701, 49703, 49704, 49712, 49723, 49724, 49725, 49727, 49729, 49732, 49739, 49740, 49745, 49748, 49750, 49755, 49757, 49758, 49759, 49782, 49786, 49787, 49790, 49794, 49805, 49812, 49821, 49828, 49829, 49836, 49837, 49846, 49848, 49849, 49851, 49856, 49861, 49862, 49864, 49866, 49872, 49873, 49880, 49882, 49888, 49891, 49892, 49895, 49908, 49911, 49918, 49924, 49928, 49929, 49936, 49937, 49941, 49953, 49954, 49965, 49966, 49969, 49971, 49976, 49981, 49983, 49988, 49990, 49994, 49995, 49997, 50000, 50005, 50007, 50014, 50018, 50019, 50021, 50022, 50024, 50029, 50039, 50047, 50052, 50053, 50054, 50055, 50058, 50068, 50069, 50070, 50072, 50073, 50085, 50088, 50089, 50092, 50096, 50100, 50104, 50115, 50119, 50121, 50125, 50129, 50133, 50135, 50136, 50139, 50148, 50157, 50162, 50166, 50167, 50168, 50173, 50174, 50176, 50177, 50181, 50182, 50184, 50190, 50192, 50201, 50204, 50206, 50207, 50210, 50211, 50218, 50222, 50225, 50228, 50229, 50230, 50234, 50236, 50237, 50238, 50240, 50250, 50252, 50254, 50256, 50258, 50259, 50262, 50270, 50278, 50280, 50281, 50282, 50283, 50284, 50286, 50293, 50294, 50295, 50304, 50305, 50306, 50307, 50308, 50311, 50319, 50334, 50335, 50340, 50341, 50351, 50365, 50374, 50376, 50382, 50386, 50393, 50395, 50402, 50403, 50405, 50411, 50415, 50416, 50420, 50421, 50424, 50429, 50434, 50441, 50443, 50445, 50451, 50455, 50457, 50465, 50473, 50475, 50479, 50483, 50486, 50492, 50496, 50497, 50498, 50500, 50501, 50528, 50532, 50534, 50546, 50551, 50555, 50567, 50571, 50573, 50585, 50586, 50590, 50592, 50599, 50607, 50620, 50621, 50623, 50628, 50645, 50652, 50661, 50673, 50679, 50691, 50697, 50703, 50705, 50706, 50714, 50715, 50721, 50727, 50729, 50732, 50734, 50736, 50737, 50751, 50754, 50758, 50768, 50777, 50781, 50788, 50789, 50800, 50803, 50804, 50806, 50807, 50812, 50813, 50815, 50816, 50817, 50818, 50820, 50822, 50824, 50825, 50826, 50838, 50839, 50845, 50846, 50848, 50851, 50853, 50861, 50867, 50868, 50870, 50871, 50873, 50876, 50877, 50880, 50885, 50889, 50890, 50893, 50898, 50901, 50905, 50906, 50908, 50909, 50923, 50925, 50926, 50930, 50931, 50932, 50935, 50936, 50937, 50940, 50944, 50947, 50954, 50955, 50957, 50958, 50962, 50964, 50965, 50970, 50972, 50975, 50980, 50981, 50984, 50985, 50992, 50994, 50998, 51000, 51004, 51011, 51015, 51016, 51019, 51021, 51022, 51023, 51024, 51025, 51027, 51032, 51034, 51043, 51045, 51047, 51049, 51051, 51053, 51068, 51078, 51087, 51089, 51093, 51096, 51097, 51099, 51104, 51105, 51108, 51116, 51127, 51128, 51129, 51133, 51135, 51137, 51142, 51150, 51152, 51156, 51157, 51159, 51160, 51162, 51164, 51166, 51168, 51173, 51175, 51177, 51178, 51180, 51182, 51183, 51186, 51189, 51195, 51196, 51200, 51207, 51212, 51213, 51215, 51219, 51220, 51222, 51224, 51227, 51229, 51230, 51234, 51237, 51239, 51241, 51243, 51246, 51249, 51250, 51251, 51258, 51259, 51260, 51275, 51277, 51279, 51280, 51281, 51283, 51286, 51287, 51288, 51291, 51293, 51302, 51305, 51321, 51323, 51325, 51328, 51337, 51339, 51340, 51342, 51345, 51346, 51349, 51351, 51352, 51363, 51375, 51379, 51402, 51404, 51422, 51424, 51427, 51431, 51437, 51438, 51458, 51465, 51467, 51469, 51474, 51478, 51479, 51482, 51487, 51490, 51500, 51501, 51504, 51509, 51515, 51519, 51520, 51524, 51526, 51528, 51530, 51544, 51547, 51551, 51553, 51557, 51570, 51575, 51578, 51597, 51599, 51601, 51605, 51606, 51609, 51615, 51618, 51620, 51623, 51626, 51633, 51634, 51637, 51641, 51646, 51648, 51651, 51662, 51671, 51673, 51679, 51686, 51687, 51690, 51693, 51698, 51709, 51710, 51715, 51717, 51718, 51723, 51725, 51726, 51728, 51730, 51732, 51734, 51743, 51744, 51747, 51750, 51758, 51759, 51761, 51769, 51770, 51773, 51790, 51800, 51802, 51804, 51813, 51814, 51815, 51816, 51822, 51829, 51830, 51835, 51837, 51839, 51845, 51847, 51848, 51849, 51851, 51860, 51875, 51881, 51882, 51885, 51897, 51899, 51909, 51921, 51925, 51932, 51937, 51941, 51943, 51951, 51954, 51963, 51965, 51968, 51972, 51973, 51980, 51981, 51982, 51984, 51986, 51988, 51996, 52000, 52001, 52002, 52004, 52010, 52016, 52022, 52025, 52026, 52028, 52030, 52032, 52033, 52036, 52038, 52049, 52050, 52052, 52053, 52054, 52060, 52062, 52064, 52065, 52086, 52090, 52092, 52098, 52111, 52113, 52118, 52119, 52123, 52132, 52138, 52139, 52146, 52150, 52156, 52158, 52159, 52160, 52162, 52177, 52178, 52180, 52208, 52217, 52222, 52223, 52226, 52228, 52240, 52241, 52244, 52245, 52250, 52251, 52252, 52254, 52265, 52267, 52268, 52277, 52282, 52283, 52284, 52287, 52291, 52295, 52299, 52303, 52305, 52310, 52312, 52314, 52321, 52324, 52326, 52328, 52333, 52334, 52336, 52342, 52343, 52348, 52353, 52356, 52357, 52358, 52361, 52364, 52365, 52369, 52370, 52374, 52377, 52387, 52391, 52396, 52399, 52401, 52412, 52414, 52415, 52417, 52427, 52429, 52431, 52437, 52439, 52444, 52449, 52452, 52457, 52466, 52470, 52474, 52478, 52482, 52484, 52487, 52489, 52494, 52500, 52501, 52504, 52509, 52514, 52523, 52524, 52528, 52532, 52545, 52554, 52559, 52560, 52563, 52564, 52565, 52570, 52575, 52582, 52586, 52591, 52602, 52608, 52617, 52623, 52625, 52626, 52633, 52635, 52641, 52650, 52656, 52662, 52681, 52683, 52684, 52688, 52690, 52694, 52699, 52702, 52705, 52730, 52733, 52736, 52749, 52750, 52757, 52760, 52767, 52769, 52774, 52784, 52785, 52791, 52797, 52814, 52815, 52823, 52833, 52835, 52842, 52849, 52851, 52861, 52864, 52878, 52883, 52888, 52896, 52902, 52904, 52905, 52909, 52911, 52920, 52921, 52922, 52923, 52931, 52932, 52934, 52944, 52945, 52955, 52956, 52957, 52965, 52968, 52969, 52971, 52974, 52985, 52991, 52997, 52998, 53000, 53005, 53010, 53013, 53014, 53017, 53021, 53022, 53025, 53032, 53035, 53046, 53058, 53060, 53061, 53068, 53069, 53072, 53075, 53080, 53082, 53083, 53090, 53091, 53094, 53098, 53100, 53103, 53104, 53105, 53112, 53127, 53128, 53130, 53131, 53142, 53143, 53145, 53148, 53150, 53152, 53156, 53158, 53165, 53183, 53196, 53198, 53203, 53204, 53205, 53207, 53209, 53213, 53214, 53216, 53218, 53220, 53221, 53225, 53227, 53231, 53235, 53237, 53238, 53242, 53250, 53253, 53257, 53258, 53260, 53261, 53267, 53275, 53283, 53290, 53295, 53296, 53297, 53298, 53303, 53305, 53306, 53307, 53316, 53323, 53328, 53329, 53331, 53335, 53339, 53341, 53344, 53346, 53347, 53348, 53352, 53354, 53362, 53364, 53368, 53372, 53376, 53377, 53380, 53381, 53384, 53385, 53390, 53391, 53394, 53395, 53396, 53403, 53404, 53409, 53412, 53415, 53424, 53432, 53434, 53440, 53444, 53449, 53450, 53453, 53463, 53464, 53465, 53466, 53467, 53471, 53472, 53473, 53475, 53477, 53479, 53480, 53481, 53484, 53486, 53500, 53501, 53504, 53509, 53514, 53516, 53518, 53519, 53520, 53521, 53531, 53537, 53553, 53555, 53557, 53564, 53571, 53579, 53588, 53590, 53598, 53601, 53602, 53603, 53606, 53626, 53635, 53638, 53644, 53668, 53669, 53671, 53682, 53707, 53710, 53735, 53750, 53751, 53759, 53762, 53779, 53781, 53789, 53800, 53805, 53806, 53807, 53813, 53816, 53818, 53826, 53827, 53829, 53830, 53835, 53837, 53838, 53839, 53844, 53861, 53863, 53869, 53873, 53876, 53877, 53880, 53881, 53893, 53894, 53896, 53901, 53903, 53908, 53909, 53913, 53917, 53921, 53922, 53926, 53931, 53948, 53953, 53958, 53960, 53969, 53971, 53972, 53974, 53978, 53984, 53988, 53992, 53994, 54000, 54002, 54015, 54019, 54022, 54024, 54027, 54029, 54030, 54032, 54033, 54036, 54061, 54073, 54075, 54078, 54079, 54081, 54086, 54090, 54095, 54096, 54101, 54105, 54107, 54115, 54123, 54124, 54136, 54139, 54150, 54165, 54166, 54167, 54171, 54173, 54175, 54177, 54193, 54197, 54199, 54201, 54202, 54209, 54214, 54215, 54216, 54217, 54218, 54226, 54227, 54229, 54231, 54235, 54246, 54248, 54250, 54255, 54257, 54259, 54267, 54271, 54284, 54294, 54298, 54300, 54301, 54302, 54303, 54305, 54306, 54308, 54316, 54318, 54320, 54321, 54322, 54331, 54334, 54337, 54339, 54350, 54352, 54357, 54358, 54361, 54362, 54368, 54372, 54375, 54377, 54380, 54382, 54388, 54390, 54391, 54395, 54401, 54402, 54412, 54416, 54426, 54438, 54446, 54450, 54452, 54461, 54462, 54467, 54469, 54471, 54476, 54486, 54495, 54500, 54503, 54513, 54515, 54516, 54519, 54529, 54534, 54536, 54541, 54550, 54551, 54560, 54563, 54572, 54573, 54574, 54579, 54586, 54588, 54595, 54612, 54619, 54620, 54621, 54636, 54639, 54642, 54648, 54651, 54652, 54660, 54661, 54663, 54666, 54667, 54669, 54675, 54689, 54699, 54702, 54704, 54708, 54710, 54712, 54715, 54716, 54720, 54730, 54736, 54737, 54739, 54748, 54750, 54755, 54765, 54768, 54783, 54784, 54785, 54786, 54788, 54789, 54792, 54801, 54802, 54803, 54804, 54809, 54811, 54817, 54823, 54824, 54826, 54828, 54833, 54846, 54852, 54853, 54854, 54855, 54885, 54888, 54891, 54895, 54902, 54904, 54905, 54908, 54916, 54917, 54918, 54923, 54933, 54936, 54937, 54938, 54945, 54950, 54952, 54955, 54956, 54964, 54979, 54988, 54993, 54995, 54998, 54999, 55000, 55007, 55016, 55020, 55024, 55028, 55034, 55035, 55037, 55041, 55048, 55049, 55050, 55051, 55052, 55062, 55063, 55069, 55072, 55074, 55083, 55084, 55085, 55089, 55104, 55105, 55111, 55116, 55118, 55129, 55137, 55138, 55140, 55141, 55144, 55145, 55146, 55157, 55159, 55160, 55163, 55164, 55167, 55169, 55171, 55172, 55187, 55188, 55192, 55197, 55205, 55208, 55210, 55213, 55214, 55216, 55217, 55218, 55222, 55223, 55227, 55228, 55233, 55244, 55248, 55250, 55252, 55260, 55261, 55263, 55267, 55274, 55275, 55276, 55278, 55280, 55281, 55282, 55284, 55287, 55288, 55290, 55295, 55298, 55299, 55301, 55302, 55304, 55305, 55318, 55319, 55321, 55330, 55331, 55333, 55341, 55347, 55349, 55354, 55357, 55361, 55368, 55372, 55375, 55387, 55395, 55396, 55398, 55403, 55410, 55412, 55416, 55422, 55423, 55435, 55444, 55452, 55460, 55467, 55474, 55475, 55485, 55500, 55501, 55504, 55509, 55514, 55519, 55531, 55532, 55535, 55538, 55547, 55554, 55566, 55573, 55579, 55610, 55615, 55617, 55627, 55630, 55639, 55640, 55641, 55644, 55653, 55656, 55666, 55673, 55687, 55694, 55706, 55708, 55710, 55726, 55727, 55731, 55738, 55740, 55742, 55746, 55750, 55752, 55758, 55759, 55764, 55784, 55785, 55788, 55796, 55797, 55799, 55804, 55806, 55809, 55818, 55819, 55824, 55830, 55835, 55839, 55845, 55846, 55847, 55851, 55855, 55858, 55861, 55864, 55866, 55867, 55868, 55870, 55871, 55873, 55874, 55881, 55883, 55884, 55885, 55886, 55888, 55890, 55891, 55895, 55900, 55903, 55905, 55910, 55911, 55918, 55919, 55927, 55930, 55933, 55934, 55936, 55938, 55939, 55943, 55949, 55950, 55951, 55952, 55957, 55958, 55959, 55961, 55964, 55965, 55968, 55970, 55974, 55984, 55989, 55992, 55997, 56000, 56002, 56008, 56018, 56019, 56020, 56023, 56025, 56029, 56033, 56045, 56046, 56047, 56068, 56070, 56073, 56075, 56078, 56097, 56106, 56110, 56111, 56118, 56119, 56120, 56123, 56126, 56128, 56129, 56130, 56134, 56142, 56144, 56166, 56168, 56169, 56177, 56183, 56184, 56185, 56192, 56194, 56200, 56210, 56216, 56219, 56223, 56226, 56230, 56235, 56240, 56250, 56251, 56256, 56258, 56259, 56261, 56267, 56269, 56272, 56275, 56281, 56296, 56300, 56314, 56317, 56329, 56332, 56337, 56338, 56343, 56352, 56365, 56382, 56393, 56407, 56426, 56428, 56432, 56458, 56463, 56476, 56489, 56500, 56514, 56526, 56528, 56530, 56531, 56535, 56536, 56552, 56556, 56557, 56558, 56560, 56566, 56567, 56574, 56582, 56596, 56602, 56621, 56628, 56629, 56631, 56634, 56635, 56636, 56640, 56643, 56645, 56646, 56658, 56665, 56679, 56694, 56696, 56700, 56702, 56704, 56717, 56720, 56726, 56729, 56735, 56742, 56749, 56750, 56752, 56757, 56763, 56771, 56775, 56780, 56782, 56783, 56784, 56786, 56787, 56792, 56794, 56800, 56801, 56806, 56815, 56821, 56827, 56832, 56837, 56838, 56841, 56842, 56843, 56845, 56847, 56849, 56854, 56860, 56872, 56880, 56881, 56886, 56905, 56910, 56916, 56918, 56919, 56927, 56930, 56932, 56933, 56935, 56950, 56951, 56954, 56957, 56961, 56964, 56966, 56971, 56973, 56974, 56976, 56983, 56987, 56995, 56997, 56998, 56999, 57000, 57001, 57002, 57003, 57012, 57017, 57018, 57019, 57026, 57029, 57030, 57033, 57045, 57049, 57054, 57058, 57061, 57064, 57065, 57072, 57081, 57082, 57084, 57089, 57096, 57103, 57118, 57124, 57126, 57128, 57135, 57136, 57140, 57144, 57146, 57159, 57160, 57162, 57165, 57171, 57176, 57177, 57180, 57182, 57183, 57188, 57192, 57199, 57208, 57209, 57211, 57215, 57221, 57223, 57225, 57233, 57237, 57239, 57241, 57246, 57250, 57254, 57255, 57271, 57272, 57273, 57274, 57278, 57292, 57295, 57297, 57298, 57300, 57306, 57307, 57309, 57313, 57316, 57318, 57325, 57330, 57332, 57344, 57346, 57353, 57360, 57367, 57371, 57376, 57385, 57387, 57397, 57398, 57406, 57413, 57414, 57415, 57419, 57421, 57427, 57428, 57431, 57438, 57450, 57452, 57455, 57457, 57459, 57464, 57473, 57474, 57485, 57490, 57492, 57494, 57496, 57500, 57503, 57505, 57507, 57509, 57516, 57518, 57527, 57528, 57539, 57561, 57562, 57573, 57590, 57594, 57607, 57610, 57612, 57628, 57658, 57663, 57682, 57686, 57698, 57700, 57713, 57727, 57734, 57740, 57746, 57750, 57769, 57770, 57776, 57778, 57781, 57782, 57789, 57792, 57793, 57796, 57798, 57801, 57802, 57804, 57820, 57831, 57838, 57839, 57842, 57851, 57852, 57853, 57854, 57857, 57872, 57879, 57883, 57885, 57887, 57892, 57899, 57913, 57924, 57928, 57929, 57930, 57931, 57932, 57933, 57935, 57945, 57948, 57950, 57959, 57961, 57968, 57973, 57980, 57985, 57994, 58000, 58003, 58010, 58012, 58014, 58019, 58025, 58026, 58027, 58033, 58041, 58042, 58046, 58052, 58057, 58058, 58060, 58068, 58074, 58076, 58077, 58078, 58081, 58084, 58093, 58099, 58100, 58102, 58103, 58117, 58122, 58123, 58135, 58138, 58139, 58142, 58149, 58151, 58160, 58162, 58172, 58173, 58175, 58178, 58181, 58192, 58198, 58199, 58202, 58204, 58205, 58206, 58208, 58215, 58228, 58232, 58239, 58240, 58245, 58247, 58248, 58250, 58251, 58253, 58257, 58262, 58265, 58266, 58267, 58272, 58273, 58274, 58275, 58280, 58287, 58289, 58290, 58293, 58296, 58300, 58302, 58304, 58315, 58316, 58326, 58329, 58331, 58337, 58344, 58346, 58348, 58349, 58352, 58354, 58356, 58357, 58363, 58371, 58373, 58376, 58377, 58381, 58385, 58388, 58393, 58394, 58395, 58399, 58403, 58406, 58418, 58422, 58425, 58433, 58434, 58435, 58436, 58438, 58439, 58440, 58441, 58442, 58446, 58447, 58448, 58449, 58454, 58455, 58456, 58458, 58459, 58460, 58464, 58465, 58466, 58468, 58474, 58477, 58478, 58479, 58480, 58484, 58499, 58500, 58502, 58505, 58506, 58508, 58509, 58512, 58517, 58518, 58520, 58523, 58524, 58530, 58536, 58538, 58539, 58541, 58543, 58554, 58561, 58562, 58565, 58572, 58574, 58575, 58578, 58579, 58582, 58585, 58586, 58588, 58590, 58595, 58597, 58600, 58601, 58602, 58605, 58610, 58620, 58622, 58626, 58628, 58629, 58632, 58633, 58634, 58637, 58644, 58652, 58659, 58660, 58667, 58672, 58675, 58680, 58682, 58684, 58685, 58687, 58690, 58691, 58692, 58693, 58695, 58697, 58703, 58706, 58709, 58710, 58713, 58714, 58715, 58716, 58718, 58719, 58720, 58722, 58728, 58731, 58732, 58737, 58739, 58744, 58750, 58752, 58758, 58759, 58763, 58773, 58778, 58779, 58784, 58785, 58786, 58787, 58790, 58800, 58806, 58816, 58817, 58825, 58830, 58846, 58850, 58859, 58864, 58871, 58876, 58881, 58887, 58888, 58892, 58893, 58895, 58896, 58897, 58899, 58901, 58906, 58909, 58910, 58913, 58915, 58932, 58936, 58941, 58952, 58953, 58957, 58961, 58976, 58984, 58989, 58993, 59000, 59002, 59009, 59011, 59012, 59019, 59021, 59023, 59033, 59034, 59036, 59040, 59047, 59050, 59052, 59056, 59067, 59073, 59077, 59095, 59106, 59107, 59108, 59117, 59118, 59120, 59121, 59124, 59130, 59136, 59143, 59151, 59153, 59166, 59171, 59172, 59180, 59185, 59189, 59192, 59197, 59198, 59201, 59202, 59203, 59207, 59217, 59222, 59228, 59244, 59245, 59248, 59250, 59251, 59252, 59258, 59259, 59262, 59268, 59270, 59281, 59283, 59290, 59305, 59307, 59311, 59321, 59322, 59332, 59333, 59344, 59345, 59347, 59355, 59358, 59359, 59367, 59369, 59375, 59386, 59392, 59393, 59401, 59402, 59403, 59415, 59418, 59428, 59439, 59443, 59449, 59452, 59471, 59472, 59477, 59478, 59481, 59482, 59488, 59491, 59494, 59496, 59497, 59498, 59500, 59519, 59520, 59521, 59523, 59525, 59526, 59529, 59531, 59538, 59540, 59547, 59548, 59550, 59556, 59559, 59571, 59572, 59574, 59589, 59590, 59599, 59606, 59613, 59620, 59622, 59623, 59632, 59643, 59645, 59651, 59659, 59660, 59661, 59662, 59669, 59671, 59672, 59675, 59678, 59679, 59690, 59702, 59705, 59708, 59713, 59725, 59726, 59727, 59728, 59738, 59746, 59747, 59750, 59767, 59771, 59775, 59778, 59781, 59794, 59796, 59801, 59806, 59809, 59821, 59822, 59835, 59847, 59850, 59853, 59860, 59866, 59870, 59878, 59879, 59881, 59883, 59886, 59893, 59896, 59900, 59906, 59912, 59916, 59920, 59922, 59931, 59934, 59940, 59943, 59945, 59952, 59965, 59975, 59978, 59986, 59987, 59992, 59994, 59995, 60000, 60001, 60002, 60011, 60019, 60022, 60024, 60027, 60043, 60045, 60056, 60058, 60061, 60070, 60074, 60087, 60095, 60106, 60107, 60108, 60109, 60113, 60115, 60117, 60123, 60129, 60130, 60132, 60133, 60144, 60148, 60155, 60156, 60158, 60160, 60162, 60168, 60169, 60172, 60175, 60176, 60178, 60182, 60191, 60198, 60200, 60201, 60204, 60205, 60206, 60209, 60213, 60214, 60217, 60224, 60229, 60232, 60236, 60237, 60249, 60250, 60253, 60254, 60261, 60266, 60267, 60270, 60273, 60278, 60279, 60280, 60281, 60291, 60304, 60310, 60311, 60312, 60320, 60322, 60333, 60335, 60336, 60346, 60348, 60352, 60353, 60357, 60358, 60359, 60360, 60366, 60371, 60375, 60377, 60384, 60386, 60389, 60390, 60391, 60392, 60402, 60407, 60409, 60410, 60415, 60420, 60424, 60425, 60431, 60434, 60439, 60440, 60443, 60449, 60450, 60455, 60459, 60462, 60463, 60465, 60472, 60474, 60475, 60476, 60481, 60482, 60484, 60491, 60493, 60495, 60499, 60500, 60506, 60508, 60512, 60517, 60520, 60521, 60522, 60531, 60535, 60543, 60544, 60552, 60555, 60557, 60558, 60564, 60566, 60579, 60584, 60585, 60589, 60597, 60600, 60621, 60629, 60635, 60639, 60640, 60651, 60654, 60655, 60656, 60671, 60672, 60673, 60674, 60675, 60677, 60683, 60688, 60689, 60691, 60692, 60694, 60710, 60711, 60713, 60714, 60717, 60718, 60721, 60722, 60739, 60744, 60750, 60758, 60761, 60762, 60765, 60769, 60771, 60792, 60801, 60813, 60817, 60825, 60829, 60830, 60832, 60837, 60842, 60847, 60848, 60857, 60870, 60875, 60877, 60879, 60880, 60888, 60889, 60899, 60902, 60904, 60905, 60907, 60911, 60917, 60923, 60925, 60937, 60938, 60951, 60953, 60954, 60956, 60957, 60961, 60964, 60965, 60984, 60987, 60997, 61000, 61004, 61012, 61020, 61029, 61030, 61037, 61038, 61040, 61041, 61043, 61050, 61051, 61052, 61059, 61066, 61072, 61073, 61084, 61086, 61088, 61102, 61105, 61111, 61116, 61121, 61126, 61128, 61129, 61132, 61133, 61137, 61143, 61149, 61150, 61151, 61152, 61154, 61155, 61156, 61159, 61165, 61177, 61178, 61181, 61190, 61192, 61194, 61202, 61206, 61207, 61209, 61214, 61217, 61227, 61231, 61236, 61240, 61246, 61248, 61250, 61252, 61262, 61263, 61264, 61272, 61278, 61283, 61294, 61297, 61306, 61311, 61318, 61327, 61328, 61331, 61336, 61340, 61341, 61350, 61361, 61363, 61375, 61396, 61406, 61410, 61418, 61427, 61432, 61436, 61439, 61454, 61468, 61486, 61500, 61504, 61510, 61511, 61513, 61514, 61515, 61521, 61525, 61528, 61541, 61542, 61544, 61558, 61559, 61569, 61575, 61576, 61583, 61602, 61607, 61608, 61610, 61622, 61627, 61628, 61631, 61647, 61650, 61656, 61664, 61665, 61667, 61668, 61692, 61694, 61702, 61707, 61718, 61729, 61731, 61740, 61747, 61750, 61756, 61760, 61761, 61762, 61764, 61768, 61769, 61771, 61773, 61776, 61780, 61781, 61784, 61792, 61795, 61796, 61807, 61822, 61827, 61830, 61833, 61840, 61841, 61853, 61857, 61883, 61892, 61894, 61896, 61909, 61910, 61913, 61926, 61937, 61941, 61949, 61951, 61956, 61965, 61967, 61973, 61977, 61978, 61988, 61989, 61994, 62000]\n"
     ]
    }
   ],
   "source": [
    "print([x for x in coords1])"
   ]
  },
  {
   "cell_type": "code",
   "execution_count": 153,
   "metadata": {},
   "outputs": [],
   "source": [
    "# constrain spike counts\n",
    "coords2 = np.argwhere((ccgs[...,C+start:C+end]>1000).any(axis=-1))\n",
    "# coords2=coords2[coords2[:,0]<coords2[:,1]]\n",
    "coords2 = coords2[:,0]*neurons.n_neurons+coords2[:,1]"
   ]
  },
  {
   "cell_type": "code",
   "execution_count": 154,
   "metadata": {},
   "outputs": [
    {
     "data": {
      "text/plain": [
       "True"
      ]
     },
     "execution_count": 154,
     "metadata": {},
     "output_type": "execute_result"
    }
   ],
   "source": [
    "54720 in coords1"
   ]
  },
  {
   "cell_type": "code",
   "execution_count": 155,
   "metadata": {},
   "outputs": [
    {
     "data": {
      "text/plain": [
       "54720"
      ]
     },
     "execution_count": 155,
     "metadata": {},
     "output_type": "execute_result"
    }
   ],
   "source": [
    "219*249+189"
   ]
  },
  {
   "cell_type": "code",
   "execution_count": 156,
   "metadata": {},
   "outputs": [],
   "source": [
    "coords=np.intersect1d(coords1,coords2)\n",
    "coords=np.array([[x//neurons.n_neurons,x%neurons.n_neurons] for x in coords])"
   ]
  },
  {
   "cell_type": "code",
   "execution_count": 157,
   "metadata": {},
   "outputs": [
    {
     "data": {
      "text/plain": [
       "(2657, 2)"
      ]
     },
     "execution_count": 157,
     "metadata": {},
     "output_type": "execute_result"
    }
   ],
   "source": [
    "coords.shape"
   ]
  },
  {
   "cell_type": "code",
   "execution_count": 169,
   "metadata": {},
   "outputs": [
    {
     "data": {
      "text/plain": [
       "151"
      ]
     },
     "execution_count": 169,
     "metadata": {},
     "output_type": "execute_result"
    }
   ],
   "source": [
    "len(pyrs)"
   ]
  },
  {
   "cell_type": "code",
   "execution_count": 172,
   "metadata": {},
   "outputs": [],
   "source": [
    "pyrs=neurons.get_neuron_type('pyr').neuron_ids\n",
    "ints=neurons.get_neuron_type('inter').neuron_ids\n",
    "locs=np.where((coords[:,0]!=coords[:,1]) & np.isin(coords[:,0],pyrs) & np.isin(coords[:,1],ints))[0]"
   ]
  },
  {
   "cell_type": "code",
   "execution_count": 173,
   "metadata": {},
   "outputs": [
    {
     "data": {
      "text/plain": [
       "(54,)"
      ]
     },
     "execution_count": 173,
     "metadata": {},
     "output_type": "execute_result"
    }
   ],
   "source": [
    "locs.shape"
   ]
  },
  {
   "cell_type": "code",
   "execution_count": 174,
   "metadata": {},
   "outputs": [
    {
     "data": {
      "text/plain": [
       "array([[ 11, 215],\n",
       "       [ 15,  14],\n",
       "       [ 15, 186],\n",
       "       [ 15, 215],\n",
       "       [ 15, 219],\n",
       "       [ 28, 215],\n",
       "       [ 29, 215],\n",
       "       [ 29, 247],\n",
       "       [ 49, 215],\n",
       "       [ 55,  14],\n",
       "       [ 55, 215],\n",
       "       [ 61,  14],\n",
       "       [ 65, 215],\n",
       "       [ 68, 215],\n",
       "       [ 69, 215],\n",
       "       [ 72, 215],\n",
       "       [ 85, 215],\n",
       "       [ 87, 215],\n",
       "       [ 93, 215],\n",
       "       [ 94, 215],\n",
       "       [108, 215],\n",
       "       [108, 219],\n",
       "       [110, 215],\n",
       "       [124,  14],\n",
       "       [126, 215],\n",
       "       [134, 215],\n",
       "       [151, 247],\n",
       "       [154, 215],\n",
       "       [157, 215],\n",
       "       [159, 215],\n",
       "       [164, 215],\n",
       "       [179, 215],\n",
       "       [179, 219],\n",
       "       [185, 186],\n",
       "       [185, 215],\n",
       "       [185, 219],\n",
       "       [185, 227],\n",
       "       [189, 186],\n",
       "       [189, 215],\n",
       "       [189, 219],\n",
       "       [204, 215],\n",
       "       [204, 227],\n",
       "       [204, 247],\n",
       "       [206, 215],\n",
       "       [223, 215],\n",
       "       [226, 215],\n",
       "       [228,  14],\n",
       "       [228, 215],\n",
       "       [228, 227],\n",
       "       [228, 247],\n",
       "       [231, 215],\n",
       "       [231, 227],\n",
       "       [239, 215],\n",
       "       [241, 215]])"
      ]
     },
     "execution_count": 174,
     "metadata": {},
     "output_type": "execute_result"
    }
   ],
   "source": [
    "coords[locs]"
   ]
  },
  {
   "cell_type": "code",
   "execution_count": 175,
   "metadata": {},
   "outputs": [],
   "source": [
    "ccg=ccgs[69:71, 215:217]"
   ]
  },
  {
   "cell_type": "code",
   "execution_count": 176,
   "metadata": {},
   "outputs": [
    {
     "name": "stdout",
     "output_type": "stream",
     "text": [
      "8\n"
     ]
    },
    {
     "data": {
      "text/plain": [
       "(2, 2, 75)"
      ]
     },
     "execution_count": 176,
     "metadata": {},
     "output_type": "execute_result"
    }
   ],
   "source": [
    "from scipy import ndimage\n",
    "from scipy.signal import windows, convolve\n",
    "\n",
    "W=5\n",
    "hollow_frac = 0.6\n",
    "sigma = W/2\n",
    "W = int(6*sigma + (2 if W%2 else 1))\n",
    "center = int(3*sigma + (0.5 if W%2 else 0))\n",
    "print(center)\n",
    "window = windows.gaussian(W,std=sigma)/(2*np.pi*sigma)\n",
    "window[center]*=(1-hollow_frac)\n",
    "window /= np.sum(window)\n",
    "\n",
    "ccg_pad=np.concatenate([ccg[...,:W][...,::-1],ccg,ccg[...,-W:][...,::-1]],axis=-1)\n",
    "# ccg_pad=ccg[np.newaxis,np.newaxis,...]\n",
    "pred=ndimage.convolve1d(ccg_pad, window, axis=-1)[...,]\n",
    "pred.shape"
   ]
  },
  {
   "cell_type": "code",
   "execution_count": 177,
   "metadata": {},
   "outputs": [
    {
     "data": {
      "text/plain": [
       "True"
      ]
     },
     "execution_count": 177,
     "metadata": {},
     "output_type": "execute_result"
    }
   ],
   "source": [
    "219 in ints"
   ]
  },
  {
   "cell_type": "code",
   "execution_count": 209,
   "metadata": {},
   "outputs": [
    {
     "data": {
      "text/plain": [
       "108"
      ]
     },
     "execution_count": 209,
     "metadata": {},
     "output_type": "execute_result"
    }
   ],
   "source": [
    "x"
   ]
  },
  {
   "cell_type": "code",
   "execution_count": 210,
   "metadata": {},
   "outputs": [
    {
     "data": {
      "text/plain": [
       "70"
      ]
     },
     "execution_count": 210,
     "metadata": {},
     "output_type": "execute_result"
    }
   ],
   "source": [
    "neurons.peak_channels[108]"
   ]
  },
  {
   "cell_type": "code",
   "execution_count": 204,
   "metadata": {},
   "outputs": [
    {
     "data": {
      "image/png": "[encoded data removed]",
      "text/plain": [
       "<Figure size 640x480 with 1 Axes>"
      ]
     },
     "metadata": {},
     "output_type": "display_data"
    }
   ],
   "source": [
    "# example result - submillisecond synchrony\n",
    "import seaborn as sns\n",
    "window_size=0.02\n",
    "bin_size=0.0005\n",
    "_, ax = plt.subplots()\n",
    "x,y=coords[locs[21]]\n",
    "# x=0#44\n",
    "# y=1#179\n",
    "bins = np.arange(-window_size / 2, window_size / 2 + bin_size, bin_size)\n",
    "ax.bar(bins, ccgs[x,y], width=bin_size,alpha=0.5,label=\"ccg\")\n",
    "ax.bar(bins, preds[x,y], width=bin_size,alpha=0.5,label='ccg-smooth')\n",
    "ax.plot(bins, pvals[x,y]*np.max(ccgs[x,y]), label='p')\n",
    "ax.set_xlabel(\"Time (s)\")\n",
    "ax.set_ylabel(\"Count\")\n",
    "ax.set_title(\"CCG vs smooth-CCG\")\n",
    "ax.legend()\n",
    "sns.despine(ax=ax)"
   ]
  },
  {
   "cell_type": "code",
   "execution_count": 212,
   "metadata": {},
   "outputs": [
    {
     "data": {
      "text/plain": [
       "array([0., 0.])"
      ]
     },
     "execution_count": 212,
     "metadata": {},
     "output_type": "execute_result"
    }
   ],
   "source": [
    "np.zeros(3)[:-1]"
   ]
  },
  {
   "cell_type": "code",
   "execution_count": null,
   "metadata": {},
   "outputs": [
    {
     "data": {
      "text/plain": [
       "array([-1.00000000e-02, -9.50000000e-03, -9.00000000e-03, -8.50000000e-03,\n",
       "       -8.00000000e-03, -7.50000000e-03, -7.00000000e-03, -6.50000000e-03,\n",
       "       -6.00000000e-03, -5.50000000e-03, -5.00000000e-03, -4.50000000e-03,\n",
       "       -4.00000000e-03, -3.50000000e-03, -3.00000000e-03, -2.50000000e-03,\n",
       "       -2.00000000e-03, -1.50000000e-03, -1.00000000e-03, -5.00000000e-04,\n",
       "        8.67361738e-18,  5.00000000e-04,  1.00000000e-03,  1.50000000e-03,\n",
       "        2.00000000e-03,  2.50000000e-03,  3.00000000e-03,  3.50000000e-03,\n",
       "        4.00000000e-03,  4.50000000e-03,  5.00000000e-03,  5.50000000e-03,\n",
       "        6.00000000e-03,  6.50000000e-03,  7.00000000e-03,  7.50000000e-03,\n",
       "        8.00000000e-03,  8.50000000e-03,  9.00000000e-03,  9.50000000e-03,\n",
       "        1.00000000e-02])"
      ]
     },
     "execution_count": 211,
     "metadata": {},
     "output_type": "execute_result"
    }
   ],
   "source": [
    "bins"
   ]
  },
  {
   "cell_type": "code",
   "execution_count": null,
   "metadata": {},
   "outputs": [],
   "source": [
    "bin_size=ts\n",
    "window_size=0.02"
   ]
  },
  {
   "cell_type": "code",
   "execution_count": null,
   "metadata": {},
   "outputs": [],
   "source": [
    "neuron_inds=np.arange(neurons.n_neurons)\n",
    "sample_rate=30000\n",
    "bin_size=0.0005\n",
    "duration=0.02\n",
    "window_width=5\n",
    "wintype=\"gauss\"\n",
    "hollow_frac=None\n",
    "alpha=0.05\n",
    "use_cupy=True\n",
    "ccgs = correlations.spike_correlations(\n",
    "        neurons=neurons,\n",
    "        neuron_inds=neuron_inds,\n",
    "        sample_rate=sample_rate,\n",
    "        bin_size=bin_size,\n",
    "        window_size=duration,\n",
    "        use_cupy=use_cupy,\n",
    "        symmetrize=True,\n",
    "    )\n",
    "# 30s"
   ]
  },
  {
   "cell_type": "code",
   "execution_count": null,
   "metadata": {},
   "outputs": [
    {
     "ename": "NameError",
     "evalue": "name 'ms_conn' is not defined",
     "output_type": "error",
     "traceback": [
      "\u001b[0;31m---------------------------------------------------------------------------\u001b[0m",
      "\u001b[0;31mNameError\u001b[0m                                 Traceback (most recent call last)",
      "Cell \u001b[0;32mIn[10], line 1\u001b[0m\n\u001b[0;32m----> 1\u001b[0m pvals, pred, qvals \u001b[38;5;241m=\u001b[39m \u001b[43mms_conn\u001b[49m\u001b[38;5;241m.\u001b[39meran_conv(ccgs)\n",
      "\u001b[0;31mNameError\u001b[0m: name 'ms_conn' is not defined"
     ]
    }
   ],
   "source": [
    "\n",
    "pvals, pred, qvals = msconn.eran_conv(ccgs)"
   ]
  },
  {
   "cell_type": "code",
   "execution_count": null,
   "metadata": {},
   "outputs": [
    {
     "ename": "KeyboardInterrupt",
     "evalue": "",
     "output_type": "error",
     "traceback": [
      "\u001b[0;31m---------------------------------------------------------------------------\u001b[0m",
      "\u001b[0;31mKeyboardInterrupt\u001b[0m                         Traceback (most recent call last)",
      "Cell \u001b[0;32mIn[65], line 1\u001b[0m\n\u001b[0;32m----> 1\u001b[0m \u001b[43mmsconn\u001b[49m\u001b[38;5;241;43m.\u001b[39;49m\u001b[43mfind_significant_pairs_fast\u001b[49m\u001b[43m(\u001b[49m\u001b[43mneurons\u001b[49m\u001b[43m,\u001b[49m\u001b[43mnp\u001b[49m\u001b[38;5;241;43m.\u001b[39;49m\u001b[43marange\u001b[49m\u001b[43m(\u001b[49m\u001b[43mneurons\u001b[49m\u001b[38;5;241;43m.\u001b[39;49m\u001b[43mn_neurons\u001b[49m\u001b[43m)\u001b[49m\u001b[43m,\u001b[49m\u001b[43malpha\u001b[49m\u001b[38;5;241;43m=\u001b[39;49m\u001b[38;5;241;43m1e-3\u001b[39;49m\u001b[43m,\u001b[49m\u001b[43muse_cupy\u001b[49m\u001b[38;5;241;43m=\u001b[39;49m\u001b[38;5;28;43;01mTrue\u001b[39;49;00m\u001b[43m)\u001b[49m\n",
      "File \u001b[0;32m~/Documents/NeuroPy/neuropy/analyses/ms_connectivity.py:335\u001b[0m, in \u001b[0;36mfind_significant_pairs_fast\u001b[0;34m(neurons, neuron_inds, sample_rate, bin_size, duration, window_width, wintype, hollow_frac, alpha, use_cupy)\u001b[0m\n\u001b[1;32m    326\u001b[0m \u001b[38;5;250m\u001b[39m\u001b[38;5;124;03m\"\"\"\u001b[39;00m\n\u001b[1;32m    327\u001b[0m \u001b[38;5;124;03mscreening for neuronal pairs with significant CCG peaks using eran_conv\u001b[39;00m\n\u001b[1;32m    328\u001b[0m \u001b[38;5;124;03m# um, should this start form neurons or ccgs?\u001b[39;00m\n\u001b[0;32m   (...)\u001b[0m\n\u001b[1;32m    332\u001b[0m \u001b[38;5;124;03m    should be the same as jscale if jittering is to be applied later\u001b[39;00m\n\u001b[1;32m    333\u001b[0m \u001b[38;5;124;03m\"\"\"\u001b[39;00m\n\u001b[1;32m    334\u001b[0m \u001b[38;5;28;01mif\u001b[39;00m use_cupy:\n\u001b[0;32m--> 335\u001b[0m     ccgs \u001b[38;5;241m=\u001b[39m \u001b[43mcorrelations\u001b[49m\u001b[38;5;241;43m.\u001b[39;49m\u001b[43mspike_correlations\u001b[49m\u001b[43m(\u001b[49m\n\u001b[1;32m    336\u001b[0m \u001b[43m            \u001b[49m\u001b[43mneurons\u001b[49m\u001b[38;5;241;43m=\u001b[39;49m\u001b[43mneurons\u001b[49m\u001b[43m,\u001b[49m\n\u001b[1;32m    337\u001b[0m \u001b[43m            \u001b[49m\u001b[43mneuron_inds\u001b[49m\u001b[38;5;241;43m=\u001b[39;49m\u001b[43mneuron_inds\u001b[49m\u001b[43m,\u001b[49m\n\u001b[1;32m    338\u001b[0m \u001b[43m            \u001b[49m\u001b[43msample_rate\u001b[49m\u001b[38;5;241;43m=\u001b[39;49m\u001b[43msample_rate\u001b[49m\u001b[43m,\u001b[49m\n\u001b[1;32m    339\u001b[0m \u001b[43m            \u001b[49m\u001b[43mbin_size\u001b[49m\u001b[38;5;241;43m=\u001b[39;49m\u001b[43mbin_size\u001b[49m\u001b[43m,\u001b[49m\n\u001b[1;32m    340\u001b[0m \u001b[43m            \u001b[49m\u001b[43mwindow_size\u001b[49m\u001b[38;5;241;43m=\u001b[39;49m\u001b[43mduration\u001b[49m\u001b[43m,\u001b[49m\n\u001b[1;32m    341\u001b[0m \u001b[43m            \u001b[49m\u001b[43muse_cupy\u001b[49m\u001b[38;5;241;43m=\u001b[39;49m\u001b[43muse_cupy\u001b[49m\u001b[43m,\u001b[49m\n\u001b[1;32m    342\u001b[0m \u001b[43m            \u001b[49m\u001b[43msymmetrize\u001b[49m\u001b[38;5;241;43m=\u001b[39;49m\u001b[38;5;28;43;01mTrue\u001b[39;49;00m\u001b[43m,\u001b[49m\n\u001b[1;32m    343\u001b[0m \u001b[43m        \u001b[49m\u001b[43m)\u001b[49m\u001b[38;5;241m.\u001b[39mflatten\n\u001b[1;32m    344\u001b[0m eran_conv(ccg,)\n",
      "File \u001b[0;32m~/Documents/NeuroPy/neuropy/analyses/correlations.py:673\u001b[0m, in \u001b[0;36mspike_correlations\u001b[0;34m(neurons, neuron_inds, sample_rate, bin_size, window_size, symmetrize, use_cupy)\u001b[0m\n\u001b[1;32m    663\u001b[0m \u001b[38;5;28;01mdef\u001b[39;00m\u001b[38;5;250m \u001b[39m\u001b[38;5;21mspike_correlations\u001b[39m(\n\u001b[1;32m    664\u001b[0m         neurons,\n\u001b[1;32m    665\u001b[0m         neuron_inds,\n\u001b[0;32m   (...)\u001b[0m\n\u001b[1;32m    670\u001b[0m         use_cupy\u001b[38;5;241m=\u001b[39m\u001b[38;5;28;01mFalse\u001b[39;00m\n\u001b[1;32m    671\u001b[0m ):\n\u001b[1;32m    672\u001b[0m     \u001b[38;5;28;01mif\u001b[39;00m use_cupy:\n\u001b[0;32m--> 673\u001b[0m         correlograms \u001b[38;5;241m=\u001b[39m \u001b[43mcp_spike_correlations\u001b[49m\u001b[43m(\u001b[49m\u001b[43mneurons\u001b[49m\u001b[43m,\u001b[49m\u001b[43m \u001b[49m\u001b[43mneuron_inds\u001b[49m\u001b[43m,\u001b[49m\u001b[43m \u001b[49m\u001b[43msample_rate\u001b[49m\u001b[38;5;241;43m=\u001b[39;49m\u001b[43msample_rate\u001b[49m\u001b[43m,\u001b[49m\u001b[43m \u001b[49m\u001b[43mbin_size\u001b[49m\u001b[38;5;241;43m=\u001b[39;49m\u001b[43mbin_size\u001b[49m\u001b[43m,\u001b[49m\u001b[43m \u001b[49m\u001b[43mwindow_size\u001b[49m\u001b[38;5;241;43m=\u001b[39;49m\u001b[43mwindow_size\u001b[49m\u001b[43m,\u001b[49m\u001b[43m \u001b[49m\u001b[43msymmetrize\u001b[49m\u001b[38;5;241;43m=\u001b[39;49m\u001b[43msymmetrize\u001b[49m\u001b[43m)\u001b[49m\n\u001b[1;32m    674\u001b[0m     \u001b[38;5;28;01melse\u001b[39;00m:\n\u001b[1;32m    675\u001b[0m         correlograms \u001b[38;5;241m=\u001b[39m np_spike_correlations(neurons, neuron_inds, sample_rate\u001b[38;5;241m=\u001b[39msample_rate, bin_size\u001b[38;5;241m=\u001b[39mbin_size, window_size\u001b[38;5;241m=\u001b[39mwindow_size, symmetrize\u001b[38;5;241m=\u001b[39msymmetrize)\n",
      "File \u001b[0;32m~/Documents/NeuroPy/neuropy/analyses/correlations.py:482\u001b[0m, in \u001b[0;36mcp_spike_correlations\u001b[0;34m(neurons, neuron_inds, sample_rate, bin_size, window_size, symmetrize)\u001b[0m\n\u001b[1;32m    478\u001b[0m correlograms \u001b[38;5;241m=\u001b[39m _cp_create_correlograms_array(n_clusters, winsize_bins)\n\u001b[1;32m    480\u001b[0m \u001b[38;5;66;03m# The loop continues as long as there is at least one spike with\u001b[39;00m\n\u001b[1;32m    481\u001b[0m \u001b[38;5;66;03m# a matching spike.\u001b[39;00m\n\u001b[0;32m--> 482\u001b[0m \u001b[38;5;28;01mwhile\u001b[39;00m mask[:\u001b[38;5;241m-\u001b[39mshift]\u001b[38;5;241m.\u001b[39many():\n\u001b[1;32m    483\u001b[0m     \u001b[38;5;66;03m# Number of time samples between spike i and spike i+shift.\u001b[39;00m\n\u001b[1;32m    484\u001b[0m     spike_diff \u001b[38;5;241m=\u001b[39m _cp_diff_shifted(spike_samples, shift)\n\u001b[1;32m    486\u001b[0m     \u001b[38;5;66;03m# Binarize the delays between spike i and spike i+shift.\u001b[39;00m\n",
      "\u001b[0;31mKeyboardInterrupt\u001b[0m: "
     ]
    }
   ],
   "source": [
    "msconn.find_significant_pairs_fast(neurons,,alpha=1e-3,use_cupy=True)"
   ]
  },
  {
   "cell_type": "code",
   "execution_count": 64,
   "metadata": {},
   "outputs": [
    {
     "data": {
      "text/plain": [
       "array([  0,   1,   4,   5,   6,   7,   9,  11,  12,  13,  14,  15,  16,\n",
       "        17,  19,  20,  21,  22,  23,  24,  25,  26,  27,  28,  29,  30,\n",
       "        31,  34,  35,  37,  38,  40,  41,  42,  43,  44,  45,  46,  47,\n",
       "        48,  49,  50,  51,  52,  53,  54,  55,  56,  57,  58,  59,  60,\n",
       "        61,  62,  63,  64,  65,  66,  67,  68,  69,  70,  72,  74,  75,\n",
       "        76,  77,  78,  79,  81,  82,  83,  84,  85,  86,  87,  88,  89,\n",
       "        90,  91,  92,  93,  94,  95,  96,  97, 100, 101, 102, 103, 105,\n",
       "       106, 107, 108, 109, 110, 111, 112, 113, 115, 117, 118, 119, 122,\n",
       "       123, 124, 125, 126, 127, 128, 129, 130, 131, 132, 134, 135, 136,\n",
       "       137, 138, 140, 141, 143, 144, 145, 146, 147, 150, 151, 152, 153,\n",
       "       154, 155, 156, 157, 158, 159, 160, 161, 162, 163, 164, 165, 166,\n",
       "       168, 169, 170, 171, 173, 175, 176, 177, 178, 179, 180, 181, 184,\n",
       "       185, 186, 187, 188, 189, 190, 191, 192, 193, 194, 195, 196, 197,\n",
       "       198, 199, 200, 201, 202, 204, 205, 206, 207, 208, 209, 210, 211,\n",
       "       212, 213, 214, 215, 216, 217, 218, 219, 220, 221, 222, 223, 226,\n",
       "       227, 228, 229, 230, 231, 232, 233, 234, 235, 236, 237, 238, 239,\n",
       "       240, 241, 242, 243, 244, 245, 246, 247, 250, 251, 252, 253, 254,\n",
       "       255, 256, 257, 258, 259, 260, 262, 263, 264, 265, 266, 268, 269,\n",
       "       270, 271, 272, 273, 274, 275, 276, 277, 278, 281, 283, 284, 285,\n",
       "       286, 287])"
      ]
     },
     "execution_count": 64,
     "metadata": {},
     "output_type": "execute_result"
    }
   ],
   "source": [
    "neurons.neuron_ids"
   ]
  },
  {
   "cell_type": "code",
   "execution_count": 39,
   "metadata": {},
   "outputs": [
    {
     "name": "stdout",
     "output_type": "stream",
     "text": [
      "8\n"
     ]
    }
   ],
   "source": [
    "pvals,smoothccg,qvals=msconn.eran_conv(ccg_jitters[0][0])"
   ]
  },
  {
   "cell_type": "code",
   "execution_count": null,
   "metadata": {},
   "outputs": [
    {
     "data": {
      "text/plain": [
       "(3028035,)"
      ]
     },
     "execution_count": 9,
     "metadata": {},
     "output_type": "execute_result"
    }
   ],
   "source": [
    "neurons.spiketrains[indices[-1]].shape"
   ]
  },
  {
   "cell_type": "code",
   "execution_count": 20,
   "metadata": {},
   "outputs": [],
   "source": [
    "short_neurons = neurons.time_slice(t_start=10000,t_stop=10550)"
   ]
  },
  {
   "cell_type": "code",
   "execution_count": null,
   "metadata": {},
   "outputs": [
    {
     "name": "stdout",
     "output_type": "stream",
     "text": [
      "7\n",
      "0\n",
      "0\n",
      "0\n",
      "shift 3\n"
     ]
    },
    {
     "data": {
      "text/plain": [
       "array([[[0, 0, 0],\n",
       "        [0, 0, 0],\n",
       "        [0, 0, 0]]], dtype=int32)"
      ]
     },
     "execution_count": 8,
     "metadata": {},
     "output_type": "execute_result"
    }
   ],
   "source": [
    "correlations.cp_spike_correlations_2groups(neurons=short_neurons,\n",
    "                                           ref_neuron_inds=0,\n",
    "            neuron_inds=indices[-110:-107],\n",
    "            sample_rate=neurons.sampling_rate,\n",
    "            bin_size=0.001,\n",
    "            window_size=0.005,\n",
    ")\n",
    "\n",
    "# 5 bins in 5ms window\n",
    "# 30 samples per 1ms bin\n",
    "# only ran two steps (shift=1,2) before stop\n",
    "# neuron0=30, neuron1=216, neuron2=235"
   ]
  },
  {
   "cell_type": "code",
   "execution_count": null,
   "metadata": {},
   "outputs": [
    {
     "data": {
      "text/plain": [
       "array([[[ 1,  1,  0,  1,  1],\n",
       "        [ 7,  9,  5,  4,  9],\n",
       "        [ 4,  6, 11,  2,  6],\n",
       "        [ 0,  2,  2,  0,  0]],\n",
       "\n",
       "       [[ 9,  4,  5,  9,  7],\n",
       "        [13, 11,  4, 11, 13],\n",
       "        [13, 11, 17, 14, 12],\n",
       "        [ 1,  2,  1,  3,  1]],\n",
       "\n",
       "       [[ 6,  2, 11,  6,  4],\n",
       "        [12, 14, 17, 11, 13],\n",
       "        [77,  5,  0,  5, 77],\n",
       "        [ 2,  0,  1,  0,  1]],\n",
       "\n",
       "       [[ 0,  0,  2,  2,  0],\n",
       "        [ 1,  3,  1,  2,  1],\n",
       "        [ 1,  0,  1,  0,  2],\n",
       "        [ 0,  0,  3,  0,  0]]], dtype=int32)"
      ]
     },
     "execution_count": 25,
     "metadata": {},
     "output_type": "execute_result"
    }
   ],
   "source": [
    "# debugging ccg shifting/symmetrization \n",
    "correlations.cp_spike_correlations(neurons=short_neurons,\n",
    "            neuron_inds=indices[-110:-106],\n",
    "            sample_rate=neurons.sampling_rate,\n",
    "            bin_size=0.001,\n",
    "            window_size=0.005,)"
   ]
  },
  {
   "cell_type": "markdown",
   "metadata": {},
   "source": [
    "#### from sd_figure1_bs.ipynb"
   ]
  },
  {
   "cell_type": "code",
   "execution_count": null,
   "metadata": {},
   "outputs": [],
   "source": [
    "import subjects\n",
    "brainstates = subjects.nsd.allsess[0].brainstates"
   ]
  },
  {
   "cell_type": "code",
   "execution_count": null,
   "metadata": {},
   "outputs": [],
   "source": [
    "# block 2\n",
    "\n",
    "from neuropy.plotting import plot_epochs, plot_hypnogram\n",
    "from neuropy.core import Epoch\n",
    "from neuropy import plotting\n",
    "\n",
    "combine_wake = False\n",
    "wake_append = \"\" if combine_wake else \"_split_wake\"\n",
    "state_bin_size = 30 # seconds, 1 is default\n",
    "\n",
    "fig = subjects.SdFig().fig1(18, 12)\n",
    "subfig = fig.add_subfigure(fig.gs[0, :8])\n",
    "axs = subfig.subplots(\n",
    "    2, 2, sharex=True, sharey=True, gridspec_kw=dict(height_ratios=[1, 4], hspace=0.1)\n",
    ")\n",
    "# _, axs = plt.subplots(\n",
    "#     2, 2, sharey=\"row\", sharex=\"col\", gridspec_kw=dict(height_ratios=[2, 1])\n",
    "# )\n",
    "\n",
    "for i in range(2):\n",
    "    time = time_all[i]\n",
    "    sxx = spect_all[i]\n",
    "    post_t = np.arange(time[0], time[-1] + 10, 2.5 * 3600)\n",
    "    zt_time = np.round(((post_t - time[0]) / 3600), 2)\n",
    "\n",
    "    ax = axs[0, i]\n",
    "    states = brainstates[i]\n",
    "\n",
    "    # Change resolution\n",
    "    if state_bin_size > 1:\n",
    "        states = states.resample_labeled_epochs(state_bin_size, t_start=time[0], t_stop=time[-1], merge_neighbors=True)\n",
    "        bin_append = f\"_statebin{state_bin_size}\"\n",
    "        \n",
    "    if combine_wake: # Combine wake states\n",
    "        wk_states = states.label_slice([\"AW\", \"QW\"]).set_labels(\"WK\").merge_neighbors()\n",
    "        labels_order = [\"NREM\", \"REM\", \"WK\"]\n",
    "    else: # Keep states split\n",
    "        wk_states = states.label_slice([\"AW\", \"QW\"])\n",
    "        labels_order = [\"NREM\", \"REM\", \"QW\", \"AW\"]\n",
    "    slp_states = states.label_slice([\"NREM\", \"REM\"])\n",
    "    all_states = slp_states + wk_states\n",
    "    # Plot hypnogram\n",
    "    sd_color = subjects.colors_sd(1)[1]\n",
    "    rs_color = subjects.colors_rs(1)[0]\n",
    "    grp = \"NSD\" if (\"NSD\" in str(sessions[i])) else \"SD\"\n",
    "    colors = \"k\" if grp == \"NSD\" else {\"SD\": sd_color, \"RS\": rs_color}\n",
    "    colorby = \"label\" if grp == \"NSD\" else \"exp_stage\"\n",
    "    if grp == \"SD\":\n",
    "        exp_stage = np.ones_like(all_states.labels)\n",
    "        exp_stage[all_states.starts < (time[0] + 5 * 3600)] = \"SD\"\n",
    "        exp_stage[all_states.starts >= (time[0] + 5 * 3600)] = \"RS\"\n",
    "        all_states = all_states.add_column(\"exp_stage\", exp_stage)\n",
    "    plot_epochs(\n",
    "        all_states,\n",
    "        ax=ax,\n",
    "        labels_order=labels_order,\n",
    "        colors=colors,\n",
    "        colorby=colorby,\n",
    "        # colors=k,\n",
    "        collapsed=False,\n",
    "    )\n",
    "    ax.set_xticks(post_t, zt_time)\n",
    "    ax.set_axis_off()\n",
    "\n",
    "    ax = axs[1, i]\n",
    "    # ax = fig.subplot(fig.gs[:2,2*i:2*i+3])\n",
    "    ax.imshow(\n",
    "        # sxx*100,\n",
    "        stats.zscore(sxx, axis=None),\n",
    "        aspect=\"auto\",\n",
    "        cmap=\"plasma\",\n",
    "        vmax=1.3,\n",
    "        origin=\"lower\",\n",
    "        extent=[time[0], time[-1], 1.5, 10],\n",
    "    )\n",
    "    ax.set_ylabel(\"Frequency (Hz)\")\n",
    "    ax.set_yticks([2, 4, 6, 8, 10])\n",
    "    # axs[0,i].set_ylim(1.5,10)\n",
    "    # ax.plot(time, theta_all[i]*100,'k')\n",
    "    ax.set_xticks(post_t, zt_time)\n",
    "    # ax.set_xticks([0, 2.5, 5.0, 7.5])\n",
    "\n",
    "    # ax2 = axs[1,i].twinx()\n",
    "    # ax2.plot(time, delta_all[i]*100,'r')\n",
    "    # axs[1,i].set_xlim(left=time[0])\n",
    "    # x_ticks = axs[1, i].get_xticks()\n",
    "    # new_xticks = (x_ticks - time_all[i][0]) / 3600\n",
    "    # axs[1,i].set_ylabel('Theta power\\n(% session mean)')\n",
    "    # axs[1,i].set_ylim(30,350)\n",
    "    # axs[1,i].set_xticks(x_ticks,new_xticks.round(2))\n",
    "\n",
    "fig.savefig(subjects.figpath_sd / f\"sd_fig1_delta_theta_spect{wake_append}{bin_append}\", dpi=300, format=\"svg\")"
   ]
  },
  {
   "cell_type": "code",
   "execution_count": null,
   "metadata": {},
   "outputs": [],
   "source": [
    "# block 1\n",
    "\n",
    "from neuropy.plotting import plot_epochs, plot_hypnogram\n",
    "from neuropy.core import Epoch\n",
    "from neuropy import plotting\n",
    "\n",
    "combine_wake = False\n",
    "wake_append = \"\" if combine_wake else \"_split_wake\"\n",
    "state_bin_size = 30 # seconds, 1 is default\n",
    "\n",
    "fig = subjects.SdFig().fig1(18, 12)\n",
    "subfig = fig.add_subfigure(fig.gs[0, :8])\n",
    "axs = subfig.subplots(\n",
    "    2, 2, sharex=True, sharey=True, gridspec_kw=dict(height_ratios=[1, 4], hspace=0.1)\n",
    ")\n",
    "# _, axs = plt.subplots(\n",
    "#     2, 2, sharey=\"row\", sharex=\"col\", gridspec_kw=dict(height_ratios=[2, 1])\n",
    "# )\n",
    "\n",
    "for i in range(2):\n",
    "    time = time_all[i]\n",
    "    sxx = spect_all[i]\n",
    "    post_t = np.arange(time[0], time[-1] + 10, 2.5 * 3600)\n",
    "    zt_time = np.round(((post_t - time[0]) / 3600), 2)\n",
    "\n",
    "    ax = axs[0, i]\n",
    "    states = brainstates[i]\n",
    "\n",
    "    # Change resolution\n",
    "    if state_bin_size > 1:\n",
    "        states = states.resample_labeled_epochs(state_bin_size, t_start=time[0], t_stop=time[-1], merge_neighbors=True)\n",
    "        bin_append = f\"_statebin{state_bin_size}\"\n",
    "        \n",
    "    if combine_wake: # Combine wake states\n",
    "        wk_states = states.label_slice([\"AW\", \"QW\"]).set_labels(\"WK\").merge_neighbors()\n",
    "        labels_order = [\"NREM\", \"REM\", \"WK\"]\n",
    "    else: # Keep states split\n",
    "        wk_states = states.label_slice([\"AW\", \"QW\"])\n",
    "        labels_order = [\"NREM\", \"REM\", \"QW\", \"AW\"]\n",
    "    slp_states = states.label_slice([\"NREM\", \"REM\"])\n",
    "    all_states = slp_states + wk_states\n",
    "    # Plot hypnogram\n",
    "    sd_color = subjects.colors_sd(1)[1]\n",
    "    rs_color = subjects.colors_rs(1)[0]\n",
    "    grp = \"NSD\" if (\"NSD\" in str(sessions[i])) else \"SD\"\n",
    "    colors = \"k\" if grp == \"NSD\" else {\"SD\": sd_color, \"RS\": rs_color}\n",
    "    colorby = \"label\" if grp == \"NSD\" else \"exp_stage\"\n",
    "    if grp == \"SD\":\n",
    "        exp_stage = np.ones_like(all_states.labels)\n",
    "        exp_stage[all_states.starts < (time[0] + 5 * 3600)] = \"SD\"\n",
    "        exp_stage[all_states.starts >= (time[0] + 5 * 3600)] = \"RS\"\n",
    "        all_states = all_states.add_column(\"exp_stage\", exp_stage)\n",
    "    plot_epochs(\n",
    "        all_states,\n",
    "        ax=ax,\n",
    "        labels_order=labels_order,\n",
    "        colors=colors,\n",
    "        colorby=colorby,\n",
    "        # colors=k,\n",
    "        collapsed=False,\n",
    "    )\n",
    "    ax.set_xticks(post_t, zt_time)\n",
    "    ax.set_axis_off()\n",
    "\n",
    "    ax = axs[1, i]\n",
    "    # ax = fig.subplot(fig.gs[:2,2*i:2*i+3])\n",
    "    ax.imshow(\n",
    "        # sxx*100,\n",
    "        stats.zscore(sxx, axis=None),\n",
    "        aspect=\"auto\",\n",
    "        cmap=\"plasma\",\n",
    "        vmax=1.3,\n",
    "        origin=\"lower\",\n",
    "        extent=[time[0], time[-1], 1.5, 10],\n",
    "    )\n",
    "    ax.set_ylabel(\"Frequency (Hz)\")\n",
    "    ax.set_yticks([2, 4, 6, 8, 10])\n",
    "    # axs[0,i].set_ylim(1.5,10)\n",
    "    # ax.plot(time, theta_all[i]*100,'k')\n",
    "    ax.set_xticks(post_t, zt_time)\n",
    "    # ax.set_xticks([0, 2.5, 5.0, 7.5])\n",
    "\n",
    "    # ax2 = axs[1,i].twinx()\n",
    "    # ax2.plot(time, delta_all[i]*100,'r')\n",
    "    # axs[1,i].set_xlim(left=time[0])\n",
    "    # x_ticks = axs[1, i].get_xticks()\n",
    "    # new_xticks = (x_ticks - time_all[i][0]) / 3600\n",
    "    # axs[1,i].set_ylabel('Theta power\\n(% session mean)')\n",
    "    # axs[1,i].set_ylim(30,350)\n",
    "    # axs[1,i].set_xticks(x_ticks,new_xticks.round(2))\n",
    "\n",
    "fig.savefig(subjects.figpath_sd / f\"sd_fig1_delta_theta_spect{wake_append}{bin_append}\", dpi=300, format=\"svg\")"
   ]
  },
  {
   "cell_type": "code",
   "execution_count": null,
   "metadata": {},
   "outputs": [
    {
     "name": "stdout",
     "output_type": "stream",
     "text": [
      "The autoreload extension is already loaded. To reload it, use:\n",
      "  %reload_ext autoreload\n"
     ]
    },
    {
     "ename": "AttributeError",
     "evalue": "'ProcessData' object has no attribute 'best_channels'",
     "output_type": "error",
     "traceback": [
      "\u001b[0;31m---------------------------------------------------------------------------\u001b[0m",
      "\u001b[0;31mAttributeError\u001b[0m                            Traceback (most recent call last)",
      "Cell \u001b[0;32mIn[6], line 35\u001b[0m\n\u001b[1;32m     31\u001b[0m t_stop \u001b[38;5;241m=\u001b[39m post[\u001b[38;5;241m0\u001b[39m] \u001b[38;5;241m+\u001b[39m \u001b[38;5;241m7.5\u001b[39m \u001b[38;5;241m*\u001b[39m \u001b[38;5;241m3600\u001b[39m\n\u001b[1;32m     33\u001b[0m \u001b[38;5;66;03m# Chan 191 was used for ratUDay2 and ratUDay4\u001b[39;00m\n\u001b[1;32m     34\u001b[0m \u001b[38;5;66;03m# signal = sess.eegfile.get_signal(191, t_start=t_start, t_stop=t_stop)\u001b[39;00m\n\u001b[0;32m---> 35\u001b[0m chan \u001b[38;5;241m=\u001b[39m \u001b[43msess\u001b[49m\u001b[38;5;241;43m.\u001b[39;49m\u001b[43mbest_channels\u001b[49m\u001b[38;5;241m.\u001b[39mslow_wave\n\u001b[1;32m     36\u001b[0m signal \u001b[38;5;241m=\u001b[39m sess\u001b[38;5;241m.\u001b[39meegfile\u001b[38;5;241m.\u001b[39mget_signal(chan, t_start\u001b[38;5;241m=\u001b[39mt_start, t_stop\u001b[38;5;241m=\u001b[39mt_stop)\n\u001b[1;32m     37\u001b[0m trace \u001b[38;5;241m=\u001b[39m signal\u001b[38;5;241m.\u001b[39mtraces[\u001b[38;5;241m0\u001b[39m]\u001b[38;5;241m.\u001b[39mastype(\u001b[38;5;124m\"\u001b[39m\u001b[38;5;124mint16\u001b[39m\u001b[38;5;124m\"\u001b[39m)\n",
      "\u001b[0;31mAttributeError\u001b[0m: 'ProcessData' object has no attribute 'best_channels'"
     ]
    }
   ],
   "source": [
    "# block 1 modify\n",
    "%load_ext autoreload\n",
    "%autoreload 2\n",
    "import sys\n",
    "\n",
    "import matplotlib.pyplot as plt\n",
    "import numpy as np\n",
    "import subjects\n",
    "import pandas as pd\n",
    "import seaborn as sns\n",
    "import scipy.signal as sg\n",
    "from tqdm import tqdm\n",
    "from scipy import stats\n",
    "\n",
    "grpdata = subjects.GroupData()\n",
    "\n",
    "from neuropy.plotting.epochs import plot_epochs\n",
    "\n",
    "from neuropy.core import Signal\n",
    "from scipy.ndimage import gaussian_filter1d\n",
    "from neuropy.utils import signal_process\n",
    "\n",
    "smooth = lambda x: gaussian_filter1d(x, sigma=60 / 4)\n",
    "sessions = subjects.nsd.ratVday1 + subjects.sd.ratVday2\n",
    "time_all, brainstates, spect_all = [], [], []\n",
    "for sess in sessions:\n",
    "    post = sess.paradigm[\"post\"].flatten()\n",
    "    t_start = post[0]\n",
    "    t_stop = post[0] + 7.5 * 3600\n",
    "\n",
    "    # Chan 191 was used for ratUDay2 and ratUDay4\n",
    "    # signal = sess.eegfile.get_signal(191, t_start=t_start, t_stop=t_stop)\n",
    "    chan = sess.best_channels.slow_wave\n",
    "    signal = sess.eegfile.get_signal(chan, t_start=t_start, t_stop=t_stop)\n",
    "    trace = signal.traces[0].astype(\"int16\")\n",
    "\n",
    "    if sess.artifact is not None:\n",
    "        for e in sess.artifact.as_array():\n",
    "            indx = (signal.time >= e[0]) & (signal.time <= e[1])\n",
    "            trace[indx] = 1e-16\n",
    "\n",
    "    signal = Signal(trace[np.newaxis, :], sampling_rate=1250, t_start=signal.t_start)\n",
    "    spect = signal_process.FourierSg(signal, window=4, overlap=0, norm_sig=False)\n",
    "    sxx = spect.freq_slice(1.5, 10).traces\n",
    "\n",
    "    post_indx = (spect.time >= post[0]) & (spect.time <= t_stop)\n",
    "    time_all.append(spect.time[post_indx])\n",
    "    spect_all.append(sxx[:, post_indx])\n",
    "\n",
    "    brainstates.append(sess.brainstates.time_slice(t_start, t_stop))\n",
    "\n",
    "combine_wake = False\n",
    "wake_append = \"\" if combine_wake else \"_split_wake\"\n",
    "state_bin_size = 30 # seconds, 1 is default\n",
    "\n",
    "fig = subjects.SdFig().fig1(18, 12)\n",
    "subfig = fig.add_subfigure(fig.gs[0, :8])\n",
    "axs = subfig.subplots(\n",
    "    2, 2, sharex=True, sharey=True, gridspec_kw=dict(height_ratios=[1, 4], hspace=0.1)\n",
    ")\n",
    "# _, axs = plt.subplots(\n",
    "#     2, 2, sharey=\"row\", sharex=\"col\", gridspec_kw=dict(height_ratios=[2, 1])\n",
    "# )\n",
    "\n",
    "for i in range(2):\n",
    "    time = time_all[i]\n",
    "    sxx = spect_all[i]\n",
    "    post_t = np.arange(time[0], time[-1] + 10, 2.5 * 3600)\n",
    "    zt_time = np.round(((post_t - time[0]) / 3600), 2)\n",
    "\n",
    "    ax = axs[0, i]\n",
    "    states = brainstates[i]\n",
    "\n",
    "    # Change resolution\n",
    "    if state_bin_size > 1:\n",
    "        states = states.resample_labeled_epochs(state_bin_size, t_start=time[0], t_stop=time[-1], merge_neighbors=True)\n",
    "        bin_append = f\"_statebin{state_bin_size}\"\n",
    "        \n",
    "    if combine_wake: # Combine wake states\n",
    "        wk_states = states.label_slice([\"AW\", \"QW\"]).set_labels(\"WK\").merge_neighbors()\n",
    "        labels_order = [\"NREM\", \"REM\", \"WK\"]\n",
    "    else: # Keep states split\n",
    "        wk_states = states.label_slice([\"AW\", \"QW\"])\n",
    "        labels_order = [\"NREM\", \"REM\", \"QW\", \"AW\"]\n",
    "    slp_states = states.label_slice([\"NREM\", \"REM\"])\n",
    "    all_states = slp_states + wk_states\n",
    "    # Plot hypnogram\n",
    "    sd_color = subjects.colors_sd(1)[1]\n",
    "    rs_color = subjects.colors_rs(1)[0]\n",
    "    grp = \"NSD\" if (\"NSD\" in str(sessions[i])) else \"SD\"\n",
    "    colors = \"k\" if grp == \"NSD\" else {\"SD\": sd_color, \"RS\": rs_color}\n",
    "    colorby = \"label\" if grp == \"NSD\" else \"exp_stage\"\n",
    "    if grp == \"SD\":\n",
    "        exp_stage = np.ones_like(all_states.labels)\n",
    "        exp_stage[all_states.starts < (time[0] + 5 * 3600)] = \"SD\"\n",
    "        exp_stage[all_states.starts >= (time[0] + 5 * 3600)] = \"RS\"\n",
    "        all_states = all_states.add_column(\"exp_stage\", exp_stage)\n",
    "    plot_epochs(\n",
    "        all_states,\n",
    "        ax=ax,\n",
    "        labels_order=labels_order,\n",
    "        colors=colors,\n",
    "        colorby=colorby,\n",
    "        # colors=k,\n",
    "        collapsed=False,\n",
    "    )\n",
    "    ax.set_xticks(post_t, zt_time)\n",
    "    ax.set_axis_off()\n",
    "\n",
    "    ax = axs[1, i]\n",
    "    # ax = fig.subplot(fig.gs[:2,2*i:2*i+3])\n",
    "    ax.imshow(\n",
    "        # sxx*100,\n",
    "        stats.zscore(sxx, axis=None),\n",
    "        aspect=\"auto\",\n",
    "        cmap=\"plasma\",\n",
    "        vmax=1.3,\n",
    "        origin=\"lower\",\n",
    "        extent=[time[0], time[-1], 1.5, 10],\n",
    "    )\n",
    "    ax.set_ylabel(\"Frequency (Hz)\")\n",
    "    ax.set_yticks([2, 4, 6, 8, 10])\n",
    "    # axs[0,i].set_ylim(1.5,10)\n",
    "    # ax.plot(time, theta_all[i]*100,'k')\n",
    "    ax.set_xticks(post_t, zt_time)\n",
    "    # ax.set_xticks([0, 2.5, 5.0, 7.5])\n",
    "\n",
    "    # ax2 = axs[1,i].twinx()\n",
    "    # ax2.plot(time, delta_all[i]*100,'r')\n",
    "    # axs[1,i].set_xlim(left=time[0])\n",
    "    # x_ticks = axs[1, i].get_xticks()\n",
    "    # new_xticks = (x_ticks - time_all[i][0]) / 3600\n",
    "    # axs[1,i].set_ylabel('Theta power\\n(% session mean)')\n",
    "    # axs[1,i].set_ylim(30,350)\n",
    "    # axs[1,i].set_xticks(x_ticks,new_xticks.round(2))\n",
    "\n",
    "fig.savefig(subjects.figpath_sd / f\"sd_fig1_delta_theta_spect{wake_append}{bin_append}\", dpi=300, format=\"svg\")"
   ]
  },
  {
   "cell_type": "code",
   "execution_count": 39,
   "metadata": {},
   "outputs": [
    {
     "data": {
      "text/plain": [
       "[<matplotlib.lines.Line2D at 0x7f7c13daded0>]"
      ]
     },
     "execution_count": 39,
     "metadata": {},
     "output_type": "execute_result"
    },
    {
     "data": {
      "image/png": "[encoded data removed]",
      "text/plain": [
       "<Figure size 640x480 with 1 Axes>"
      ]
     },
     "metadata": {},
     "output_type": "display_data"
    }
   ],
   "source": [
    "x=np.arange(1000)+1\n",
    "y=np.exp(-1/x)\n",
    "plt.plot(x,y)"
   ]
  },
  {
   "cell_type": "markdown",
   "metadata": {},
   "source": [
    "#### minimum ISI"
   ]
  },
  {
   "cell_type": "code",
   "execution_count": null,
   "metadata": {},
   "outputs": [
    {
     "data": {
      "text/plain": [
       "0.06666666740784422"
      ]
     },
     "execution_count": 263,
     "metadata": {},
     "output_type": "execute_result"
    }
   ],
   "source": [
    "np.min([np.diff(np.unique(i)).min()*1000 for i in neurons.get_neuron_type('pyr').spiketrains])"
   ]
  },
  {
   "cell_type": "code",
   "execution_count": null,
   "metadata": {},
   "outputs": [],
   "source": [
    "interspikes = np.concatenate([np.diff(i)*1000 for i in neurons.get_neuron_type('mua').spiketrains])\n",
    "hist = np.histogram(interspikes[interspikes<2],bins=50)"
   ]
  },
  {
   "cell_type": "code",
   "execution_count": 78,
   "metadata": {},
   "outputs": [
    {
     "data": {
      "text/plain": [
       "(array([   66,   267,   359,   262,   457,   489,   329,   351,   338,\n",
       "          404,   337,   208,   955, 37883, 66415, 48594, 36988, 35936,\n",
       "        35232, 49684, 47194, 31571, 29673, 30536, 38949, 51389, 30790,\n",
       "        29921, 31539, 50645, 44393, 32146, 31756, 31946, 42246, 54684,\n",
       "        31680, 33245, 31164, 51792, 44582, 31662, 31669, 32137, 43569,\n",
       "        54406, 33575, 32388, 33606, 41115]),\n",
       " array([0.  , 0.04, 0.08, 0.12, 0.16, 0.2 , 0.24, 0.28, 0.32, 0.36, 0.4 ,\n",
       "        0.44, 0.48, 0.52, 0.56, 0.6 , 0.64, 0.68, 0.72, 0.76, 0.8 , 0.84,\n",
       "        0.88, 0.92, 0.96, 1.  , 1.04, 1.08, 1.12, 1.16, 1.2 , 1.24, 1.28,\n",
       "        1.32, 1.36, 1.4 , 1.44, 1.48, 1.52, 1.56, 1.6 , 1.64, 1.68, 1.72,\n",
       "        1.76, 1.8 , 1.84, 1.88, 1.92, 1.96, 2.  ]))"
      ]
     },
     "execution_count": 78,
     "metadata": {},
     "output_type": "execute_result"
    }
   ],
   "source": [
    "hist"
   ]
  },
  {
   "cell_type": "code",
   "execution_count": 41,
   "metadata": {},
   "outputs": [
    {
     "name": "stderr",
     "output_type": "stream",
     "text": [
      "/tmp/ipykernel_3519858/3276031069.py:2: RuntimeWarning: Converting input from bool to <class 'numpy.uint8'> for compatibility.\n",
      "  hist = np.histogram(interspikes,bins=10)\n"
     ]
    }
   ],
   "source": [
    "interspikes = [np.sum(np.diff(i)<1e-4)==0 for i in neurons.get_neuron_type('pyr').spiketrains]\n",
    "hist = np.histogram(interspikes,bins=10)"
   ]
  },
  {
   "cell_type": "code",
   "execution_count": 42,
   "metadata": {},
   "outputs": [
    {
     "data": {
      "text/plain": [
       "(array([  6,   0,   0,   0,   0,   0,   0,   0,   0, 145]),\n",
       " array([0. , 0.1, 0.2, 0.3, 0.4, 0.5, 0.6, 0.7, 0.8, 0.9, 1. ]))"
      ]
     },
     "execution_count": 42,
     "metadata": {},
     "output_type": "execute_result"
    }
   ],
   "source": [
    "hist"
   ]
  },
  {
   "cell_type": "markdown",
   "metadata": {},
   "source": [
    "#### conv test"
   ]
  },
  {
   "cell_type": "code",
   "execution_count": 99,
   "metadata": {},
   "outputs": [],
   "source": [
    "ccg=ccg_jitters[0][0]"
   ]
  },
  {
   "cell_type": "code",
   "execution_count": null,
   "metadata": {},
   "outputs": [
    {
     "data": {
      "text/plain": [
       "<matplotlib.legend.Legend at 0x7f15a12985d0>"
      ]
     },
     "execution_count": 325,
     "metadata": {},
     "output_type": "execute_result"
    },
    {
     "data": {
      "image/png": "[encoded data removed]",
      "text/plain": [
       "<Figure size 640x480 with 1 Axes>"
      ]
     },
     "metadata": {},
     "output_type": "display_data"
    }
   ],
   "source": [
    "plt.plot(pred,label=\"pred\")\n",
    "plt.plot(ccg,label=\"ccg\")\n",
    "plt.legend()"
   ]
  }
 ],
 "metadata": {
  "kernelspec": {
   "display_name": "NeuroPy2",
   "language": "python",
   "name": "python3"
  },
  "language_info": {
   "codemirror_mode": {
    "name": "ipython",
    "version": 3
   },
   "file_extension": ".py",
   "mimetype": "text/x-python",
   "name": "python",
   "nbconvert_exporter": "python",
   "pygments_lexer": "ipython3",
   "version": "3.11.13"
  },
  "orig_nbformat": 4
 },
 "nbformat": 4,
 "nbformat_minor": 2
}
