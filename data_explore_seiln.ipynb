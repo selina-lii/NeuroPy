{
 "cells": [
  {
   "cell_type": "code",
   "execution_count": 1,
   "metadata": {},
   "outputs": [
    {
     "name": "stderr",
     "output_type": "stream",
     "text": [
      "/home/selinali/miniforge3/envs/NeuroPy2/lib/python3.11/site-packages/xarray/__init__.py:1: UserWarning: pkg_resources is deprecated as an API. See https://setuptools.pypa.io/en/latest/pkg_resources.html. The pkg_resources package is slated for removal as early as 2025-11-30. Refrain from using this package or pin to Setuptools<81.\n",
      "  import pkg_resources\n"
     ]
    }
   ],
   "source": [
    "from pathlib import Path\n",
    "from neuropy.core.session import ProcessData\n",
    "from neuropy.core.neurons import Neurons\n",
    "from neuropy.analyses import correlations \n",
    "import numpy as np\n",
    "import matplotlib.pyplot as plt\n",
    "import time\n",
    "data_dir = Path('/home/selinali/Documents/ms_synchrony/sessions/RatU/RatUDay2NSD')\n",
    "sess = ProcessData(data_dir)\n",
    "paradigm = np.load(sess.filePrefix.with_suffix('.paradigm.npy'),allow_pickle=True).item()\n"
   ]
  },
  {
   "cell_type": "code",
   "execution_count": 21,
   "metadata": {},
   "outputs": [],
   "source": [
    "from subjects1 import GroupData"
   ]
  },
  {
   "cell_type": "code",
   "execution_count": 23,
   "metadata": {},
   "outputs": [],
   "source": [
    "x=GroupData()"
   ]
  },
  {
   "cell_type": "code",
   "execution_count": null,
   "metadata": {},
   "outputs": [
    {
     "data": {
      "text/plain": [
       "<subjects1.GroupData at 0x562542a1edd0>"
      ]
     },
     "execution_count": 24,
     "metadata": {},
     "output_type": "execute_result"
    }
   ],
   "source": [
    "x.load()"
   ]
  },
  {
   "cell_type": "code",
   "execution_count": 2,
   "metadata": {},
   "outputs": [],
   "source": [
    "start=paradigm['epochs']['start'][2]\n",
    "stop=paradigm['epochs']['stop'][2]"
   ]
  },
  {
   "cell_type": "code",
   "execution_count": 3,
   "metadata": {},
   "outputs": [
    {
     "data": {
      "text/plain": [
       "(array([12856., 23676., 34496.]), array([23676., 34496., 45316.]))"
      ]
     },
     "execution_count": 3,
     "metadata": {},
     "output_type": "execute_result"
    }
   ],
   "source": [
    "chunk_starts = np.histogram_bin_edges([],bins=3,range=(start,stop))[:-1]\n",
    "chunk_stops = np.histogram_bin_edges([],bins=3,range=(start,stop))[1:]\n",
    "chunk_starts, chunk_stops"
   ]
  },
  {
   "cell_type": "code",
   "execution_count": 4,
   "metadata": {},
   "outputs": [
    {
     "data": {
      "text/plain": [
       "[Neurons\n",
       "  n_neurons: 249\n",
       "  t_start: 12856.0\n",
       "  t_stop: 23676.0\n",
       "  neuron_type: ['inter' 'mua' 'pyr'],\n",
       " Neurons\n",
       "  n_neurons: 249\n",
       "  t_start: 23676.0\n",
       "  t_stop: 34496.0\n",
       "  neuron_type: ['inter' 'mua' 'pyr'],\n",
       " Neurons\n",
       "  n_neurons: 249\n",
       "  t_start: 34496.0\n",
       "  t_stop: 45316.0\n",
       "  neuron_type: ['inter' 'mua' 'pyr']]"
      ]
     },
     "execution_count": 4,
     "metadata": {},
     "output_type": "execute_result"
    }
   ],
   "source": [
    "neurons = Neurons.from_dict(np.load(sess.filePrefix.with_suffix('.neurons.stable.npy'),allow_pickle=True).item())\n",
    "sleep_neurons=[]\n",
    "for i in range(3):\n",
    "    sleep_neurons.append(neurons.time_slice(chunk_starts[i],chunk_stops[i]))\n",
    "sleep_neurons"
   ]
  },
  {
   "cell_type": "code",
   "execution_count": 5,
   "metadata": {},
   "outputs": [],
   "source": [
    "indices = np.argsort([neurons.spiketrains[_].shape[0] for _ in range(neurons.n_neurons)])"
   ]
  },
  {
   "cell_type": "code",
   "execution_count": 6,
   "metadata": {},
   "outputs": [
    {
     "data": {
      "text/plain": [
       "array([117,  60, 105,  21, 188, 111, 181, 235,   9,  23, 194, 234, 119,\n",
       "        90,  54, 187, 167, 176,  24,  82, 180, 107, 133, 128, 113, 205,\n",
       "       224,  53, 129, 184,  96,  37, 161, 209, 198, 182, 190,  46,  95,\n",
       "       192,  86, 212,  47, 162,  40,  58,  80,  63, 217, 163, 213, 193,\n",
       "       140, 175, 156, 143, 232, 242, 208, 202,   5,  44, 201,  51, 137,\n",
       "       238,  71, 216,  77, 229,  78, 220, 218, 145, 118, 112, 172, 214,\n",
       "       165,   6, 122, 114,  73, 207,   2, 191, 233, 169,  27, 152, 131,\n",
       "       200,  13, 132, 177,  88,  83,  34, 170, 142,  97,  84,  59, 130,\n",
       "        26, 199, 183,  50, 243, 237, 225, 160, 246, 221,  42, 219,  33,\n",
       "       222,  57, 115, 236, 211, 178,   7,  52, 240,  30,  75, 230, 210,\n",
       "       136, 135,  11, 248, 127, 153, 244,  32,  92,  25, 203, 186,  56,\n",
       "       125,  35, 239, 110, 102,  67,  19,  74, 166,  14, 227,  93,  81,\n",
       "        87, 168, 196,  72, 174, 148, 173,  48,  65,  69,  62, 247, 164,\n",
       "       206,  45, 171,  99,  16, 141, 139,  66, 154,  89,  18, 106, 150,\n",
       "       155, 245,  28, 146,  70, 147,  79, 120,  38, 101, 241,  64,  39,\n",
       "       123, 158,  68, 226,  85,   4,  94, 126,  29,  49,  10, 159, 195,\n",
       "       100,  98, 104,  91, 134, 149, 103,  36, 223, 157, 138, 121,   8,\n",
       "        61,  41,  31,   0, 116,  17, 215, 108,   1,  55,  12, 204, 151,\n",
       "       124, 109, 144,   3, 228, 231, 197, 179,  22,  76, 185, 189,  43,\n",
       "        15,  20])"
      ]
     },
     "execution_count": 6,
     "metadata": {},
     "output_type": "execute_result"
    }
   ],
   "source": [
    "indices"
   ]
  },
  {
   "cell_type": "code",
   "execution_count": null,
   "metadata": {},
   "outputs": [
    {
     "data": {
      "text/plain": [
       "(3613, 3028035)"
      ]
     },
     "execution_count": 7,
     "metadata": {},
     "output_type": "execute_result"
    }
   ],
   "source": [
    "neurons.spiketrains[indices[0]].shape[0], neurons.spiketrains[indices[-1]].shape[0]"
   ]
  },
  {
   "cell_type": "code",
   "execution_count": null,
   "metadata": {},
   "outputs": [
    {
     "data": {
      "text/plain": [
       "249"
      ]
     },
     "execution_count": 8,
     "metadata": {},
     "output_type": "execute_result"
    }
   ],
   "source": [
    "neurons.n_neurons"
   ]
  },
  {
   "cell_type": "code",
   "execution_count": null,
   "metadata": {},
   "outputs": [
    {
     "data": {
      "text/plain": [
       "Neurons\n",
       " n_neurons: 151\n",
       " t_start: 0.0\n",
       " t_stop: 48498.5344\n",
       " neuron_type: ['pyr']"
      ]
     },
     "execution_count": 9,
     "metadata": {},
     "output_type": "execute_result"
    }
   ],
   "source": [
    "neurons.get_neuron_type('pyr')\n",
    "# get indices of pyr and ints\n",
    "# calculate ccg between some pairs of them\n",
    "# calculate strength of ccg\n",
    "# TODO is there a data struture that stores connectivities"
   ]
  },
  {
   "cell_type": "code",
   "execution_count": null,
   "metadata": {},
   "outputs": [
    {
     "name": "stdout",
     "output_type": "stream",
     "text": [
      "data sampling rate\t 30000\n",
      "eeg sampling rate\t 1250\n",
      "n_channels\t\t 192\n",
      "signal dtype\t\t 16\n",
      "skipped channels\t [ 17 140 163]\n",
      "discarded channels\t []\n",
      "source file\t\t /home/selinali/Documents/ms_synchrony/sessions/RatU/RatUDay2NSD/RatU_Day2NSD_2021-07-24_08-16-38.xml\n",
      "basepath\t\t /home/selinali/Documents/ms_synchrony/sessions/RatU/RatUDay2NSD\n",
      "file prefix\t\t /home/selinali/Documents/ms_synchrony/sessions/RatU/RatUDay2NSD/RatU_Day2NSD_2021-07-24_08-16-38\n",
      "probegroup\t\t <neuropy.core.probe.ProbeGroup object at 0x7f1fdd8e2ed0>\n",
      "channel groups\t\t [[0 1 2 3 4 5 6 7 8 9 10 11 12 13 14 15]\n",
      " [16 17 18 19 20 21 22 23 24 25 26 27 28 29 30 31]\n",
      " [32 33 34 35 36 37 38 39 40 41 42 43 44 45 46 47]\n",
      " [48 49 50 51 52 53 54 55 56 57 58 59 60 61 62 63]\n",
      " [64 65 66 67 68 69 70 71 72 73 74 75 76 77 78 79]\n",
      " [80 81 82 83 84 85 86 87 88 89 90 91 92 93 94 95]\n",
      " [96 97 98 99 100 101 102 103 104 105 106 107 108 109 110 111]\n",
      " [112 113 114 115 116 117 118 119 120 121 122 123 124 125 126 127]\n",
      " [128 129 130 131 132 133 134 135 136 137 138 139 140 141 142 143]\n",
      " [144 145 146 147 148 149 150 151 152 153 154 155 156 157 158 159]\n",
      " [160 161 162 163 164 165 166 167 168 169 170 171 172 173 174 175]\n",
      " [176 177 178 179 180 181 182 183 184 185 186 187 188 189 190 191]]\n"
     ]
    }
   ],
   "source": [
    "print(\"data sampling rate\\t\", sess.recinfo.dat_sampling_rate)\n",
    "print(\"eeg sampling rate\\t\", sess.recinfo.eeg_sampling_rate)\n",
    "print(\"n_channels\\t\\t\", sess.recinfo.n_channels)\n",
    "print(\"signal dtype\\t\\t\", sess.recinfo.sig_dtype)\n",
    "print(\"skipped channels\\t\", sess.recinfo.skipped_channels)\n",
    "print(\"discarded channels\\t\", sess.recinfo.discarded_channels)\n",
    "print(\"source file\\t\\t\", sess.recinfo.source_file)\n",
    "# print(sess.recinfo.to_dict())\n",
    "print(\"basepath\\t\\t\", sess.basepath)\n",
    "print(\"file prefix\\t\\t\", sess.filePrefix)\n",
    "print(\"probegroup\\t\\t\", sess.probegroup)\n",
    "print(\"channel groups\\t\\t\",sess.recinfo.channel_groups)"
   ]
  },
  {
   "cell_type": "code",
   "execution_count": 13,
   "metadata": {},
   "outputs": [],
   "source": [
    "import time\n",
    "bin_size = 0.0005 # 0.5 ms\n",
    "window_size = 0.02 # 20 ms\n",
    "\n",
    "def get_ccg_timed(id1,id2):\n",
    "    st=time.time()\n",
    "    # get ccg between neurons 0 and 1\n",
    "    neuron_inds = [id1, id2]\n",
    "    ccg = correlations.spike_correlations(neurons, neuron_inds, sample_rate=sess.recinfo.dat_sampling_rate,\n",
    "                                        bin_size=bin_size, window_size=window_size,use_cupy=True)\n",
    "    end=time.time()\n",
    "    print(\"time elapsed \", end-st)\n",
    "    return ccg"
   ]
  },
  {
   "cell_type": "code",
   "execution_count": null,
   "metadata": {},
   "outputs": [
    {
     "name": "stdout",
     "output_type": "stream",
     "text": [
      "time elapsed  1.0997319221496582\n",
      "time elapsed  0.8407039642333984\n",
      "time elapsed  1.0042731761932373\n",
      "time elapsed  0.9806981086730957\n"
     ]
    }
   ],
   "source": [
    "# timing with cupy:\n",
    "\"\"\"\n",
    "shortest spiketrains in U day 4 session (two way)\n",
    "time elapsed  0.8515679836273193\n",
    "time elapsed  0.8398668766021729\n",
    "longest spiketrains in U day 4 session (two way)\n",
    "time elapsed  0.9864428043365479\n",
    "time elapsed  0.9447596073150635\n",
    "\"\"\"\n",
    "# timing without using cupy:\n",
    "\"\"\"\n",
    "shortest spiketrains in U day 4 session (two way)\n",
    "0.7386939525604248\n",
    "0.7017326354980469\n",
    "longest spiketrains in U day 4 session (two way)\n",
    "1.7350304126739502\n",
    "1.7177770137786865\n",
    "\"\"\"\n",
    "ccg01S=get_ccg_timed(indices[0],indices[1])\n",
    "ccg10S=get_ccg_timed(indices[1],indices[0])\n",
    "\n",
    "ccg01L=get_ccg_timed(indices[-1],indices[-2])\n",
    "ccg10L=get_ccg_timed(indices[-2],indices[-1])"
   ]
  },
  {
   "cell_type": "code",
   "execution_count": null,
   "metadata": {},
   "outputs": [],
   "source": [
    "def get_ccg_timed_group(neuron_inds):\n",
    "    st=time.time()\n",
    "    # get ccg between neurons 0 and 1\n",
    "    ccg = correlations.spike_correlations(neurons, neuron_inds, sample_rate=sess.recinfo.dat_sampling_rate,\n",
    "                                        bin_size=bin_size, window_size=window_size,use_cupy=True)\n",
    "    end=time.time()\n",
    "    print(\"time elapsed \", end-st)\n",
    "    return ccg"
   ]
  },
  {
   "cell_type": "code",
   "execution_count": null,
   "metadata": {},
   "outputs": [
    {
     "name": "stdout",
     "output_type": "stream",
     "text": [
      "time elapsed  2.056055784225464\n"
     ]
    }
   ],
   "source": [
    "# timing with cupy:\n",
    "# time elapsed  2.0314290523529053\n",
    "\n",
    "# timing without using cupy:\n",
    "# time elapsed  11.44138479232788\n",
    "\n",
    "ccg10L=get_ccg_timed_group(indices[-10:])"
   ]
  },
  {
   "cell_type": "code",
   "execution_count": null,
   "metadata": {},
   "outputs": [
    {
     "data": {
      "text/plain": [
       "(10, 10, 41)"
      ]
     },
     "execution_count": 15,
     "metadata": {},
     "output_type": "execute_result"
    }
   ],
   "source": [
    "ccg10L.shape"
   ]
  },
  {
   "cell_type": "code",
   "execution_count": null,
   "metadata": {},
   "outputs": [
    {
     "data": {
      "image/png": "[encoded data removed]",
      "text/plain": [
       "<Figure size 640x480 with 1 Axes>"
      ]
     },
     "metadata": {},
     "output_type": "display_data"
    }
   ],
   "source": [
    "import seaborn as sns\n",
    "_, ax = plt.subplots()\n",
    "bins = np.arange(-window_size / 2, window_size / 2 + bin_size, bin_size)\n",
    "ax.bar(bins, ccg10S[1,0], width=bin_size)\n",
    "ax.set_xlabel(\"Time (s)\")\n",
    "ax.set_ylabel(\"Count\")\n",
    "ax.set_title(\"CCG between two lowest firing neurons\")\n",
    "sns.despine(ax=ax)"
   ]
  },
  {
   "cell_type": "code",
   "execution_count": null,
   "metadata": {},
   "outputs": [
    {
     "data": {
      "image/png": "[encoded data removed]",
      "text/plain": [
       "<Figure size 640x480 with 1 Axes>"
      ]
     },
     "metadata": {},
     "output_type": "display_data"
    }
   ],
   "source": [
    "import seaborn as sns\n",
    "_, ax = plt.subplots()\n",
    "bins = np.arange(-window_size / 2, window_size / 2 + bin_size, bin_size)\n",
    "ax.bar(bins, ccg01L[0,1], width=bin_size)\n",
    "ax.set_xlabel(\"Time (s)\")\n",
    "ax.set_ylabel(\"Count\")\n",
    "ax.set_title(\"CCG between two highest firing neurons\")\n",
    "sns.despine(ax=ax)"
   ]
  },
  {
   "cell_type": "code",
   "execution_count": null,
   "metadata": {},
   "outputs": [],
   "source": [
    "sess.neurons=neurons"
   ]
  },
  {
   "cell_type": "code",
   "execution_count": null,
   "metadata": {},
   "outputs": [
    {
     "data": {
      "text/plain": [
       "<matplotlib.image.AxesImage at 0x7f1fb6e135d0>"
      ]
     },
     "execution_count": 22,
     "metadata": {},
     "output_type": "execute_result"
    },
    {
     "data": {
      "image/png": "[encoded data removed]",
      "text/plain": [
       "<Figure size 640x480 with 1 Axes>"
      ]
     },
     "metadata": {},
     "output_type": "display_data"
    }
   ],
   "source": [
    "# what does the waveform mean??\n",
    "plt.imshow(np.array(neurons.waveforms[2],dtype=float))"
   ]
  },
  {
   "cell_type": "code",
   "execution_count": null,
   "metadata": {},
   "outputs": [],
   "source": [
    "nneurons = np.zeros((3,3))\n",
    "frates = []\n",
    "mean_firing_rates = np.zeros((3,3))\n",
    "sd_firing_rates = np.zeros((3,3))\n",
    "iqr =  np.zeros((3,3))\n",
    "types = ['pyr','inter','mua']\n",
    "for i in range(3): # sleep chunk\n",
    "    for j in range(len(types)): # type: pyr, inter, mua\n",
    "        neus = sleep_neurons[i].get_neuron_type(types[j])\n",
    "        nneurons[i,j] = neus.n_neurons\n",
    "        time_duration = chunk_stops[i]-chunk_starts[i]\n",
    "        frate = [neus.spiketrains[_].shape[0] for _ in range(neus.n_neurons)]/time_duration\n",
    "        frates.append([frate])\n",
    "        mean_firing_rates[i,j] = np.mean(frate)\n",
    "        sd_firing_rates[i,j] = np.std(frate)\n",
    "        iqr[i,j]  = np.percentile(frate, 75)-np.percentile(frate, 25)"
   ]
  },
  {
   "attachments": {},
   "cell_type": "markdown",
   "metadata": {},
   "source": [
    "Load all labeled NSD sessions in Bapun's data\n",
    "\n",
    "    # mean firing rates did not change across sleep chunks\n"
   ]
  },
  {
   "cell_type": "code",
   "execution_count": null,
   "metadata": {},
   "outputs": [
    {
     "name": "stdout",
     "output_type": "stream",
     "text": [
      "==================================\n",
      "Basic info, RatS/Day2NSD\n",
      "{'metadata': {}, 'epochs': {'start': {0: 0, 1: 2360, 2: 6033, 3: 36902}, 'stop': {0: 2358, 1: 6031, 2: 36899, 3: 40233}, 'label': {0: 'pre', 1: 'maze', 2: 'post', 3: 're-maze'}}}\n"
     ]
    },
    {
     "ename": "NameError",
     "evalue": "name 'time_duration' is not defined",
     "output_type": "error",
     "traceback": [
      "\u001b[0;31m---------------------------------------------------------------------------\u001b[0m",
      "\u001b[0;31mNameError\u001b[0m                                 Traceback (most recent call last)",
      "Cell \u001b[0;32mIn[16], line 46\u001b[0m\n\u001b[1;32m     44\u001b[0m neus \u001b[39m=\u001b[39m sleep_neurons[i]\u001b[39m.\u001b[39mget_neuron_type(types[j])\n\u001b[1;32m     45\u001b[0m nneurons[i,j] \u001b[39m=\u001b[39m neus\u001b[39m.\u001b[39mn_neurons\n\u001b[0;32m---> 46\u001b[0m frate \u001b[39m=\u001b[39m [neus\u001b[39m.\u001b[39mspiketrains[_]\u001b[39m.\u001b[39mshape[\u001b[39m0\u001b[39m] \u001b[39mfor\u001b[39;00m _ \u001b[39min\u001b[39;00m \u001b[39mrange\u001b[39m(neus\u001b[39m.\u001b[39mn_neurons)]\u001b[39m/\u001b[39mtime_duration\n\u001b[1;32m     47\u001b[0m frates\u001b[39m.\u001b[39mappend([frate])\n\u001b[1;32m     48\u001b[0m time_duration \u001b[39m=\u001b[39m chunk_stops[i]\u001b[39m-\u001b[39mchunk_starts[i]\n",
      "\u001b[0;31mNameError\u001b[0m: name 'time_duration' is not defined"
     ]
    }
   ],
   "source": [
    "from pathlib import Path\n",
    "from neuropy.core.session import ProcessData\n",
    "from neuropy.core.neurons import Neurons\n",
    "import neuropy.analyses.correlations as correlations\n",
    "import numpy as np\n",
    "import matplotlib.pyplot as plt\n",
    "\n",
    "all_sess = [\"RatS/Day2NSD\",\n",
    "            \"RatR/Day1NSD\",\n",
    "            \"RatV/RatVDay1NSD\",\n",
    "            \"RatV/RatVDay3NSD\",\n",
    "            \"RatU/RatUDay2NSD\"]\n",
    "\n",
    "for sess_name in all_sess:\n",
    "    print(\"==================================\")\n",
    "    print(f\"Basic info, {sess_name}\")\n",
    "\n",
    "    # Load data\n",
    "    data_dir = Path(f'/home/selinali/Documents/ms_synchrony/sessions/{sess_name}')\n",
    "    sess = ProcessData(data_dir)\n",
    "    paradigm = np.load(sess.filePrefix.with_suffix('.paradigm.npy'),allow_pickle=True).item()\n",
    "\n",
    "    # Chunk into 3h slep sessions\n",
    "    start=paradigm['epochs']['start'][2]\n",
    "    stop=paradigm['epochs']['stop'][2]\n",
    "    chunk_starts = np.histogram_bin_edges([],bins=3,range=(start,stop))[:-1]\n",
    "    chunk_stops = np.histogram_bin_edges([],bins=3,range=(start,stop))[1:]\n",
    "    chunk_starts, chunk_stops\n",
    "    neurons = Neurons.from_dict(np.load(sess.filePrefix.with_suffix('.neurons.stable.npy'),allow_pickle=True).item())\n",
    "    sleep_neurons=[]\n",
    "    for i in range(3):\n",
    "        sleep_neurons.append(neurons.time_slice(chunk_starts[i],chunk_stops[i]))\n",
    "    print(paradigm)\n",
    "\n",
    "    # Get population stats\n",
    "    nneurons = np.zeros((3,3))\n",
    "    frates = []\n",
    "    mean_firing_rates = np.zeros((3,3))\n",
    "    sd_firing_rates = np.zeros((3,3))\n",
    "    iqr =  np.zeros((3,3))\n",
    "    types = ['pyr','inter','mua']\n",
    "    for i in range(3): # sleep chunk\n",
    "        for j in range(len(types)): # type: pyr, inter, mua\n",
    "            neus = sleep_neurons[i].get_neuron_type(types[j])\n",
    "            nneurons[i,j] = neus.n_neurons\n",
    "            frate = [neus.spiketrains[_].shape[0] for _ in range(neus.n_neurons)]/time_duration\n",
    "            frates.append([frate])\n",
    "            time_duration = chunk_stops[i]-chunk_starts[i]\n",
    "            mean_firing_rates[i,j] = np.mean(frate)\n",
    "            sd_firing_rates[i,j] = np.std(frate)\n",
    "            iqr[i,j]  = np.percentile(frate, 75)-np.percentile(frate, 25)\n",
    "    # Standard t-test\n",
    "    # check if mean firing rate changes over sleep per cell type\n",
    "    from scipy.stats import ttest_ind\n",
    "    pyr03,pyr46,pyr79=frates[0][0],frates[3][0],frates[6][0]\n",
    "    int03,int46,int79=frates[1][0],frates[4][0],frates[7][0]\n",
    "    mua03,mua46,mua79=frates[2][0],frates[5][0],frates[8][0]\n",
    "\n",
    "    # Print\n",
    "    print(\"n_neurons (pyr, int, mua)\",nneurons[0])\n",
    "\n",
    "    print(f\"Mean firing rates P VALUES, {sess_name}\")\n",
    "    print(\"SLEEP1, SLEEP2, SLEEP3 are evenly chunked from POST\")\n",
    "    print(\"1. Pyramidal neurons\")\n",
    "    print(\"SLEEP1 VS SLEEP2 \", ttest_ind(pyr03,pyr46,equal_var=True).pvalue)\n",
    "    print(\"SLEEP1 VS SLEEP3 \", ttest_ind(pyr03,pyr79,equal_var=True).pvalue)\n",
    "    print(\"SLEEP2 VS SLEEP3 \", ttest_ind(pyr46,pyr79,equal_var=True).pvalue)\n",
    "    print(\"2. Interneurons\")\n",
    "    print(\"SLEEP1 VS SLEEP2 \", ttest_ind(int03,int46,equal_var=True).pvalue)\n",
    "    print(\"SLEEP1 VS SLEEP3 \", ttest_ind(int03,int79,equal_var=True).pvalue)\n",
    "    print(\"SLEEP2 VS SLEEP3 \", ttest_ind(int46,int79,equal_var=True).pvalue)\n",
    "    print(\"3. Multi-unit activities\")\n",
    "    print(\"SLEEP1 VS SLEEP2 \", ttest_ind(mua03,mua46,equal_var=True).pvalue)\n",
    "    print(\"SLEEP1 VS SLEEP3 \", ttest_ind(mua03,mua79,equal_var=True).pvalue)\n",
    "    print(\"SLEEP2 VS SLEEP3 \", ttest_ind(mua46,mua79,equal_var=True).pvalue)\n",
    "\n",
    "    print(\"mean_firing_rates\",mean_firing_rates)\n",
    "    print(\"sd_firing_rates\",sd_firing_rates)\n",
    "    print(\"iqr 25%\",iqr)\n",
    "    print(\"==================================\")"
   ]
  },
  {
   "cell_type": "code",
   "execution_count": null,
   "metadata": {},
   "outputs": [],
   "source": []
  },
  {
   "cell_type": "code",
   "execution_count": null,
   "metadata": {},
   "outputs": [
    {
     "name": "stdout",
     "output_type": "stream",
     "text": [
      "mean_firing_rates [[ 0.76174935 23.40442083  9.9865559 ]\n",
      " [ 0.70615612 21.99234442  9.83653119]\n",
      " [ 0.72449841 22.97850431 10.24840197]]\n",
      "sd_firing_rates [[ 0.76751907 10.37316044 12.59902528]\n",
      " [ 0.61818271  9.45090633 12.45793539]\n",
      " [ 0.65495225  9.81591036 12.18445028]]\n",
      "iqr 25% [[ 0.71130175 17.93597505 12.82372921]\n",
      " [ 0.70180222 16.13502773 13.33468115]\n",
      " [ 0.66081331 16.35469039 13.01915434]]\n",
      "nneurons [[151.  12.  86.]\n",
      " [151.  12.  86.]\n",
      " [151.  12.  86.]]\n"
     ]
    }
   ],
   "source": [
    "print(\"mean_firing_rates\",mean_firing_rates)\n",
    "print(\"sd_firing_rates\",sd_firing_rates)\n",
    "print(\"iqr 25%\",iqr)\n",
    "print(\"nneurons\",nneurons)"
   ]
  },
  {
   "cell_type": "code",
   "execution_count": null,
   "metadata": {},
   "outputs": [
    {
     "name": "stdout",
     "output_type": "stream",
     "text": [
      "Mean firing rates P VALUES, RatUDay2NSD\n",
      "SLEEP1, SLEEP2, SLEEP3 are evenyl chunked from POST\n",
      "1. Pyramidal cells\n",
      "SLEEP1 VS SLEEP2  0.5422113289654271\n",
      "SLEEP1 VS SLEEP3  0.7101296357072364\n",
      "SLEEP2 VS SLEEP3  0.8031944388696979\n"
     ]
    }
   ],
   "source": [
    "from scipy.stats import ttest_ind\n",
    "pyr03,pyr46,pyr79=frates[0][0],frates[3][0],frates[6][0]\n",
    "print(\"Mean firing rates P VALUES, RatUDay2NSD\")\n",
    "print(\"SLEEP1, SLEEP2, SLEEP3 are evenyl chunked from POST\")\n",
    "print(\"1. Pyramidal cells\")\n",
    "print(\"SLEEP1 VS SLEEP2 \", ttest_ind(pyr03,pyr46,equal_var=True).pvalue)\n",
    "print(\"SLEEP1 VS SLEEP3 \", ttest_ind(pyr03,pyr79,equal_var=True).pvalue)\n",
    "print(\"SLEEP2 VS SLEEP3 \", ttest_ind(pyr46,pyr79,equal_var=True).pvalue)\n",
    "# mean firing rates did not change across sleep chunks"
   ]
  },
  {
   "cell_type": "code",
   "execution_count": null,
   "metadata": {},
   "outputs": [
    {
     "ename": "NameError",
     "evalue": "name 'ccg01L' is not defined",
     "output_type": "error",
     "traceback": [
      "\u001b[0;31m---------------------------------------------------------------------------\u001b[0m",
      "\u001b[0;31mNameError\u001b[0m                                 Traceback (most recent call last)",
      "Cell \u001b[0;32mIn[7], line 2\u001b[0m\n\u001b[1;32m      1\u001b[0m \u001b[39m# locate to time bin\u001b[39;00m\n\u001b[0;32m----> 2\u001b[0m ccg \u001b[39m=\u001b[39m ccg01L[\u001b[39m0\u001b[39m,\u001b[39m1\u001b[39m]\n\u001b[1;32m      3\u001b[0m positive_bin \u001b[39m=\u001b[39m \u001b[39m0\u001b[39m \u001b[39m# we want to use the xth positive bin\u001b[39;00m\n\u001b[1;32m      4\u001b[0m zeroth_bin \u001b[39m=\u001b[39m ccg\u001b[39m.\u001b[39mshape[\u001b[39m0\u001b[39m]\u001b[39m/\u001b[39m\u001b[39m/\u001b[39m\u001b[39m2\u001b[39m\n",
      "\u001b[0;31mNameError\u001b[0m: name 'ccg01L' is not defined"
     ]
    }
   ],
   "source": [
    "# locate to time bin\n",
    "ccg = ccg01L[0,1]\n",
    "positive_bin = 0 # we want to use the xth positive bin\n",
    "zeroth_bin = ccg.shape[0]//2\n",
    "bin = zeroth_bin + positive_bin"
   ]
  },
  {
   "cell_type": "code",
   "execution_count": 8,
   "metadata": {},
   "outputs": [
    {
     "data": {
      "text/plain": [
       "array([array([8.03333333e-03, 7.73666667e-02, 9.76000000e-02, ...,\n",
       "              4.84985039e+04, 4.84985049e+04, 4.84985158e+04])    ,\n",
       "       array([8.22666667e-02, 1.17733333e-01, 1.48966667e-01, ...,\n",
       "              4.84984911e+04, 4.84985009e+04, 4.84985049e+04])    ],\n",
       "      dtype=object)"
      ]
     },
     "execution_count": 8,
     "metadata": {},
     "output_type": "execute_result"
    }
   ],
   "source": [
    "neurons.spiketrains[:2]"
   ]
  },
  {
   "cell_type": "code",
   "execution_count": 9,
   "metadata": {},
   "outputs": [
    {
     "data": {
      "text/plain": [
       "array([117,  60])"
      ]
     },
     "execution_count": 9,
     "metadata": {},
     "output_type": "execute_result"
    }
   ],
   "source": [
    "indices[:2]"
   ]
  },
  {
   "cell_type": "code",
   "execution_count": 7,
   "metadata": {},
   "outputs": [
    {
     "ename": "KeyboardInterrupt",
     "evalue": "",
     "output_type": "error",
     "traceback": [
      "\u001b[0;31m---------------------------------------------------------------------------\u001b[0m",
      "\u001b[0;31mKeyboardInterrupt\u001b[0m                         Traceback (most recent call last)",
      "Cell \u001b[0;32mIn[7], line 8\u001b[0m\n\u001b[1;32m      6\u001b[0m \u001b[38;5;66;03m# Jitter\u001b[39;00m\n\u001b[1;32m      7\u001b[0m start\u001b[38;5;241m=\u001b[39mtime\u001b[38;5;241m.\u001b[39mtime()\n\u001b[0;32m----> 8\u001b[0m ccg_jitters \u001b[38;5;241m=\u001b[39m \u001b[43mmsconn\u001b[49m\u001b[38;5;241;43m.\u001b[39;49m\u001b[43mccg_jitter\u001b[49m\u001b[43m(\u001b[49m\u001b[43mneurons\u001b[49m\u001b[38;5;241;43m=\u001b[39;49m\u001b[43mneurons\u001b[49m\u001b[43m,\u001b[49m\n\u001b[1;32m      9\u001b[0m \u001b[43m    \u001b[49m\u001b[43mneuron_inds\u001b[49m\u001b[38;5;241;43m=\u001b[39;49m\u001b[43m[\u001b[49m\u001b[43mindices\u001b[49m\u001b[43m[\u001b[49m\u001b[38;5;241;43m-\u001b[39;49m\u001b[38;5;241;43m2\u001b[39;49m\u001b[43m]\u001b[49m\u001b[43m,\u001b[49m\u001b[43mindices\u001b[49m\u001b[43m[\u001b[49m\u001b[38;5;241;43m-\u001b[39;49m\u001b[38;5;241;43m1\u001b[39;49m\u001b[43m]\u001b[49m\u001b[43m]\u001b[49m\u001b[43m,\u001b[49m\n\u001b[1;32m     10\u001b[0m \u001b[43m    \u001b[49m\u001b[43mSampleRate\u001b[49m\u001b[38;5;241;43m=\u001b[39;49m\u001b[38;5;241;43m30000\u001b[39;49m\u001b[43m,\u001b[49m\n\u001b[1;32m     11\u001b[0m \u001b[43m    \u001b[49m\u001b[43mbinsize\u001b[49m\u001b[38;5;241;43m=\u001b[39;49m\u001b[43mts\u001b[49m\u001b[43m,\u001b[49m\n\u001b[1;32m     12\u001b[0m \u001b[43m    \u001b[49m\u001b[43mduration\u001b[49m\u001b[38;5;241;43m=\u001b[39;49m\u001b[38;5;241;43m0.02\u001b[39;49m\u001b[43m,\u001b[49m\n\u001b[1;32m     13\u001b[0m \u001b[43m    \u001b[49m\u001b[43mjscale\u001b[49m\u001b[38;5;241;43m=\u001b[39;49m\u001b[38;5;241;43m0.005\u001b[39;49m\u001b[43m,\u001b[49m\n\u001b[1;32m     14\u001b[0m \u001b[43m    \u001b[49m\u001b[43mnjitter\u001b[49m\u001b[38;5;241;43m=\u001b[39;49m\u001b[38;5;241;43m200\u001b[39;49m\u001b[43m,\u001b[49m\n\u001b[1;32m     15\u001b[0m \u001b[43m    \u001b[49m\u001b[43malpha\u001b[49m\u001b[38;5;241;43m=\u001b[39;49m\u001b[38;5;241;43m0.05\u001b[39;49m\u001b[43m,\u001b[49m\n\u001b[1;32m     16\u001b[0m \u001b[43m    \u001b[49m\u001b[43muse_cupy\u001b[49m\u001b[38;5;241;43m=\u001b[39;49m\u001b[38;5;28;43;01mTrue\u001b[39;49;00m\u001b[43m,\u001b[49m\n\u001b[1;32m     17\u001b[0m \u001b[43m)\u001b[49m\n\u001b[1;32m     18\u001b[0m \u001b[38;5;66;03m# Jitter was really slow when pairwise. takes 20s for 10 jitters\u001b[39;00m\n\u001b[1;32m     19\u001b[0m end\u001b[38;5;241m=\u001b[39mtime\u001b[38;5;241m.\u001b[39mtime()\n",
      "File \u001b[0;32m~/Documents/NeuroPy/neuropy/analyses/ms_connectivity.py:163\u001b[0m, in \u001b[0;36mccg_jitter\u001b[0;34m(neurons, neuron_inds, SampleRate, binsize, duration, jscale, njitter, alpha, use_cupy)\u001b[0m\n\u001b[1;32m    152\u001b[0m neuronsj \u001b[38;5;241m=\u001b[39m add_jitter(neurons\u001b[38;5;241m=\u001b[39mneurons,\n\u001b[1;32m    153\u001b[0m         njitter\u001b[38;5;241m=\u001b[39mnjitter,\n\u001b[1;32m    154\u001b[0m         neuron_inds\u001b[38;5;241m=\u001b[39mneuron_inds,\n\u001b[1;32m    155\u001b[0m         jscale\u001b[38;5;241m=\u001b[39mjscale,\n\u001b[1;32m    156\u001b[0m         use_cupy\u001b[38;5;241m=\u001b[39muse_cupy,\n\u001b[1;32m    157\u001b[0m     )\n\u001b[1;32m    158\u001b[0m     \u001b[38;5;66;03m# Jitter spikes in second cluster\u001b[39;00m\n\u001b[1;32m    159\u001b[0m \u001b[38;5;66;03m# NRK TODO: start debugging here!\u001b[39;00m\n\u001b[1;32m    160\u001b[0m \u001b[38;5;66;03m# spikes_sorted, clus_sorted = ccg_spike_assemble(spike_trains)\u001b[39;00m\n\u001b[1;32m    161\u001b[0m \n\u001b[1;32m    162\u001b[0m \u001b[38;5;66;03m# re-run ccg\u001b[39;00m\n\u001b[0;32m--> 163\u001b[0m ccg_all\u001b[38;5;241m=\u001b[39m\u001b[43mcorrelations\u001b[49m\u001b[38;5;241;43m.\u001b[39;49m\u001b[43mspike_correlations_2group\u001b[49m\u001b[43m(\u001b[49m\n\u001b[1;32m    164\u001b[0m \u001b[43m        \u001b[49m\u001b[43mneurons\u001b[49m\u001b[38;5;241;43m=\u001b[39;49m\u001b[43mneuronsj\u001b[49m\u001b[43m,\u001b[49m\n\u001b[1;32m    165\u001b[0m \u001b[43m        \u001b[49m\u001b[43mref_neuron_inds\u001b[49m\u001b[38;5;241;43m=\u001b[39;49m\u001b[38;5;241;43m0\u001b[39;49m\u001b[43m,\u001b[49m\n\u001b[1;32m    166\u001b[0m \u001b[43m        \u001b[49m\u001b[43mneuron_inds\u001b[49m\u001b[38;5;241;43m=\u001b[39;49m\u001b[38;5;241;43m1\u001b[39;49m\u001b[38;5;241;43m+\u001b[39;49m\u001b[43mnp\u001b[49m\u001b[38;5;241;43m.\u001b[39;49m\u001b[43marange\u001b[49m\u001b[43m(\u001b[49m\u001b[43mnjitter\u001b[49m\u001b[38;5;241;43m+\u001b[39;49m\u001b[38;5;241;43m1\u001b[39;49m\u001b[43m)\u001b[49m\u001b[43m,\u001b[49m\n\u001b[1;32m    167\u001b[0m \u001b[43m        \u001b[49m\u001b[43msample_rate\u001b[49m\u001b[38;5;241;43m=\u001b[39;49m\u001b[43mSampleRate\u001b[49m\u001b[43m,\u001b[49m\n\u001b[1;32m    168\u001b[0m \u001b[43m        \u001b[49m\u001b[43mbin_size\u001b[49m\u001b[38;5;241;43m=\u001b[39;49m\u001b[43mbinsize\u001b[49m\u001b[43m,\u001b[49m\n\u001b[1;32m    169\u001b[0m \u001b[43m        \u001b[49m\u001b[43mwindow_size\u001b[49m\u001b[38;5;241;43m=\u001b[39;49m\u001b[43mduration\u001b[49m\u001b[43m,\u001b[49m\n\u001b[1;32m    170\u001b[0m \u001b[43m        \u001b[49m\u001b[43muse_cupy\u001b[49m\u001b[38;5;241;43m=\u001b[39;49m\u001b[43muse_cupy\u001b[49m\u001b[43m,\u001b[49m\n\u001b[1;32m    171\u001b[0m \u001b[43m        \u001b[49m\u001b[43msymmetrize\u001b[49m\u001b[38;5;241;43m=\u001b[39;49m\u001b[38;5;28;43;01mFalse\u001b[39;49;00m\u001b[43m,\u001b[49m\n\u001b[1;32m    172\u001b[0m \u001b[43m    \u001b[49m\u001b[43m)\u001b[49m[\u001b[38;5;241m0\u001b[39m] \u001b[38;5;66;03m# get row1 since there's only one reference neuron\u001b[39;00m\n\u001b[1;32m    174\u001b[0m \u001b[38;5;66;03m# # Debugging\u001b[39;00m\n\u001b[1;32m    175\u001b[0m \u001b[38;5;66;03m# debug = correlations.spike_correlations(\u001b[39;00m\n\u001b[1;32m    176\u001b[0m \u001b[38;5;66;03m#         neurons=neuronsj,\u001b[39;00m\n\u001b[0;32m   (...)\u001b[0m\n\u001b[1;32m    189\u001b[0m \u001b[38;5;66;03m# ccg_all=np.array(ccg_all)\u001b[39;00m\n\u001b[1;32m    190\u001b[0m \u001b[38;5;66;03m# P value is where the real data is ranked among fake data; conservative when there are ties\u001b[39;00m\n\u001b[1;32m    191\u001b[0m pval \u001b[38;5;241m=\u001b[39m np\u001b[38;5;241m.\u001b[39margsort(np\u001b[38;5;241m.\u001b[39margsort(\u001b[38;5;241m-\u001b[39mccg_all,axis\u001b[38;5;241m=\u001b[39m\u001b[38;5;241m0\u001b[39m,kind\u001b[38;5;241m=\u001b[39m\u001b[38;5;124m\"\u001b[39m\u001b[38;5;124mstable\u001b[39m\u001b[38;5;124m\"\u001b[39m),axis\u001b[38;5;241m=\u001b[39m\u001b[38;5;241m0\u001b[39m)[\u001b[38;5;241m0\u001b[39m]\u001b[38;5;241m/\u001b[39mnjitter\n",
      "File \u001b[0;32m~/Documents/NeuroPy/neuropy/analyses/correlations.py:644\u001b[0m, in \u001b[0;36mspike_correlations_2group\u001b[0;34m(neurons, ref_neuron_inds, neuron_inds, sample_rate, bin_size, window_size, symmetrize, use_cupy)\u001b[0m\n\u001b[1;32m    633\u001b[0m \u001b[38;5;28;01mdef\u001b[39;00m\u001b[38;5;250m \u001b[39m\u001b[38;5;21mspike_correlations_2group\u001b[39m(\n\u001b[1;32m    634\u001b[0m         neurons,\n\u001b[1;32m    635\u001b[0m         ref_neuron_inds,\n\u001b[0;32m   (...)\u001b[0m\n\u001b[1;32m    641\u001b[0m         use_cupy\u001b[38;5;241m=\u001b[39m\u001b[38;5;28;01mFalse\u001b[39;00m\n\u001b[1;32m    642\u001b[0m ):\n\u001b[1;32m    643\u001b[0m     \u001b[38;5;28;01mif\u001b[39;00m use_cupy:\n\u001b[0;32m--> 644\u001b[0m         correlograms \u001b[38;5;241m=\u001b[39m \u001b[43mcp_spike_correlations_2groups\u001b[49m\u001b[43m(\u001b[49m\u001b[43mneurons\u001b[49m\u001b[43m,\u001b[49m\u001b[43m \u001b[49m\u001b[43mref_neuron_inds\u001b[49m\u001b[43m,\u001b[49m\u001b[43m \u001b[49m\u001b[43mneuron_inds\u001b[49m\u001b[43m,\u001b[49m\u001b[43m \u001b[49m\u001b[43msample_rate\u001b[49m\u001b[38;5;241;43m=\u001b[39;49m\u001b[43msample_rate\u001b[49m\u001b[43m,\u001b[49m\u001b[43m \u001b[49m\u001b[43mbin_size\u001b[49m\u001b[38;5;241;43m=\u001b[39;49m\u001b[43mbin_size\u001b[49m\u001b[43m,\u001b[49m\u001b[43m \u001b[49m\u001b[43mwindow_size\u001b[49m\u001b[38;5;241;43m=\u001b[39;49m\u001b[43mwindow_size\u001b[49m\u001b[43m,\u001b[49m\u001b[43m \u001b[49m\u001b[43msymmetrize\u001b[49m\u001b[38;5;241;43m=\u001b[39;49m\u001b[43msymmetrize\u001b[49m\u001b[43m)\u001b[49m\n\u001b[1;32m    645\u001b[0m     \u001b[38;5;28;01melse\u001b[39;00m:\n\u001b[1;32m    646\u001b[0m         \u001b[38;5;28;01mpass\u001b[39;00m\n",
      "File \u001b[0;32m~/Documents/NeuroPy/neuropy/analyses/correlations.py:590\u001b[0m, in \u001b[0;36mcp_spike_correlations_2groups\u001b[0;34m(neurons, ref_neuron_inds, neuron_inds, sample_rate, bin_size, window_size, symmetrize)\u001b[0m\n\u001b[1;32m    585\u001b[0m correlograms \u001b[38;5;241m=\u001b[39m _cp_create_correlograms_array_2groups(N0, N1, winsize_bins)\n\u001b[1;32m    587\u001b[0m \u001b[38;5;66;03m# The loop continues as long as there is at least one spike with\u001b[39;00m\n\u001b[1;32m    588\u001b[0m \u001b[38;5;66;03m# a matching spike.\u001b[39;00m\n\u001b[1;32m    589\u001b[0m \u001b[38;5;66;03m# SL shift walks over spike indices, not time lags. shift+=1 discards the last spike from the train.\u001b[39;00m\n\u001b[0;32m--> 590\u001b[0m \u001b[38;5;28;01mwhile\u001b[39;00m mask[:\u001b[38;5;241m-\u001b[39mshift]\u001b[38;5;241m.\u001b[39many():\n\u001b[1;32m    591\u001b[0m     \u001b[38;5;66;03m# Number of time samples between spike i and spike i+shift.\u001b[39;00m\n\u001b[1;32m    592\u001b[0m     spike_diff \u001b[38;5;241m=\u001b[39m _cp_diff_shifted(spike_samples, shift)\n\u001b[1;32m    594\u001b[0m     \u001b[38;5;66;03m# Binarize the delays between spike i and spike i+shift.\u001b[39;00m\n\u001b[1;32m    595\u001b[0m     \u001b[38;5;66;03m# SL spike_diff_b is which bin the spike_diff falls in \u001b[39;00m\n",
      "\u001b[0;31mKeyboardInterrupt\u001b[0m: "
     ]
    }
   ],
   "source": [
    "import neuropy.analyses.ms_connectivity as msconn\n",
    "# jitter based synchrony index\n",
    "ts = 0.001 # bin size\n",
    "tj = 0.005 # jitter timescale\n",
    "\n",
    "# Jitter\n",
    "start=time.time()\n",
    "ccg_jitters = msconn.ccg_jitter(neurons=neurons,\n",
    "    neuron_inds=[indices[-2],indices[-1]],\n",
    "    SampleRate=30000,\n",
    "    binsize=ts,\n",
    "    duration=0.02,\n",
    "    jscale=0.005,\n",
    "    njitter=200,\n",
    "    alpha=0.05,\n",
    "    use_cupy=True,\n",
    ")\n",
    "# Jitter was really slow when pairwise. takes 20s for 10 jitters\n",
    "end=time.time()\n",
    "print(end-start)\n",
    "# The new version runs ccg between all jitters - \n",
    "# 1000 jitters takes forever (>2m)\n",
    "# 500 jitters takes 20s\n",
    "# 100 jitters - 1.2s\n",
    "# 200 jitters - 3s\n",
    "# Still inefficient because we're calculating pairwise between jitters as well\n",
    "#36096 2041913 58927 3377820\n"
   ]
  },
  {
   "cell_type": "code",
   "execution_count": null,
   "metadata": {},
   "outputs": [
    {
     "name": "stdout",
     "output_type": "stream",
     "text": [
      "shift 76\n",
      "len_indices 377907\n",
      "5.612642288208008\n"
     ]
    }
   ],
   "source": [
    "import neuropy.analyses.ms_connectivity as msconn\n",
    "# jitter based synchrony index\n",
    "ts = 0.001 # bin size\n",
    "tj = 0.005 # jitter timescale\n",
    "\n",
    "# Jitter\n",
    "start=time.time()\n",
    "ccg_jitters = msconn.ccg_jitter(neurons=neurons,\n",
    "    neuron_inds=[indices[-2],indices[-1]],\n",
    "    SampleRate=30000,\n",
    "    binsize=ts,\n",
    "    duration=0.02,\n",
    "    jscale=0.005,\n",
    "    njitter=200,\n",
    "    alpha=0.05,\n",
    "    use_cupy=True,\n",
    ")\n",
    "# Jitter was really slow when pairwise. takes 20s for 10 jitters\n",
    "end=time.time()\n",
    "print(end-start)\n",
    "# The new version runs ccg between all jitters - \n",
    "# 1000 jitters takes forever (>2m)\n",
    "# 500 jitters takes 20s\n",
    "# 100 jitters - 1.2s\n",
    "# 200 jitters - 3s\n",
    "# Still inefficient because we're calculating pairwise between jitters as well\n"
   ]
  },
  {
   "cell_type": "code",
   "execution_count": null,
   "metadata": {},
   "outputs": [
    {
     "name": "stdout",
     "output_type": "stream",
     "text": [
      "shift 164\n",
      "30.18950343132019\n"
     ]
    }
   ],
   "source": [
    "import neuropy.analyses.ms_connectivity as msconn\n",
    "# jitter based synchrony index\n",
    "ts = 0.001 # bin size\n",
    "tj = 0.005 # jitter timescale\n",
    "\n",
    "# Jitter\n",
    "start=time.time()\n",
    "ccg_jitters = msconn.ccg_jitter(neurons=neurons,\n",
    "    neuron_inds=[indices[0],indices[1]],\n",
    "    SampleRate=30000,\n",
    "    binsize=ts,\n",
    "    duration=0.02,\n",
    "    jscale=0.005,\n",
    "    njitter=200,\n",
    "    alpha=0.05,\n",
    "    use_cupy=True,\n",
    ")\n",
    "# Jitter was really slow when pairwise. takes 20s for 10 jitters\n",
    "end=time.time()\n",
    "print(end-start)\n",
    "# The new version runs ccg between all jitters - \n",
    "# 1000 jitters takes forever (>2m)\n",
    "# 500 jitters takes 20s\n",
    "# 100 jitters - 1.2s\n",
    "# 200 jitters - 3s\n",
    "# Still inefficient because we're calculating pairwise between jitters as well"
   ]
  },
  {
   "cell_type": "code",
   "execution_count": null,
   "metadata": {},
   "outputs": [
    {
     "name": "stdout",
     "output_type": "stream",
     "text": [
      "shift 229\n",
      "[[0 0 0 ... 0 0 0]\n",
      " [0 0 0 ... 0 0 0]\n",
      " [0 0 0 ... 0 0 0]\n",
      " ...\n",
      " [0 0 0 ... 0 0 0]\n",
      " [0 0 0 ... 0 0 0]\n",
      " [0 0 0 ... 0 0 0]]\n",
      "5.560903787612915\n"
     ]
    }
   ],
   "source": [
    "import neuropy.analyses.ms_connectivity as msconn\n",
    "# jitter based synchrony index\n",
    "ts = 0.0005 # bin size\n",
    "tj = 0.005 # jitter timescale\n",
    "window_size = 0.02\n",
    "#50,-14\n",
    "# Jitter\n",
    "start=time.time()\n",
    "ccg_jitters = msconn.ccg_jitter(neurons=neurons,\n",
    "    neuron_inds=[indices[-14],indices[50]],\n",
    "    SampleRate=30000,\n",
    "    binsize=ts,\n",
    "    duration=window_size,\n",
    "    jscale=ts*5,\n",
    "    njitter=100,\n",
    "    alpha=0.05,\n",
    "    use_cupy=True,\n",
    ")\n",
    "# Jitter was really slow when pairwise. takes 20s for 10 jitters\n",
    "end=time.time()\n",
    "print(end-start)\n",
    "# The new version runs ccg between all jitters - \n",
    "# 1000 jitters takes forever (>2m)\n",
    "# 500 jitters takes 20s\n",
    "# 100 jitters - 1.2s\n",
    "# 200 jitters - 3s\n",
    "# Still inefficient because we're calculating pairwise between jitters as well"
   ]
  },
  {
   "cell_type": "code",
   "execution_count": null,
   "metadata": {},
   "outputs": [],
   "source": [
    "bin_size = ts\n"
   ]
  },
  {
   "cell_type": "code",
   "execution_count": 16,
   "metadata": {},
   "outputs": [
    {
     "data": {
      "text/plain": [
       "(array([[939, 528, 459, ..., 426, 398, 430],\n",
       "        [446, 426, 444, ..., 410, 424, 426],\n",
       "        [423, 413, 433, ..., 444, 437, 422],\n",
       "        ...,\n",
       "        [414, 421, 480, ..., 403, 434, 448],\n",
       "        [419, 401, 452, ..., 404, 431, 411],\n",
       "        [432, 403, 443, ..., 425, 412, 430]], dtype=int32),\n",
       " array([0.  , 0.  , 0.08, 0.74, 0.48, 0.45, 0.  , 0.17, 0.05, 0.27, 0.3 ,\n",
       "        0.03, 0.  , 0.72, 0.04, 0.01, 0.61, 0.76, 0.27, 0.8 , 0.28]),\n",
       " array([ True,  True,  True, False, False, False,  True, False, False,\n",
       "        False, False,  True,  True, False, False,  True, False, False,\n",
       "        False, False, False]))"
      ]
     },
     "execution_count": 16,
     "metadata": {},
     "output_type": "execute_result"
    }
   ],
   "source": [
    "ccg_jitters"
   ]
  },
  {
   "cell_type": "code",
   "execution_count": null,
   "metadata": {},
   "outputs": [
    {
     "data": {
      "image/png": "[encoded data removed]",
      "text/plain": [
       "<Figure size 640x480 with 1 Axes>"
      ]
     },
     "metadata": {},
     "output_type": "display_data"
    }
   ],
   "source": [
    "# example result - submillisecond synchrony\n",
    "import seaborn as sns\n",
    "_, ax = plt.subplots()\n",
    "bins = np.arange(0, window_size / 2 + bin_size, bin_size)\n",
    "ax.bar(bins, ccg_jitters[0][0], width=bin_size)\n",
    "ax.set_xlabel(\"Time (s)\")\n",
    "ax.set_ylabel(\"Count\")\n",
    "ax.set_title(\"CCG between two highest firing neurons\")\n",
    "sns.despine(ax=ax)"
   ]
  },
  {
   "cell_type": "code",
   "execution_count": null,
   "metadata": {},
   "outputs": [
    {
     "data": {
      "text/plain": [
       "(3028035,)"
      ]
     },
     "execution_count": 9,
     "metadata": {},
     "output_type": "execute_result"
    }
   ],
   "source": [
    "neurons.spiketrains[indices[-1]].shape"
   ]
  },
  {
   "cell_type": "code",
   "execution_count": null,
   "metadata": {},
   "outputs": [
    {
     "data": {
      "text/plain": [
       "array([0.834, 0.626, 0.782, 0.952, 0.714, 0.478, 0.168, 0.174, 0.906,\n",
       "       0.932, 0.878])"
      ]
     },
     "execution_count": 24,
     "metadata": {},
     "output_type": "execute_result"
    }
   ],
   "source": [
    "ccg_jitters[1]"
   ]
  },
  {
   "cell_type": "code",
   "execution_count": null,
   "metadata": {},
   "outputs": [],
   "source": [
    "bin=7"
   ]
  },
  {
   "cell_type": "code",
   "execution_count": null,
   "metadata": {},
   "outputs": [],
   "source": [
    "# JBSI\n",
    "beta = tj/(tj-ts) if tj/ts>2 else 2 # noramization constant\n",
    "N = ccg[bin] # observed number of counts in the peak bin\n",
    "Nj = np.mean(ccgj[:,bin])/njitter # number of counts averaged over all jitters\n",
    "n1 = indices[1] # spike count of lower firing cell\n",
    "jbsi = beta * (N-Nj)/n1"
   ]
  },
  {
   "cell_type": "code",
   "execution_count": null,
   "metadata": {},
   "outputs": [
    {
     "data": {
      "text/plain": [
       "1.888049336650083"
      ]
     },
     "execution_count": 19,
     "metadata": {},
     "output_type": "execute_result"
    }
   ],
   "source": [
    "jbsi"
   ]
  },
  {
   "cell_type": "code",
   "execution_count": null,
   "metadata": {},
   "outputs": [],
   "source": [
    "short_neurons = neurons.time_slice(t_start=10000,t_stop=10010)"
   ]
  },
  {
   "cell_type": "code",
   "execution_count": null,
   "metadata": {},
   "outputs": [
    {
     "name": "stdout",
     "output_type": "stream",
     "text": [
      "7\n",
      "0\n",
      "0\n",
      "0\n",
      "shift 3\n"
     ]
    },
    {
     "data": {
      "text/plain": [
       "array([[[0, 0, 0],\n",
       "        [0, 0, 0],\n",
       "        [0, 0, 0]]], dtype=int32)"
      ]
     },
     "execution_count": 8,
     "metadata": {},
     "output_type": "execute_result"
    }
   ],
   "source": [
    "correlations.cp_spike_correlations_2groups(neurons=short_neurons,\n",
    "                                           ref_neuron_inds=0,\n",
    "            neuron_inds=indices[-110:-107],\n",
    "            sample_rate=neurons.sampling_rate,\n",
    "            bin_size=0.001,\n",
    "            window_size=0.005,\n",
    ")\n",
    "\n",
    "# 5 bins in 5ms window\n",
    "# 30 samples per 1ms bin\n",
    "# only ran two steps (shift=1,2) before stop\n",
    "# neuron0=30, neuron1=216, neuron2=235\n"
   ]
  },
  {
   "cell_type": "code",
   "execution_count": null,
   "metadata": {},
   "outputs": [
    {
     "data": {
      "text/plain": [
       "array([[[1., 1.],\n",
       "        [1., 1.]],\n",
       "\n",
       "       [[1., 1.],\n",
       "        [1., 1.]]])"
      ]
     },
     "execution_count": 14,
     "metadata": {},
     "output_type": "execute_result"
    }
   ],
   "source": [
    "import cupy as cp\n",
    "cp.ones((2,2,3))[..., 1:]"
   ]
  },
  {
   "cell_type": "code",
   "execution_count": null,
   "metadata": {},
   "outputs": [
    {
     "data": {
      "text/plain": [
       "array([ 0,  1,  2,  3,  4,  5,  6,  7,  8,  9, 10, 11])"
      ]
     },
     "execution_count": 16,
     "metadata": {},
     "output_type": "execute_result"
    }
   ],
   "source": [
    "np.arange(njitter+2)"
   ]
  },
  {
   "cell_type": "code",
   "execution_count": null,
   "metadata": {},
   "outputs": [
    {
     "data": {
      "text/plain": [
       "array([ 1,  2,  3,  4,  5,  6,  7,  8,  9, 10, 11])"
      ]
     },
     "execution_count": 17,
     "metadata": {},
     "output_type": "execute_result"
    }
   ],
   "source": [
    "np.arange(njitter+1)+1"
   ]
  },
  {
   "cell_type": "code",
   "execution_count": null,
   "metadata": {},
   "outputs": [],
   "source": []
  }
 ],
 "metadata": {
  "kernelspec": {
   "display_name": "NeuroPy2",
   "language": "python",
   "name": "python3"
  },
  "language_info": {
   "codemirror_mode": {
    "name": "ipython",
    "version": 3
   },
   "file_extension": ".py",
   "mimetype": "text/x-python",
   "name": "python",
   "nbconvert_exporter": "python",
   "pygments_lexer": "ipython3",
   "version": "3.11.13"
  },
  "orig_nbformat": 4
 },
 "nbformat": 4,
 "nbformat_minor": 2
}
